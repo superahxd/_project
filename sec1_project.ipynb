{
  "nbformat": 4,
  "nbformat_minor": 0,
  "metadata": {
    "colab": {
      "name": "sec1_project.ipynb",
      "provenance": [],
      "include_colab_link": true
    },
    "kernelspec": {
      "name": "python3",
      "display_name": "Python 3"
    },
    "language_info": {
      "name": "python"
    }
  },
  "cells": [
    {
      "cell_type": "markdown",
      "metadata": {
        "id": "view-in-github",
        "colab_type": "text"
      },
      "source": [
        "<a href=\"https://colab.research.google.com/github/superahxd/sec1_project/blob/main/sec1_project.ipynb\" target=\"_parent\"><img src=\"https://colab.research.google.com/assets/colab-badge.svg\" alt=\"Open In Colab\"/></a>"
      ]
    },
    {
      "cell_type": "markdown",
      "metadata": {
        "id": "3omE7ShCbMyh"
      },
      "source": [
        ""
      ]
    },
    {
      "cell_type": "markdown",
      "metadata": {
        "id": "jFNLaUdmvWkl"
      },
      "source": [
        "#💥GOAL\n",
        "\n",
        "다음 분기에 어떤 게임을 설계해야 할까"
      ]
    },
    {
      "cell_type": "markdown",
      "metadata": {
        "id": "kuoVb_dtvHv9"
      },
      "source": [
        "1. 지역에 따라서 선호하는 게임 장르가 다를까\n",
        "2. 연도별 게임의 트렌드가 있을까\n",
        "3. 출고량이 높은 게임에 대한 분석 및 시각화 프로세스"
      ]
    },
    {
      "cell_type": "markdown",
      "metadata": {
        "id": "4Nch-gGju1Eh"
      },
      "source": [
        "# 🕹️ Data Description\n",
        "Name : 게임의 이름입니다.\n",
        "\n",
        "Platform : 게임이 지원되는 플랫폼의 이름입니다.\n",
        "\n",
        "Year : 게임이 출시된 연도입니다.\n",
        "\n",
        "Genre : 게임의 장르입니다.\n",
        "\n",
        "Publisher : 게임을 제작한 회사입니다.\n",
        "\n",
        "NA_Sales : 북미지역에서의 출고량입니다.\n",
        "\n",
        "EU_Sales : 유럽지역에서의 출고량입니다.\n",
        "\n",
        "JP_Sales : 일본지역에서의 출고량입니다.\n",
        "\n",
        "Other_Sales : 기타지역에서의 출고량입니다."
      ]
    },
    {
      "cell_type": "code",
      "metadata": {
        "id": "gquRkULLSdWN"
      },
      "source": [
        "import pandas as pd\n",
        "\n",
        "vgames = pd.read_csv('/content/vgames2.csv')"
      ],
      "execution_count": 622,
      "outputs": []
    },
    {
      "cell_type": "code",
      "metadata": {
        "colab": {
          "base_uri": "https://localhost:8080/",
          "height": 202
        },
        "id": "aH4ZCO4gbMc4",
        "outputId": "358acef0-f770-4bc5-9717-621923d4ebea"
      },
      "source": [
        "vgames.head()"
      ],
      "execution_count": 623,
      "outputs": [
        {
          "output_type": "execute_result",
          "data": {
            "text/html": [
              "<div>\n",
              "<style scoped>\n",
              "    .dataframe tbody tr th:only-of-type {\n",
              "        vertical-align: middle;\n",
              "    }\n",
              "\n",
              "    .dataframe tbody tr th {\n",
              "        vertical-align: top;\n",
              "    }\n",
              "\n",
              "    .dataframe thead th {\n",
              "        text-align: right;\n",
              "    }\n",
              "</style>\n",
              "<table border=\"1\" class=\"dataframe\">\n",
              "  <thead>\n",
              "    <tr style=\"text-align: right;\">\n",
              "      <th></th>\n",
              "      <th>Unnamed: 0</th>\n",
              "      <th>Name</th>\n",
              "      <th>Platform</th>\n",
              "      <th>Year</th>\n",
              "      <th>Genre</th>\n",
              "      <th>Publisher</th>\n",
              "      <th>NA_Sales</th>\n",
              "      <th>EU_Sales</th>\n",
              "      <th>JP_Sales</th>\n",
              "      <th>Other_Sales</th>\n",
              "    </tr>\n",
              "  </thead>\n",
              "  <tbody>\n",
              "    <tr>\n",
              "      <th>0</th>\n",
              "      <td>1</td>\n",
              "      <td>Candace Kane's Candy Factory</td>\n",
              "      <td>DS</td>\n",
              "      <td>2008.0</td>\n",
              "      <td>Action</td>\n",
              "      <td>Destineer</td>\n",
              "      <td>0.04</td>\n",
              "      <td>0</td>\n",
              "      <td>0</td>\n",
              "      <td>0</td>\n",
              "    </tr>\n",
              "    <tr>\n",
              "      <th>1</th>\n",
              "      <td>2</td>\n",
              "      <td>The Munchables</td>\n",
              "      <td>Wii</td>\n",
              "      <td>2009.0</td>\n",
              "      <td>Action</td>\n",
              "      <td>Namco Bandai Games</td>\n",
              "      <td>0.17</td>\n",
              "      <td>0</td>\n",
              "      <td>0</td>\n",
              "      <td>0.01</td>\n",
              "    </tr>\n",
              "    <tr>\n",
              "      <th>2</th>\n",
              "      <td>3</td>\n",
              "      <td>Otome wa Oanesama Boku ni Koi Shiteru Portable</td>\n",
              "      <td>PSP</td>\n",
              "      <td>2010.0</td>\n",
              "      <td>Adventure</td>\n",
              "      <td>Alchemist</td>\n",
              "      <td>0</td>\n",
              "      <td>0</td>\n",
              "      <td>0.02</td>\n",
              "      <td>0</td>\n",
              "    </tr>\n",
              "    <tr>\n",
              "      <th>3</th>\n",
              "      <td>4</td>\n",
              "      <td>Deal or No Deal: Special Edition</td>\n",
              "      <td>DS</td>\n",
              "      <td>2010.0</td>\n",
              "      <td>Misc</td>\n",
              "      <td>Zoo Games</td>\n",
              "      <td>0.04</td>\n",
              "      <td>0</td>\n",
              "      <td>0</td>\n",
              "      <td>0</td>\n",
              "    </tr>\n",
              "    <tr>\n",
              "      <th>4</th>\n",
              "      <td>5</td>\n",
              "      <td>Ben 10 Ultimate Alien: Cosmic Destruction</td>\n",
              "      <td>PS3</td>\n",
              "      <td>2010.0</td>\n",
              "      <td>Platform</td>\n",
              "      <td>D3Publisher</td>\n",
              "      <td>0.12</td>\n",
              "      <td>0.09</td>\n",
              "      <td>0</td>\n",
              "      <td>0.04</td>\n",
              "    </tr>\n",
              "  </tbody>\n",
              "</table>\n",
              "</div>"
            ],
            "text/plain": [
              "   Unnamed: 0  ... Other_Sales\n",
              "0           1  ...           0\n",
              "1           2  ...        0.01\n",
              "2           3  ...           0\n",
              "3           4  ...           0\n",
              "4           5  ...        0.04\n",
              "\n",
              "[5 rows x 10 columns]"
            ]
          },
          "metadata": {
            "tags": []
          },
          "execution_count": 623
        }
      ]
    },
    {
      "cell_type": "code",
      "metadata": {
        "id": "e9vRMWBwt1kj"
      },
      "source": [
        "def value_to_float(x):\n",
        "    if type(x) == float or type(x) == int:\n",
        "        return x\n",
        "    if 'K' in x:\n",
        "        if len(x) > 1:\n",
        "            return float(x.replace('K', '')) * 1000\n",
        "        return 1000.0\n",
        "    if 'M' in x:\n",
        "        if len(x) > 1:\n",
        "            return float(x.replace('M', '')) * 1000000\n",
        "        return 1000000.0\n",
        "    return float(x)\n",
        "\n",
        "\n",
        "vgames['NA_Sales']=vgames['NA_Sales'].apply(value_to_float)\n",
        "vgames['EU_Sales']=vgames['EU_Sales'].apply(value_to_float)\n",
        "vgames['JP_Sales']=vgames['JP_Sales'].apply(value_to_float)\n",
        "vgames['Other_Sales']=vgames['Other_Sales'].apply(value_to_float)"
      ],
      "execution_count": 624,
      "outputs": []
    },
    {
      "cell_type": "code",
      "metadata": {
        "id": "KxnOZMN0dhxM"
      },
      "source": [
        "def million(x):\n",
        " if x <= 100:\n",
        "   return x * 1000000.0\n",
        " else: return x\n",
        "\n",
        "vgames['NA_Sales']=vgames['NA_Sales'].apply(million)\n",
        "vgames['EU_Sales']=vgames['EU_Sales'].apply(million)\n",
        "vgames['JP_Sales']=vgames['JP_Sales'].apply(million)\n",
        "vgames['Other_Sales']=vgames['Other_Sales'].apply(million)"
      ],
      "execution_count": 625,
      "outputs": []
    },
    {
      "cell_type": "code",
      "metadata": {
        "id": "Ae314imS4Ek4"
      },
      "source": [
        "def division(x):\n",
        "  if x > 0:\n",
        "    return x / 1000\n",
        "  else: return x\n",
        "\n",
        "vgames['NA_Sales']=vgames['NA_Sales'].apply(division)\n",
        "vgames['EU_Sales']=vgames['EU_Sales'].apply(division)\n",
        "vgames['JP_Sales']=vgames['JP_Sales'].apply(division)\n",
        "vgames['Other_Sales']=vgames['Other_Sales'].apply(division)"
      ],
      "execution_count": 626,
      "outputs": []
    },
    {
      "cell_type": "code",
      "metadata": {
        "id": "-YC2SHL5_AuI"
      },
      "source": [
        "def year(x):\n",
        "  if x >= 80 and x <= 100:\n",
        "   return x + 1900\n",
        "  elif x < 80:\n",
        "   return x + 2000\n",
        "  else : return float(x)\n",
        "\n",
        "vgames['Year']=vgames['Year'].apply(year)"
      ],
      "execution_count": 627,
      "outputs": []
    },
    {
      "cell_type": "code",
      "metadata": {
        "colab": {
          "base_uri": "https://localhost:8080/"
        },
        "id": "_mbxgvCSQUoO",
        "outputId": "90622e2c-b6ba-49ed-c466-82a2216c4964"
      },
      "source": [
        "vgames['Year'].isna().sum()"
      ],
      "execution_count": 628,
      "outputs": [
        {
          "output_type": "execute_result",
          "data": {
            "text/plain": [
              "271"
            ]
          },
          "metadata": {
            "tags": []
          },
          "execution_count": 628
        }
      ]
    },
    {
      "cell_type": "code",
      "metadata": {
        "colab": {
          "base_uri": "https://localhost:8080/",
          "height": 202
        },
        "id": "gaHD0FDeQflg",
        "outputId": "22e268d3-a792-4e3d-f29c-720f6c8b6c83"
      },
      "source": [
        "vgames=vgames.iloc[:,1:]\n",
        "vgames.head()"
      ],
      "execution_count": 629,
      "outputs": [
        {
          "output_type": "execute_result",
          "data": {
            "text/html": [
              "<div>\n",
              "<style scoped>\n",
              "    .dataframe tbody tr th:only-of-type {\n",
              "        vertical-align: middle;\n",
              "    }\n",
              "\n",
              "    .dataframe tbody tr th {\n",
              "        vertical-align: top;\n",
              "    }\n",
              "\n",
              "    .dataframe thead th {\n",
              "        text-align: right;\n",
              "    }\n",
              "</style>\n",
              "<table border=\"1\" class=\"dataframe\">\n",
              "  <thead>\n",
              "    <tr style=\"text-align: right;\">\n",
              "      <th></th>\n",
              "      <th>Name</th>\n",
              "      <th>Platform</th>\n",
              "      <th>Year</th>\n",
              "      <th>Genre</th>\n",
              "      <th>Publisher</th>\n",
              "      <th>NA_Sales</th>\n",
              "      <th>EU_Sales</th>\n",
              "      <th>JP_Sales</th>\n",
              "      <th>Other_Sales</th>\n",
              "    </tr>\n",
              "  </thead>\n",
              "  <tbody>\n",
              "    <tr>\n",
              "      <th>0</th>\n",
              "      <td>Candace Kane's Candy Factory</td>\n",
              "      <td>DS</td>\n",
              "      <td>2008.0</td>\n",
              "      <td>Action</td>\n",
              "      <td>Destineer</td>\n",
              "      <td>40.0</td>\n",
              "      <td>0.0</td>\n",
              "      <td>0.0</td>\n",
              "      <td>0.0</td>\n",
              "    </tr>\n",
              "    <tr>\n",
              "      <th>1</th>\n",
              "      <td>The Munchables</td>\n",
              "      <td>Wii</td>\n",
              "      <td>2009.0</td>\n",
              "      <td>Action</td>\n",
              "      <td>Namco Bandai Games</td>\n",
              "      <td>170.0</td>\n",
              "      <td>0.0</td>\n",
              "      <td>0.0</td>\n",
              "      <td>10.0</td>\n",
              "    </tr>\n",
              "    <tr>\n",
              "      <th>2</th>\n",
              "      <td>Otome wa Oanesama Boku ni Koi Shiteru Portable</td>\n",
              "      <td>PSP</td>\n",
              "      <td>2010.0</td>\n",
              "      <td>Adventure</td>\n",
              "      <td>Alchemist</td>\n",
              "      <td>0.0</td>\n",
              "      <td>0.0</td>\n",
              "      <td>20.0</td>\n",
              "      <td>0.0</td>\n",
              "    </tr>\n",
              "    <tr>\n",
              "      <th>3</th>\n",
              "      <td>Deal or No Deal: Special Edition</td>\n",
              "      <td>DS</td>\n",
              "      <td>2010.0</td>\n",
              "      <td>Misc</td>\n",
              "      <td>Zoo Games</td>\n",
              "      <td>40.0</td>\n",
              "      <td>0.0</td>\n",
              "      <td>0.0</td>\n",
              "      <td>0.0</td>\n",
              "    </tr>\n",
              "    <tr>\n",
              "      <th>4</th>\n",
              "      <td>Ben 10 Ultimate Alien: Cosmic Destruction</td>\n",
              "      <td>PS3</td>\n",
              "      <td>2010.0</td>\n",
              "      <td>Platform</td>\n",
              "      <td>D3Publisher</td>\n",
              "      <td>120.0</td>\n",
              "      <td>90.0</td>\n",
              "      <td>0.0</td>\n",
              "      <td>40.0</td>\n",
              "    </tr>\n",
              "  </tbody>\n",
              "</table>\n",
              "</div>"
            ],
            "text/plain": [
              "                                             Name  ... Other_Sales\n",
              "0                    Candace Kane's Candy Factory  ...         0.0\n",
              "1                                  The Munchables  ...        10.0\n",
              "2  Otome wa Oanesama Boku ni Koi Shiteru Portable  ...         0.0\n",
              "3                Deal or No Deal: Special Edition  ...         0.0\n",
              "4       Ben 10 Ultimate Alien: Cosmic Destruction  ...        40.0\n",
              "\n",
              "[5 rows x 9 columns]"
            ]
          },
          "metadata": {
            "tags": []
          },
          "execution_count": 629
        }
      ]
    },
    {
      "cell_type": "markdown",
      "metadata": {
        "id": "pM6DKMW6wdPt"
      },
      "source": [
        "1. 🌏지역에 따른 게임 장르 선호도\n",
        "\n",
        "지역에 따라서 선호하는 게임 장르가 다를까\n",
        "\n"
      ]
    },
    {
      "cell_type": "code",
      "metadata": {
        "id": "wgCJYtvwiAf6"
      },
      "source": [
        "import matplotlib.pyplot as plt\n",
        "import numpy as np"
      ],
      "execution_count": 630,
      "outputs": []
    },
    {
      "cell_type": "code",
      "metadata": {
        "colab": {
          "base_uri": "https://localhost:8080/",
          "height": 415
        },
        "id": "VEIXl_2prvl-",
        "outputId": "de6a3a3b-7fd3-4253-94b3-5d2e94e3a0e3"
      },
      "source": [
        "vgames['Genre'] = vgames['Genre'].dropna()\n",
        "vgames_1=vgames.iloc[:,3:]\n",
        "vgames_1"
      ],
      "execution_count": 631,
      "outputs": [
        {
          "output_type": "execute_result",
          "data": {
            "text/html": [
              "<div>\n",
              "<style scoped>\n",
              "    .dataframe tbody tr th:only-of-type {\n",
              "        vertical-align: middle;\n",
              "    }\n",
              "\n",
              "    .dataframe tbody tr th {\n",
              "        vertical-align: top;\n",
              "    }\n",
              "\n",
              "    .dataframe thead th {\n",
              "        text-align: right;\n",
              "    }\n",
              "</style>\n",
              "<table border=\"1\" class=\"dataframe\">\n",
              "  <thead>\n",
              "    <tr style=\"text-align: right;\">\n",
              "      <th></th>\n",
              "      <th>Genre</th>\n",
              "      <th>Publisher</th>\n",
              "      <th>NA_Sales</th>\n",
              "      <th>EU_Sales</th>\n",
              "      <th>JP_Sales</th>\n",
              "      <th>Other_Sales</th>\n",
              "    </tr>\n",
              "  </thead>\n",
              "  <tbody>\n",
              "    <tr>\n",
              "      <th>0</th>\n",
              "      <td>Action</td>\n",
              "      <td>Destineer</td>\n",
              "      <td>40.0</td>\n",
              "      <td>0.0</td>\n",
              "      <td>0.0</td>\n",
              "      <td>0.0</td>\n",
              "    </tr>\n",
              "    <tr>\n",
              "      <th>1</th>\n",
              "      <td>Action</td>\n",
              "      <td>Namco Bandai Games</td>\n",
              "      <td>170.0</td>\n",
              "      <td>0.0</td>\n",
              "      <td>0.0</td>\n",
              "      <td>10.0</td>\n",
              "    </tr>\n",
              "    <tr>\n",
              "      <th>2</th>\n",
              "      <td>Adventure</td>\n",
              "      <td>Alchemist</td>\n",
              "      <td>0.0</td>\n",
              "      <td>0.0</td>\n",
              "      <td>20.0</td>\n",
              "      <td>0.0</td>\n",
              "    </tr>\n",
              "    <tr>\n",
              "      <th>3</th>\n",
              "      <td>Misc</td>\n",
              "      <td>Zoo Games</td>\n",
              "      <td>40.0</td>\n",
              "      <td>0.0</td>\n",
              "      <td>0.0</td>\n",
              "      <td>0.0</td>\n",
              "    </tr>\n",
              "    <tr>\n",
              "      <th>4</th>\n",
              "      <td>Platform</td>\n",
              "      <td>D3Publisher</td>\n",
              "      <td>120.0</td>\n",
              "      <td>90.0</td>\n",
              "      <td>0.0</td>\n",
              "      <td>40.0</td>\n",
              "    </tr>\n",
              "    <tr>\n",
              "      <th>...</th>\n",
              "      <td>...</td>\n",
              "      <td>...</td>\n",
              "      <td>...</td>\n",
              "      <td>...</td>\n",
              "      <td>...</td>\n",
              "      <td>...</td>\n",
              "    </tr>\n",
              "    <tr>\n",
              "      <th>16593</th>\n",
              "      <td>Platform</td>\n",
              "      <td>Vivendi Games</td>\n",
              "      <td>150.0</td>\n",
              "      <td>40.0</td>\n",
              "      <td>0.0</td>\n",
              "      <td>10.0</td>\n",
              "    </tr>\n",
              "    <tr>\n",
              "      <th>16594</th>\n",
              "      <td>Action</td>\n",
              "      <td>Rising Star Games</td>\n",
              "      <td>10.0</td>\n",
              "      <td>0.0</td>\n",
              "      <td>0.0</td>\n",
              "      <td>0.0</td>\n",
              "    </tr>\n",
              "    <tr>\n",
              "      <th>16595</th>\n",
              "      <td>Sports</td>\n",
              "      <td>Take-Two Interactive</td>\n",
              "      <td>440.0</td>\n",
              "      <td>190.0</td>\n",
              "      <td>30.0</td>\n",
              "      <td>130.0</td>\n",
              "    </tr>\n",
              "    <tr>\n",
              "      <th>16596</th>\n",
              "      <td>Action</td>\n",
              "      <td>Tecmo Koei</td>\n",
              "      <td>50.0</td>\n",
              "      <td>50.0</td>\n",
              "      <td>250.0</td>\n",
              "      <td>30.0</td>\n",
              "    </tr>\n",
              "    <tr>\n",
              "      <th>16597</th>\n",
              "      <td>Fighting</td>\n",
              "      <td>Sony Computer Entertainment</td>\n",
              "      <td>0.0</td>\n",
              "      <td>0.0</td>\n",
              "      <td>160.0</td>\n",
              "      <td>10.0</td>\n",
              "    </tr>\n",
              "  </tbody>\n",
              "</table>\n",
              "<p>16598 rows × 6 columns</p>\n",
              "</div>"
            ],
            "text/plain": [
              "           Genre                    Publisher  ...  JP_Sales  Other_Sales\n",
              "0         Action                    Destineer  ...       0.0          0.0\n",
              "1         Action           Namco Bandai Games  ...       0.0         10.0\n",
              "2      Adventure                    Alchemist  ...      20.0          0.0\n",
              "3           Misc                    Zoo Games  ...       0.0          0.0\n",
              "4       Platform                  D3Publisher  ...       0.0         40.0\n",
              "...          ...                          ...  ...       ...          ...\n",
              "16593   Platform                Vivendi Games  ...       0.0         10.0\n",
              "16594     Action            Rising Star Games  ...       0.0          0.0\n",
              "16595     Sports         Take-Two Interactive  ...      30.0        130.0\n",
              "16596     Action                   Tecmo Koei  ...     250.0         30.0\n",
              "16597   Fighting  Sony Computer Entertainment  ...     160.0         10.0\n",
              "\n",
              "[16598 rows x 6 columns]"
            ]
          },
          "metadata": {
            "tags": []
          },
          "execution_count": 631
        }
      ]
    },
    {
      "cell_type": "code",
      "metadata": {
        "id": "MxgeTWzk3rO2"
      },
      "source": [
        "vgames_sum= vgames_1.groupby(['Genre']).sum()\n",
        "vgames_sum= vgames_sum.T"
      ],
      "execution_count": 632,
      "outputs": []
    },
    {
      "cell_type": "code",
      "metadata": {
        "colab": {
          "base_uri": "https://localhost:8080/",
          "height": 209
        },
        "id": "QAyPlND7r-Br",
        "outputId": "d52d16d1-61b3-48ef-cd24-4885b0b783fb"
      },
      "source": [
        "vgames_mean= vgames_1.groupby(['Genre']).mean()\n",
        "vgames_mean= vgames_mean.T\n",
        "vgames_mean"
      ],
      "execution_count": 633,
      "outputs": [
        {
          "output_type": "execute_result",
          "data": {
            "text/html": [
              "<div>\n",
              "<style scoped>\n",
              "    .dataframe tbody tr th:only-of-type {\n",
              "        vertical-align: middle;\n",
              "    }\n",
              "\n",
              "    .dataframe tbody tr th {\n",
              "        vertical-align: top;\n",
              "    }\n",
              "\n",
              "    .dataframe thead th {\n",
              "        text-align: right;\n",
              "    }\n",
              "</style>\n",
              "<table border=\"1\" class=\"dataframe\">\n",
              "  <thead>\n",
              "    <tr style=\"text-align: right;\">\n",
              "      <th>Genre</th>\n",
              "      <th>Action</th>\n",
              "      <th>Adventure</th>\n",
              "      <th>Fighting</th>\n",
              "      <th>Misc</th>\n",
              "      <th>Platform</th>\n",
              "      <th>Puzzle</th>\n",
              "      <th>Racing</th>\n",
              "      <th>Role-Playing</th>\n",
              "      <th>Shooter</th>\n",
              "      <th>Simulation</th>\n",
              "      <th>Sports</th>\n",
              "      <th>Strategy</th>\n",
              "    </tr>\n",
              "  </thead>\n",
              "  <tbody>\n",
              "    <tr>\n",
              "      <th>NA_Sales</th>\n",
              "      <td>264.692890</td>\n",
              "      <td>82.546875</td>\n",
              "      <td>263.518300</td>\n",
              "      <td>235.322953</td>\n",
              "      <td>505.022624</td>\n",
              "      <td>213.408304</td>\n",
              "      <td>287.361223</td>\n",
              "      <td>215.468645</td>\n",
              "      <td>444.892966</td>\n",
              "      <td>211.514451</td>\n",
              "      <td>290.696284</td>\n",
              "      <td>101.029412</td>\n",
              "    </tr>\n",
              "    <tr>\n",
              "      <th>EU_Sales</th>\n",
              "      <td>157.990923</td>\n",
              "      <td>50.039062</td>\n",
              "      <td>119.504132</td>\n",
              "      <td>122.468281</td>\n",
              "      <td>228.065611</td>\n",
              "      <td>87.768166</td>\n",
              "      <td>190.748190</td>\n",
              "      <td>123.789616</td>\n",
              "      <td>239.334862</td>\n",
              "      <td>131.040462</td>\n",
              "      <td>160.820162</td>\n",
              "      <td>66.647059</td>\n",
              "    </tr>\n",
              "    <tr>\n",
              "      <th>JP_Sales</th>\n",
              "      <td>47.776097</td>\n",
              "      <td>40.585938</td>\n",
              "      <td>103.116883</td>\n",
              "      <td>60.709343</td>\n",
              "      <td>147.794118</td>\n",
              "      <td>98.391003</td>\n",
              "      <td>45.374095</td>\n",
              "      <td>232.602832</td>\n",
              "      <td>29.266055</td>\n",
              "      <td>73.641618</td>\n",
              "      <td>57.825716</td>\n",
              "      <td>72.735294</td>\n",
              "    </tr>\n",
              "    <tr>\n",
              "      <th>Other_Sales</th>\n",
              "      <td>56.414523</td>\n",
              "      <td>13.132812</td>\n",
              "      <td>43.258560</td>\n",
              "      <td>42.698962</td>\n",
              "      <td>58.291855</td>\n",
              "      <td>21.660900</td>\n",
              "      <td>62.027353</td>\n",
              "      <td>38.408631</td>\n",
              "      <td>78.478593</td>\n",
              "      <td>36.393064</td>\n",
              "      <td>57.526698</td>\n",
              "      <td>16.705882</td>\n",
              "    </tr>\n",
              "  </tbody>\n",
              "</table>\n",
              "</div>"
            ],
            "text/plain": [
              "Genre            Action  Adventure  ...      Sports    Strategy\n",
              "NA_Sales     264.692890  82.546875  ...  290.696284  101.029412\n",
              "EU_Sales     157.990923  50.039062  ...  160.820162   66.647059\n",
              "JP_Sales      47.776097  40.585938  ...   57.825716   72.735294\n",
              "Other_Sales   56.414523  13.132812  ...   57.526698   16.705882\n",
              "\n",
              "[4 rows x 12 columns]"
            ]
          },
          "metadata": {
            "tags": []
          },
          "execution_count": 633
        }
      ]
    },
    {
      "cell_type": "code",
      "metadata": {
        "id": "Psax5vHym7L1",
        "colab": {
          "base_uri": "https://localhost:8080/",
          "height": 355
        },
        "outputId": "f61c1b67-0190-4dd4-e5b7-b35453a732aa"
      },
      "source": [
        "vgames_sum.plot(kind='bar',figsize=(11,5), rot=1, legend='reverse', alpha = 0.5, title='Sales Total')\n",
        "plt.legend(loc='best')"
      ],
      "execution_count": 634,
      "outputs": [
        {
          "output_type": "execute_result",
          "data": {
            "text/plain": [
              "<matplotlib.legend.Legend at 0x7f67d37fcd10>"
            ]
          },
          "metadata": {
            "tags": []
          },
          "execution_count": 634
        },
        {
          "output_type": "display_data",
          "data": {
            "image/png": "[encoded data removed]",
            "text/plain": [
              "<Figure size 792x360 with 1 Axes>"
            ]
          },
          "metadata": {
            "tags": [],
            "needs_background": "light"
          }
        }
      ]
    },
    {
      "cell_type": "code",
      "metadata": {
        "id": "S3VDll91f2_i",
        "colab": {
          "base_uri": "https://localhost:8080/",
          "height": 355
        },
        "outputId": "52ee7606-3c2a-44c7-8ed9-91a568f81534"
      },
      "source": [
        "vgames_mean.plot(kind='bar',figsize=(11,5), rot=1, legend='reverse', alpha = 0.5, title='Sales Mean')\n",
        "plt.legend(loc='best')"
      ],
      "execution_count": 635,
      "outputs": [
        {
          "output_type": "execute_result",
          "data": {
            "text/plain": [
              "<matplotlib.legend.Legend at 0x7f67d37fc5d0>"
            ]
          },
          "metadata": {
            "tags": []
          },
          "execution_count": 635
        },
        {
          "output_type": "display_data",
          "data": {
            "image/png": "[encoded data removed]",
            "text/plain": [
              "<Figure size 792x360 with 1 Axes>"
            ]
          },
          "metadata": {
            "tags": [],
            "needs_background": "light"
          }
        }
      ]
    },
    {
      "cell_type": "code",
      "metadata": {
        "colab": {
          "base_uri": "https://localhost:8080/",
          "height": 415
        },
        "id": "2nmK_GQO-dOn",
        "outputId": "7236e72d-f2cb-404a-8084-4123ca613867"
      },
      "source": [
        "vgames_1.rank(method='min', ascending=False)"
      ],
      "execution_count": 636,
      "outputs": [
        {
          "output_type": "execute_result",
          "data": {
            "text/html": [
              "<div>\n",
              "<style scoped>\n",
              "    .dataframe tbody tr th:only-of-type {\n",
              "        vertical-align: middle;\n",
              "    }\n",
              "\n",
              "    .dataframe tbody tr th {\n",
              "        vertical-align: top;\n",
              "    }\n",
              "\n",
              "    .dataframe thead th {\n",
              "        text-align: right;\n",
              "    }\n",
              "</style>\n",
              "<table border=\"1\" class=\"dataframe\">\n",
              "  <thead>\n",
              "    <tr style=\"text-align: right;\">\n",
              "      <th></th>\n",
              "      <th>Genre</th>\n",
              "      <th>Publisher</th>\n",
              "      <th>NA_Sales</th>\n",
              "      <th>EU_Sales</th>\n",
              "      <th>JP_Sales</th>\n",
              "      <th>Other_Sales</th>\n",
              "    </tr>\n",
              "  </thead>\n",
              "  <tbody>\n",
              "    <tr>\n",
              "      <th>0</th>\n",
              "      <td>13244.0</td>\n",
              "      <td>12822.0</td>\n",
              "      <td>9951.0</td>\n",
              "      <td>10869.0</td>\n",
              "      <td>6144.0</td>\n",
              "      <td>10122.0</td>\n",
              "    </tr>\n",
              "    <tr>\n",
              "      <th>1</th>\n",
              "      <td>13244.0</td>\n",
              "      <td>6971.0</td>\n",
              "      <td>5214.0</td>\n",
              "      <td>10869.0</td>\n",
              "      <td>6144.0</td>\n",
              "      <td>6677.0</td>\n",
              "    </tr>\n",
              "    <tr>\n",
              "      <th>2</th>\n",
              "      <td>11964.0</td>\n",
              "      <td>14899.0</td>\n",
              "      <td>12100.0</td>\n",
              "      <td>10869.0</td>\n",
              "      <td>4712.0</td>\n",
              "      <td>10122.0</td>\n",
              "    </tr>\n",
              "    <tr>\n",
              "      <th>3</th>\n",
              "      <td>9383.0</td>\n",
              "      <td>38.0</td>\n",
              "      <td>9951.0</td>\n",
              "      <td>10869.0</td>\n",
              "      <td>6144.0</td>\n",
              "      <td>10122.0</td>\n",
              "    </tr>\n",
              "    <tr>\n",
              "      <th>4</th>\n",
              "      <td>8499.0</td>\n",
              "      <td>13074.0</td>\n",
              "      <td>6495.0</td>\n",
              "      <td>4522.0</td>\n",
              "      <td>6144.0</td>\n",
              "      <td>3490.0</td>\n",
              "    </tr>\n",
              "    <tr>\n",
              "      <th>...</th>\n",
              "      <td>...</td>\n",
              "      <td>...</td>\n",
              "      <td>...</td>\n",
              "      <td>...</td>\n",
              "      <td>...</td>\n",
              "      <td>...</td>\n",
              "    </tr>\n",
              "    <tr>\n",
              "      <th>16593</th>\n",
              "      <td>8499.0</td>\n",
              "      <td>471.0</td>\n",
              "      <td>5639.0</td>\n",
              "      <td>6422.0</td>\n",
              "      <td>6144.0</td>\n",
              "      <td>6677.0</td>\n",
              "    </tr>\n",
              "    <tr>\n",
              "      <th>16594</th>\n",
              "      <td>13244.0</td>\n",
              "      <td>5610.0</td>\n",
              "      <td>11559.0</td>\n",
              "      <td>10869.0</td>\n",
              "      <td>6144.0</td>\n",
              "      <td>10122.0</td>\n",
              "    </tr>\n",
              "    <tr>\n",
              "      <th>16595</th>\n",
              "      <td>681.0</td>\n",
              "      <td>2389.0</td>\n",
              "      <td>2360.0</td>\n",
              "      <td>2784.0</td>\n",
              "      <td>4184.0</td>\n",
              "      <td>1303.0</td>\n",
              "    </tr>\n",
              "    <tr>\n",
              "      <th>16596</th>\n",
              "      <td>13244.0</td>\n",
              "      <td>2046.0</td>\n",
              "      <td>9421.0</td>\n",
              "      <td>5876.0</td>\n",
              "      <td>1223.0</td>\n",
              "      <td>4156.0</td>\n",
              "    </tr>\n",
              "    <tr>\n",
              "      <th>16597</th>\n",
              "      <td>11117.0</td>\n",
              "      <td>4137.0</td>\n",
              "      <td>12100.0</td>\n",
              "      <td>10869.0</td>\n",
              "      <td>1737.0</td>\n",
              "      <td>6677.0</td>\n",
              "    </tr>\n",
              "  </tbody>\n",
              "</table>\n",
              "<p>16598 rows × 6 columns</p>\n",
              "</div>"
            ],
            "text/plain": [
              "         Genre  Publisher  NA_Sales  EU_Sales  JP_Sales  Other_Sales\n",
              "0      13244.0    12822.0    9951.0   10869.0    6144.0      10122.0\n",
              "1      13244.0     6971.0    5214.0   10869.0    6144.0       6677.0\n",
              "2      11964.0    14899.0   12100.0   10869.0    4712.0      10122.0\n",
              "3       9383.0       38.0    9951.0   10869.0    6144.0      10122.0\n",
              "4       8499.0    13074.0    6495.0    4522.0    6144.0       3490.0\n",
              "...        ...        ...       ...       ...       ...          ...\n",
              "16593   8499.0      471.0    5639.0    6422.0    6144.0       6677.0\n",
              "16594  13244.0     5610.0   11559.0   10869.0    6144.0      10122.0\n",
              "16595    681.0     2389.0    2360.0    2784.0    4184.0       1303.0\n",
              "16596  13244.0     2046.0    9421.0    5876.0    1223.0       4156.0\n",
              "16597  11117.0     4137.0   12100.0   10869.0    1737.0       6677.0\n",
              "\n",
              "[16598 rows x 6 columns]"
            ]
          },
          "metadata": {
            "tags": []
          },
          "execution_count": 636
        }
      ]
    },
    {
      "cell_type": "markdown",
      "metadata": {
        "id": "1m5tP-4hCIWh"
      },
      "source": [
        "\n",
        "|인기종목 |1st | 2nd | 3rd |\n",
        "|:-:|:-:|:-:|:-:|\n",
        "|북미|Platform|Shooter|simulation|\n",
        "|유럽|Shooter|Platform|Racing|\n",
        "|일본|Role-Playing|Adventure|Fighting|\n",
        "|그외|Shooter|Racing|Platform|\n",
        "\n",
        "<br/>\n",
        "\n",
        "|비인기종목 |1st | 2nd | 3rd |\n",
        "|:-:|:-:|:-:|:-:|\n",
        "|북미|Adventure\t|Strategy|Sports|\n",
        "|유럽|Adventure\t|Strategy|Puzzle|\n",
        "|일본|Shooter|Platform|Racing|\n",
        "|그외|Adventure\t|Strategy|Platform|\n"
      ]
    },
    {
      "cell_type": "code",
      "metadata": {
        "id": "JyynuO8vLWk2",
        "outputId": "1ced70c7-cb47-4653-a4e3-edddf6036dc3",
        "colab": {
          "base_uri": "https://localhost:8080/",
          "height": 171
        }
      },
      "source": [
        "vgames_sum.T.corr(method = 'pearson')"
      ],
      "execution_count": 637,
      "outputs": [
        {
          "output_type": "execute_result",
          "data": {
            "text/html": [
              "<div>\n",
              "<style scoped>\n",
              "    .dataframe tbody tr th:only-of-type {\n",
              "        vertical-align: middle;\n",
              "    }\n",
              "\n",
              "    .dataframe tbody tr th {\n",
              "        vertical-align: top;\n",
              "    }\n",
              "\n",
              "    .dataframe thead th {\n",
              "        text-align: right;\n",
              "    }\n",
              "</style>\n",
              "<table border=\"1\" class=\"dataframe\">\n",
              "  <thead>\n",
              "    <tr style=\"text-align: right;\">\n",
              "      <th></th>\n",
              "      <th>NA_Sales</th>\n",
              "      <th>EU_Sales</th>\n",
              "      <th>JP_Sales</th>\n",
              "      <th>Other_Sales</th>\n",
              "    </tr>\n",
              "  </thead>\n",
              "  <tbody>\n",
              "    <tr>\n",
              "      <th>NA_Sales</th>\n",
              "      <td>1.000000</td>\n",
              "      <td>0.986691</td>\n",
              "      <td>0.281985</td>\n",
              "      <td>0.975300</td>\n",
              "    </tr>\n",
              "    <tr>\n",
              "      <th>EU_Sales</th>\n",
              "      <td>0.986691</td>\n",
              "      <td>1.000000</td>\n",
              "      <td>0.276935</td>\n",
              "      <td>0.994328</td>\n",
              "    </tr>\n",
              "    <tr>\n",
              "      <th>JP_Sales</th>\n",
              "      <td>0.281985</td>\n",
              "      <td>0.276935</td>\n",
              "      <td>1.000000</td>\n",
              "      <td>0.263143</td>\n",
              "    </tr>\n",
              "    <tr>\n",
              "      <th>Other_Sales</th>\n",
              "      <td>0.975300</td>\n",
              "      <td>0.994328</td>\n",
              "      <td>0.263143</td>\n",
              "      <td>1.000000</td>\n",
              "    </tr>\n",
              "  </tbody>\n",
              "</table>\n",
              "</div>"
            ],
            "text/plain": [
              "             NA_Sales  EU_Sales  JP_Sales  Other_Sales\n",
              "NA_Sales     1.000000  0.986691  0.281985     0.975300\n",
              "EU_Sales     0.986691  1.000000  0.276935     0.994328\n",
              "JP_Sales     0.281985  0.276935  1.000000     0.263143\n",
              "Other_Sales  0.975300  0.994328  0.263143     1.000000"
            ]
          },
          "metadata": {
            "tags": []
          },
          "execution_count": 637
        }
      ]
    },
    {
      "cell_type": "code",
      "metadata": {
        "id": "fJHCmiW0Ley8",
        "outputId": "c20c2fe0-6684-4874-9975-3a95ae793cd1",
        "colab": {
          "base_uri": "https://localhost:8080/",
          "height": 171
        }
      },
      "source": [
        "vgames_mean.T.corr(method = 'pearson')"
      ],
      "execution_count": 638,
      "outputs": [
        {
          "output_type": "execute_result",
          "data": {
            "text/html": [
              "<div>\n",
              "<style scoped>\n",
              "    .dataframe tbody tr th:only-of-type {\n",
              "        vertical-align: middle;\n",
              "    }\n",
              "\n",
              "    .dataframe tbody tr th {\n",
              "        vertical-align: top;\n",
              "    }\n",
              "\n",
              "    .dataframe thead th {\n",
              "        text-align: right;\n",
              "    }\n",
              "</style>\n",
              "<table border=\"1\" class=\"dataframe\">\n",
              "  <thead>\n",
              "    <tr style=\"text-align: right;\">\n",
              "      <th></th>\n",
              "      <th>NA_Sales</th>\n",
              "      <th>EU_Sales</th>\n",
              "      <th>JP_Sales</th>\n",
              "      <th>Other_Sales</th>\n",
              "    </tr>\n",
              "  </thead>\n",
              "  <tbody>\n",
              "    <tr>\n",
              "      <th>NA_Sales</th>\n",
              "      <td>1.000000</td>\n",
              "      <td>0.942013</td>\n",
              "      <td>0.090237</td>\n",
              "      <td>0.848262</td>\n",
              "    </tr>\n",
              "    <tr>\n",
              "      <th>EU_Sales</th>\n",
              "      <td>0.942013</td>\n",
              "      <td>1.000000</td>\n",
              "      <td>-0.034968</td>\n",
              "      <td>0.950424</td>\n",
              "    </tr>\n",
              "    <tr>\n",
              "      <th>JP_Sales</th>\n",
              "      <td>0.090237</td>\n",
              "      <td>-0.034968</td>\n",
              "      <td>1.000000</td>\n",
              "      <td>-0.151028</td>\n",
              "    </tr>\n",
              "    <tr>\n",
              "      <th>Other_Sales</th>\n",
              "      <td>0.848262</td>\n",
              "      <td>0.950424</td>\n",
              "      <td>-0.151028</td>\n",
              "      <td>1.000000</td>\n",
              "    </tr>\n",
              "  </tbody>\n",
              "</table>\n",
              "</div>"
            ],
            "text/plain": [
              "             NA_Sales  EU_Sales  JP_Sales  Other_Sales\n",
              "NA_Sales     1.000000  0.942013  0.090237     0.848262\n",
              "EU_Sales     0.942013  1.000000 -0.034968     0.950424\n",
              "JP_Sales     0.090237 -0.034968  1.000000    -0.151028\n",
              "Other_Sales  0.848262  0.950424 -0.151028     1.000000"
            ]
          },
          "metadata": {
            "tags": []
          },
          "execution_count": 638
        }
      ]
    },
    {
      "cell_type": "markdown",
      "metadata": {
        "id": "ifbw_sA1Lk__"
      },
      "source": [
        "2. 📅연도별 트랜드 변화"
      ]
    },
    {
      "cell_type": "code",
      "metadata": {
        "id": "3OZyTXPmLup0"
      },
      "source": [
        "vgames_2_Genre = vgames.iloc[:, 2:4]\n",
        "vgames_2_Genre['sales'] = vgames.iloc[:, 5:].sum(axis = 1, skipna = True)"
      ],
      "execution_count": 647,
      "outputs": []
    },
    {
      "cell_type": "code",
      "metadata": {
        "id": "ESINzvAGMvIB",
        "outputId": "c0c6af43-418a-46d1-bf8c-8d02a89c8342",
        "colab": {
          "base_uri": "https://localhost:8080/",
          "height": 446
        }
      },
      "source": [
        "pivot_vgames = pd.pivot_table(vgames_2_Genre, 'sales', ['Year', 'Genre'], aggfunc = 'sum')\n",
        "pivot_vgames"
      ],
      "execution_count": 657,
      "outputs": [
        {
          "output_type": "execute_result",
          "data": {
            "text/html": [
              "<div>\n",
              "<style scoped>\n",
              "    .dataframe tbody tr th:only-of-type {\n",
              "        vertical-align: middle;\n",
              "    }\n",
              "\n",
              "    .dataframe tbody tr th {\n",
              "        vertical-align: top;\n",
              "    }\n",
              "\n",
              "    .dataframe thead th {\n",
              "        text-align: right;\n",
              "    }\n",
              "</style>\n",
              "<table border=\"1\" class=\"dataframe\">\n",
              "  <thead>\n",
              "    <tr style=\"text-align: right;\">\n",
              "      <th></th>\n",
              "      <th></th>\n",
              "      <th>sales</th>\n",
              "    </tr>\n",
              "    <tr>\n",
              "      <th>Year</th>\n",
              "      <th>Genre</th>\n",
              "      <th></th>\n",
              "    </tr>\n",
              "  </thead>\n",
              "  <tbody>\n",
              "    <tr>\n",
              "      <th rowspan=\"4\" valign=\"top\">1980.0</th>\n",
              "      <th>Action</th>\n",
              "      <td>340.0</td>\n",
              "    </tr>\n",
              "    <tr>\n",
              "      <th>Fighting</th>\n",
              "      <td>770.0</td>\n",
              "    </tr>\n",
              "    <tr>\n",
              "      <th>Misc</th>\n",
              "      <td>2700.0</td>\n",
              "    </tr>\n",
              "    <tr>\n",
              "      <th>Shooter</th>\n",
              "      <td>7070.0</td>\n",
              "    </tr>\n",
              "    <tr>\n",
              "      <th>1981.0</th>\n",
              "      <th>Action</th>\n",
              "      <td>14790.0</td>\n",
              "    </tr>\n",
              "    <tr>\n",
              "      <th>...</th>\n",
              "      <th>...</th>\n",
              "      <td>...</td>\n",
              "    </tr>\n",
              "    <tr>\n",
              "      <th rowspan=\"2\" valign=\"top\">2016.0</th>\n",
              "      <th>Sports</th>\n",
              "      <td>14630.0</td>\n",
              "    </tr>\n",
              "    <tr>\n",
              "      <th>Strategy</th>\n",
              "      <td>520.0</td>\n",
              "    </tr>\n",
              "    <tr>\n",
              "      <th rowspan=\"2\" valign=\"top\">2017.0</th>\n",
              "      <th>Action</th>\n",
              "      <td>10.0</td>\n",
              "    </tr>\n",
              "    <tr>\n",
              "      <th>Role-Playing</th>\n",
              "      <td>40.0</td>\n",
              "    </tr>\n",
              "    <tr>\n",
              "      <th>2020.0</th>\n",
              "      <th>Simulation</th>\n",
              "      <td>290.0</td>\n",
              "    </tr>\n",
              "  </tbody>\n",
              "</table>\n",
              "<p>388 rows × 1 columns</p>\n",
              "</div>"
            ],
            "text/plain": [
              "                       sales\n",
              "Year   Genre                \n",
              "1980.0 Action          340.0\n",
              "       Fighting        770.0\n",
              "       Misc           2700.0\n",
              "       Shooter        7070.0\n",
              "1981.0 Action        14790.0\n",
              "...                      ...\n",
              "2016.0 Sports        14630.0\n",
              "       Strategy        520.0\n",
              "2017.0 Action           10.0\n",
              "       Role-Playing     40.0\n",
              "2020.0 Simulation      290.0\n",
              "\n",
              "[388 rows x 1 columns]"
            ]
          },
          "metadata": {
            "tags": []
          },
          "execution_count": 657
        }
      ]
    },
    {
      "cell_type": "code",
      "metadata": {
        "id": "dWFYkcoGNOI7",
        "outputId": "1072c9e0-f4ae-4c08-cba4-2b49dce0d2cb",
        "colab": {
          "base_uri": "https://localhost:8080/",
          "height": 323
        }
      },
      "source": [
        "def vgames_2(year, genre):\n",
        "    data = pivot_vgames.loc[Year, Genre]\n",
        "\n",
        "    pp.plot(data.index, data.values)\n",
        "\n",
        "vgames_2(2010, 'Action')"
      ],
      "execution_count": 663,
      "outputs": [
        {
          "output_type": "error",
          "ename": "NameError",
          "evalue": "ignored",
          "traceback": [
            "\u001b[0;31m---------------------------------------------------------------------------\u001b[0m",
            "\u001b[0;31mNameError\u001b[0m                                 Traceback (most recent call last)",
            "\u001b[0;32m<ipython-input-663-daa7a45f2675>\u001b[0m in \u001b[0;36m<module>\u001b[0;34m()\u001b[0m\n\u001b[1;32m      4\u001b[0m     \u001b[0mpp\u001b[0m\u001b[0;34m.\u001b[0m\u001b[0mplot\u001b[0m\u001b[0;34m(\u001b[0m\u001b[0mdata\u001b[0m\u001b[0;34m.\u001b[0m\u001b[0mindex\u001b[0m\u001b[0;34m,\u001b[0m \u001b[0mdata\u001b[0m\u001b[0;34m.\u001b[0m\u001b[0mvalues\u001b[0m\u001b[0;34m)\u001b[0m\u001b[0;34m\u001b[0m\u001b[0;34m\u001b[0m\u001b[0m\n\u001b[1;32m      5\u001b[0m \u001b[0;34m\u001b[0m\u001b[0m\n\u001b[0;32m----> 6\u001b[0;31m \u001b[0mvgames_2\u001b[0m\u001b[0;34m(\u001b[0m\u001b[0;36m2010\u001b[0m\u001b[0;34m,\u001b[0m \u001b[0;34m'Action'\u001b[0m\u001b[0;34m)\u001b[0m\u001b[0;34m\u001b[0m\u001b[0;34m\u001b[0m\u001b[0m\n\u001b[0m",
            "\u001b[0;32m<ipython-input-663-daa7a45f2675>\u001b[0m in \u001b[0;36mvgames_2\u001b[0;34m(year, genre)\u001b[0m\n\u001b[1;32m      1\u001b[0m \u001b[0;32mdef\u001b[0m \u001b[0mvgames_2\u001b[0m\u001b[0;34m(\u001b[0m\u001b[0myear\u001b[0m\u001b[0;34m,\u001b[0m \u001b[0mgenre\u001b[0m\u001b[0;34m)\u001b[0m\u001b[0;34m:\u001b[0m\u001b[0;34m\u001b[0m\u001b[0;34m\u001b[0m\u001b[0m\n\u001b[0;32m----> 2\u001b[0;31m     \u001b[0mdata\u001b[0m \u001b[0;34m=\u001b[0m \u001b[0mpivot_vgames\u001b[0m\u001b[0;34m.\u001b[0m\u001b[0mloc\u001b[0m\u001b[0;34m[\u001b[0m\u001b[0mYear\u001b[0m\u001b[0;34m,\u001b[0m \u001b[0mGenre\u001b[0m\u001b[0;34m]\u001b[0m\u001b[0;34m\u001b[0m\u001b[0;34m\u001b[0m\u001b[0m\n\u001b[0m\u001b[1;32m      3\u001b[0m \u001b[0;34m\u001b[0m\u001b[0m\n\u001b[1;32m      4\u001b[0m     \u001b[0mpp\u001b[0m\u001b[0;34m.\u001b[0m\u001b[0mplot\u001b[0m\u001b[0;34m(\u001b[0m\u001b[0mdata\u001b[0m\u001b[0;34m.\u001b[0m\u001b[0mindex\u001b[0m\u001b[0;34m,\u001b[0m \u001b[0mdata\u001b[0m\u001b[0;34m.\u001b[0m\u001b[0mvalues\u001b[0m\u001b[0;34m)\u001b[0m\u001b[0;34m\u001b[0m\u001b[0;34m\u001b[0m\u001b[0m\n\u001b[1;32m      5\u001b[0m \u001b[0;34m\u001b[0m\u001b[0m\n",
            "\u001b[0;31mNameError\u001b[0m: name 'Year' is not defined"
          ]
        }
      ]
    },
    {
      "cell_type": "code",
      "metadata": {
        "id": "i5u2FpBOOMns",
        "outputId": "ced72472-04b4-40c0-bbf2-cb9a63a31db3",
        "colab": {
          "base_uri": "https://localhost:8080/",
          "height": 429
        }
      },
      "source": [
        ""
      ],
      "execution_count": 656,
      "outputs": [
        {
          "output_type": "execute_result",
          "data": {
            "text/html": [
              "<div>\n",
              "<style scoped>\n",
              "    .dataframe tbody tr th:only-of-type {\n",
              "        vertical-align: middle;\n",
              "    }\n",
              "\n",
              "    .dataframe tbody tr th {\n",
              "        vertical-align: top;\n",
              "    }\n",
              "\n",
              "    .dataframe thead th {\n",
              "        text-align: right;\n",
              "    }\n",
              "</style>\n",
              "<table border=\"1\" class=\"dataframe\">\n",
              "  <thead>\n",
              "    <tr style=\"text-align: right;\">\n",
              "      <th></th>\n",
              "      <th></th>\n",
              "      <th></th>\n",
              "    </tr>\n",
              "    <tr>\n",
              "      <th>Year</th>\n",
              "      <th>Genre</th>\n",
              "      <th>sales</th>\n",
              "    </tr>\n",
              "  </thead>\n",
              "  <tbody>\n",
              "    <tr>\n",
              "      <th rowspan=\"5\" valign=\"top\">1980.0</th>\n",
              "      <th>Action</th>\n",
              "      <th>340.0</th>\n",
              "    </tr>\n",
              "    <tr>\n",
              "      <th>Fighting</th>\n",
              "      <th>770.0</th>\n",
              "    </tr>\n",
              "    <tr>\n",
              "      <th rowspan=\"3\" valign=\"top\">Misc</th>\n",
              "      <th>230.0</th>\n",
              "    </tr>\n",
              "    <tr>\n",
              "      <th>270.0</th>\n",
              "    </tr>\n",
              "    <tr>\n",
              "      <th>1050.0</th>\n",
              "    </tr>\n",
              "    <tr>\n",
              "      <th>...</th>\n",
              "      <th>...</th>\n",
              "      <th>...</th>\n",
              "    </tr>\n",
              "    <tr>\n",
              "      <th rowspan=\"5\" valign=\"top\">NaN</th>\n",
              "      <th rowspan=\"5\" valign=\"top\">Strategy</th>\n",
              "      <th>120.0</th>\n",
              "    </tr>\n",
              "    <tr>\n",
              "      <th>130.0</th>\n",
              "    </tr>\n",
              "    <tr>\n",
              "      <th>210.0</th>\n",
              "    </tr>\n",
              "    <tr>\n",
              "      <th>360.0</th>\n",
              "    </tr>\n",
              "    <tr>\n",
              "      <th>630.0</th>\n",
              "    </tr>\n",
              "  </tbody>\n",
              "</table>\n",
              "<p>16598 rows × 0 columns</p>\n",
              "</div>"
            ],
            "text/plain": [
              "Empty DataFrame\n",
              "Columns: []\n",
              "Index: [(1980.0, Action, 340.0), (1980.0, Fighting, 770.0), (1980.0, Misc, 230.0), (1980.0, Misc, 270.0), (1980.0, Misc, 1050.0), (1980.0, Misc, 1150.0), (1980.0, Shooter, 2760.0), (1980.0, Shooter, 4310.0), (1980.0, nan, 500.0), (1981.0, Action, 160.0), (1981.0, Action, 220.0), (1981.0, Action, 220.0), (1981.0, Action, 230.0), (1981.0, Action, 290.0), (1981.0, Action, 310.0), (1981.0, Action, 320.0), (1981.0, Action, 340.0), (1981.0, Action, 350.0), (1981.0, Action, 370.0), (1981.0, Action, 380.0), (1981.0, Action, 390.0), (1981.0, Action, 400.0), (1981.0, Action, 420.0), (1981.0, Action, 450.0), (1981.0, Action, 500.0), (1981.0, Action, 590.0), (1981.0, Action, 670.0), (1981.0, Action, 700.0), (1981.0, Action, 770.0), (1981.0, Action, 790.0), (1981.0, Action, 820.0), (1981.0, Action, 930.0), (1981.0, Action, 1970.0), (1981.0, Action, 2200.0), (1981.0, Platform, 960.0), (1981.0, Platform, 1460.0), (1981.0, Platform, 4500.0), (1981.0, Puzzle, 590.0), (1981.0, Puzzle, 1660.0), (1981.0, Racing, 480.0), (1981.0, Shooter, 220.0), (1981.0, Shooter, 230.0), (1981.0, Shooter, 340.0), (1981.0, Shooter, 730.0), (1981.0, Shooter, 1050.0), (1981.0, Shooter, 1100.0), (1981.0, Shooter, 1270.0), (1981.0, Shooter, 1350.0), (1981.0, Shooter, 1600.0), (1981.0, Shooter, 2130.0), (1981.0, Simulation, 440.0), (1981.0, Sports, 130.0), (1981.0, Sports, 190.0), (1981.0, Sports, 210.0), (1981.0, Sports, 250.0), (1982.0, Action, 140.0), (1982.0, Action, 150.0), (1982.0, Action, 160.0), (1982.0, Action, 220.0), (1982.0, Action, 240.0), (1982.0, Action, 280.0), (1982.0, Action, 280.0), (1982.0, Action, 310.0), (1982.0, Action, 320.0), (1982.0, Action, 340.0), (1982.0, Action, 340.0), (1982.0, Action, 370.0), (1982.0, Action, 390.0), (1982.0, Action, 500.0), (1982.0, Action, 540.0), (1982.0, Action, 620.0), (1982.0, Action, 630.0), (1982.0, Action, 670.0), (1982.0, Misc, 870.0), (1982.0, Platform, 540.0), (1982.0, Platform, 720.0), (1982.0, Platform, 1080.0), (1982.0, Platform, 1100.0), (1982.0, Platform, 1590.0), (1982.0, Puzzle, 590.0), (1982.0, Puzzle, 1640.0), (1982.0, Puzzle, 7810.0), (1982.0, Racing, 390.0), (1982.0, Racing, 1180.0), (1982.0, Shooter, 510.0), (1982.0, Shooter, 620.0), (1982.0, Shooter, 780.0), (1982.0, Shooter, 780.0), (1982.0, Shooter, 1120.0), (1982.0, Sports, 500.0), (1982.0, Sports, 560.0), (1983.0, Action, 160.0), (1983.0, Action, 290.0), (1983.0, Action, 330.0), (1983.0, Action, 340.0), (1983.0, Action, 460.0), (1983.0, Action, 510.0), (1983.0, Action, 770.0), (1983.0, Adventure, 400.0), (1983.0, Misc, 2140.0), ...]\n",
              "\n",
              "[16598 rows x 0 columns]"
            ]
          },
          "metadata": {
            "tags": []
          },
          "execution_count": 656
        }
      ]
    }
  ]
}