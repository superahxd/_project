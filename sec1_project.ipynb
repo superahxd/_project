{
  "nbformat": 4,
  "nbformat_minor": 0,
  "metadata": {
    "colab": {
      "name": "sec1_project.ipynb",
      "provenance": [],
      "include_colab_link": true
    },
    "kernelspec": {
      "name": "python3",
      "display_name": "Python 3"
    },
    "language_info": {
      "name": "python"
    }
  },
  "cells": [
    {
      "cell_type": "markdown",
      "metadata": {
        "id": "view-in-github",
        "colab_type": "text"
      },
      "source": [
        "<a href=\"https://colab.research.google.com/github/superahxd/sec1_project/blob/main/sec1_project.ipynb\" target=\"_parent\"><img src=\"https://colab.research.google.com/assets/colab-badge.svg\" alt=\"Open In Colab\"/></a>"
      ]
    },
    {
      "cell_type": "markdown",
      "metadata": {
        "id": "3omE7ShCbMyh"
      },
      "source": [
        ""
      ]
    },
    {
      "cell_type": "markdown",
      "metadata": {
        "id": "jFNLaUdmvWkl"
      },
      "source": [
        "#💥GOAL\n",
        "\n",
        "다음 분기에 어떤 게임을 설계해야 할까"
      ]
    },
    {
      "cell_type": "markdown",
      "metadata": {
        "id": "kuoVb_dtvHv9"
      },
      "source": [
        "1. 지역에 따라서 선호하는 게임 장르가 다를까\n",
        "2. 연도별 게임의 트렌드가 있을까\n",
        "3. 출고량이 높은 게임에 대한 분석 및 시각화 프로세스"
      ]
    },
    {
      "cell_type": "markdown",
      "metadata": {
        "id": "4Nch-gGju1Eh"
      },
      "source": [
        "# 🕹️ Data Description\n",
        "Name : 게임의 이름입니다.\n",
        "\n",
        "Platform : 게임이 지원되는 플랫폼의 이름입니다.\n",
        "\n",
        "Year : 게임이 출시된 연도입니다.\n",
        "\n",
        "Genre : 게임의 장르입니다.\n",
        "\n",
        "Publisher : 게임을 제작한 회사입니다.\n",
        "\n",
        "NA_Sales : 북미지역에서의 출고량입니다.\n",
        "\n",
        "EU_Sales : 유럽지역에서의 출고량입니다.\n",
        "\n",
        "JP_Sales : 일본지역에서의 출고량입니다.\n",
        "\n",
        "Other_Sales : 기타지역에서의 출고량입니다."
      ]
    },
    {
      "cell_type": "code",
      "metadata": {
        "id": "gquRkULLSdWN"
      },
      "source": [
        "import pandas as pd\n",
        "import numpy as np\n",
        "\n",
        "vgames = pd.read_csv('/content/vgames2.csv')"
      ],
      "execution_count": 207,
      "outputs": []
    },
    {
      "cell_type": "code",
      "metadata": {
        "colab": {
          "base_uri": "https://localhost:8080/",
          "height": 202
        },
        "id": "aH4ZCO4gbMc4",
        "outputId": "5e8d5e38-7b09-4574-a953-121abcff1663"
      },
      "source": [
        "vgames.head()"
      ],
      "execution_count": 208,
      "outputs": [
        {
          "output_type": "execute_result",
          "data": {
            "text/html": [
              "<div>\n",
              "<style scoped>\n",
              "    .dataframe tbody tr th:only-of-type {\n",
              "        vertical-align: middle;\n",
              "    }\n",
              "\n",
              "    .dataframe tbody tr th {\n",
              "        vertical-align: top;\n",
              "    }\n",
              "\n",
              "    .dataframe thead th {\n",
              "        text-align: right;\n",
              "    }\n",
              "</style>\n",
              "<table border=\"1\" class=\"dataframe\">\n",
              "  <thead>\n",
              "    <tr style=\"text-align: right;\">\n",
              "      <th></th>\n",
              "      <th>Unnamed: 0</th>\n",
              "      <th>Name</th>\n",
              "      <th>Platform</th>\n",
              "      <th>Year</th>\n",
              "      <th>Genre</th>\n",
              "      <th>Publisher</th>\n",
              "      <th>NA_Sales</th>\n",
              "      <th>EU_Sales</th>\n",
              "      <th>JP_Sales</th>\n",
              "      <th>Other_Sales</th>\n",
              "    </tr>\n",
              "  </thead>\n",
              "  <tbody>\n",
              "    <tr>\n",
              "      <th>0</th>\n",
              "      <td>1</td>\n",
              "      <td>Candace Kane's Candy Factory</td>\n",
              "      <td>DS</td>\n",
              "      <td>2008.0</td>\n",
              "      <td>Action</td>\n",
              "      <td>Destineer</td>\n",
              "      <td>0.04</td>\n",
              "      <td>0</td>\n",
              "      <td>0</td>\n",
              "      <td>0</td>\n",
              "    </tr>\n",
              "    <tr>\n",
              "      <th>1</th>\n",
              "      <td>2</td>\n",
              "      <td>The Munchables</td>\n",
              "      <td>Wii</td>\n",
              "      <td>2009.0</td>\n",
              "      <td>Action</td>\n",
              "      <td>Namco Bandai Games</td>\n",
              "      <td>0.17</td>\n",
              "      <td>0</td>\n",
              "      <td>0</td>\n",
              "      <td>0.01</td>\n",
              "    </tr>\n",
              "    <tr>\n",
              "      <th>2</th>\n",
              "      <td>3</td>\n",
              "      <td>Otome wa Oanesama Boku ni Koi Shiteru Portable</td>\n",
              "      <td>PSP</td>\n",
              "      <td>2010.0</td>\n",
              "      <td>Adventure</td>\n",
              "      <td>Alchemist</td>\n",
              "      <td>0</td>\n",
              "      <td>0</td>\n",
              "      <td>0.02</td>\n",
              "      <td>0</td>\n",
              "    </tr>\n",
              "    <tr>\n",
              "      <th>3</th>\n",
              "      <td>4</td>\n",
              "      <td>Deal or No Deal: Special Edition</td>\n",
              "      <td>DS</td>\n",
              "      <td>2010.0</td>\n",
              "      <td>Misc</td>\n",
              "      <td>Zoo Games</td>\n",
              "      <td>0.04</td>\n",
              "      <td>0</td>\n",
              "      <td>0</td>\n",
              "      <td>0</td>\n",
              "    </tr>\n",
              "    <tr>\n",
              "      <th>4</th>\n",
              "      <td>5</td>\n",
              "      <td>Ben 10 Ultimate Alien: Cosmic Destruction</td>\n",
              "      <td>PS3</td>\n",
              "      <td>2010.0</td>\n",
              "      <td>Platform</td>\n",
              "      <td>D3Publisher</td>\n",
              "      <td>0.12</td>\n",
              "      <td>0.09</td>\n",
              "      <td>0</td>\n",
              "      <td>0.04</td>\n",
              "    </tr>\n",
              "  </tbody>\n",
              "</table>\n",
              "</div>"
            ],
            "text/plain": [
              "   Unnamed: 0  ... Other_Sales\n",
              "0           1  ...           0\n",
              "1           2  ...        0.01\n",
              "2           3  ...           0\n",
              "3           4  ...           0\n",
              "4           5  ...        0.04\n",
              "\n",
              "[5 rows x 10 columns]"
            ]
          },
          "metadata": {
            "tags": []
          },
          "execution_count": 208
        }
      ]
    },
    {
      "cell_type": "code",
      "metadata": {
        "id": "7fKoftPcBfXc"
      },
      "source": [
        "vgames=vgames.replace('N/A',np.nan)\n",
        "vgames=vgames.dropna()"
      ],
      "execution_count": 209,
      "outputs": []
    },
    {
      "cell_type": "code",
      "metadata": {
        "id": "e9vRMWBwt1kj"
      },
      "source": [
        "def value_to_float(x):\n",
        "    if type(x) == float or type(x) == int:\n",
        "        return x\n",
        "    if 'K' in x:\n",
        "        if len(x) > 1:\n",
        "            return float(x.replace('K', '')) * 1000\n",
        "        return 1000.0\n",
        "    if 'M' in x:\n",
        "        if len(x) > 1:\n",
        "            return float(x.replace('M', '')) * 1000000\n",
        "        return 1000000.0\n",
        "    return float(x)\n",
        "\n",
        "\n",
        "vgames['NA_Sales']=vgames['NA_Sales'].apply(value_to_float)\n",
        "vgames['EU_Sales']=vgames['EU_Sales'].apply(value_to_float)\n",
        "vgames['JP_Sales']=vgames['JP_Sales'].apply(value_to_float)\n",
        "vgames['Other_Sales']=vgames['Other_Sales'].apply(value_to_float)"
      ],
      "execution_count": 210,
      "outputs": []
    },
    {
      "cell_type": "code",
      "metadata": {
        "id": "KxnOZMN0dhxM"
      },
      "source": [
        "def million(x):\n",
        " if x <= 100:\n",
        "   return x * 1000000.0\n",
        " else: return x\n",
        "\n",
        "vgames['NA_Sales']=vgames['NA_Sales'].apply(million)\n",
        "vgames['EU_Sales']=vgames['EU_Sales'].apply(million)\n",
        "vgames['JP_Sales']=vgames['JP_Sales'].apply(million)\n",
        "vgames['Other_Sales']=vgames['Other_Sales'].apply(million)"
      ],
      "execution_count": 211,
      "outputs": []
    },
    {
      "cell_type": "code",
      "metadata": {
        "id": "Ae314imS4Ek4"
      },
      "source": [
        "def division(x):\n",
        "  if x > 0:\n",
        "    return x / 1000\n",
        "  else: return x\n",
        "\n",
        "vgames['NA_Sales']=vgames['NA_Sales'].apply(division)\n",
        "vgames['EU_Sales']=vgames['EU_Sales'].apply(division)\n",
        "vgames['JP_Sales']=vgames['JP_Sales'].apply(division)\n",
        "vgames['Other_Sales']=vgames['Other_Sales'].apply(division)"
      ],
      "execution_count": 212,
      "outputs": []
    },
    {
      "cell_type": "code",
      "metadata": {
        "id": "-YC2SHL5_AuI"
      },
      "source": [
        "def year(x):\n",
        "  if x >= 80 and x <= 100:\n",
        "   return x + 1900\n",
        "  elif x < 80:\n",
        "   return x + 2000\n",
        "  else : return float(x)\n",
        "\n",
        "vgames['Year']=vgames['Year'].apply(year)"
      ],
      "execution_count": 213,
      "outputs": []
    },
    {
      "cell_type": "code",
      "metadata": {
        "colab": {
          "base_uri": "https://localhost:8080/",
          "height": 415
        },
        "id": "gaHD0FDeQflg",
        "outputId": "85fd772f-a17c-4f86-fd47-28b73c4b81a5"
      },
      "source": [
        "vgames=vgames.iloc[:,1:]\n",
        "vgames"
      ],
      "execution_count": 214,
      "outputs": [
        {
          "output_type": "execute_result",
          "data": {
            "text/html": [
              "<div>\n",
              "<style scoped>\n",
              "    .dataframe tbody tr th:only-of-type {\n",
              "        vertical-align: middle;\n",
              "    }\n",
              "\n",
              "    .dataframe tbody tr th {\n",
              "        vertical-align: top;\n",
              "    }\n",
              "\n",
              "    .dataframe thead th {\n",
              "        text-align: right;\n",
              "    }\n",
              "</style>\n",
              "<table border=\"1\" class=\"dataframe\">\n",
              "  <thead>\n",
              "    <tr style=\"text-align: right;\">\n",
              "      <th></th>\n",
              "      <th>Name</th>\n",
              "      <th>Platform</th>\n",
              "      <th>Year</th>\n",
              "      <th>Genre</th>\n",
              "      <th>Publisher</th>\n",
              "      <th>NA_Sales</th>\n",
              "      <th>EU_Sales</th>\n",
              "      <th>JP_Sales</th>\n",
              "      <th>Other_Sales</th>\n",
              "    </tr>\n",
              "  </thead>\n",
              "  <tbody>\n",
              "    <tr>\n",
              "      <th>0</th>\n",
              "      <td>Candace Kane's Candy Factory</td>\n",
              "      <td>DS</td>\n",
              "      <td>2008.0</td>\n",
              "      <td>Action</td>\n",
              "      <td>Destineer</td>\n",
              "      <td>40.0</td>\n",
              "      <td>0.0</td>\n",
              "      <td>0.0</td>\n",
              "      <td>0.0</td>\n",
              "    </tr>\n",
              "    <tr>\n",
              "      <th>1</th>\n",
              "      <td>The Munchables</td>\n",
              "      <td>Wii</td>\n",
              "      <td>2009.0</td>\n",
              "      <td>Action</td>\n",
              "      <td>Namco Bandai Games</td>\n",
              "      <td>170.0</td>\n",
              "      <td>0.0</td>\n",
              "      <td>0.0</td>\n",
              "      <td>10.0</td>\n",
              "    </tr>\n",
              "    <tr>\n",
              "      <th>2</th>\n",
              "      <td>Otome wa Oanesama Boku ni Koi Shiteru Portable</td>\n",
              "      <td>PSP</td>\n",
              "      <td>2010.0</td>\n",
              "      <td>Adventure</td>\n",
              "      <td>Alchemist</td>\n",
              "      <td>0.0</td>\n",
              "      <td>0.0</td>\n",
              "      <td>20.0</td>\n",
              "      <td>0.0</td>\n",
              "    </tr>\n",
              "    <tr>\n",
              "      <th>3</th>\n",
              "      <td>Deal or No Deal: Special Edition</td>\n",
              "      <td>DS</td>\n",
              "      <td>2010.0</td>\n",
              "      <td>Misc</td>\n",
              "      <td>Zoo Games</td>\n",
              "      <td>40.0</td>\n",
              "      <td>0.0</td>\n",
              "      <td>0.0</td>\n",
              "      <td>0.0</td>\n",
              "    </tr>\n",
              "    <tr>\n",
              "      <th>4</th>\n",
              "      <td>Ben 10 Ultimate Alien: Cosmic Destruction</td>\n",
              "      <td>PS3</td>\n",
              "      <td>2010.0</td>\n",
              "      <td>Platform</td>\n",
              "      <td>D3Publisher</td>\n",
              "      <td>120.0</td>\n",
              "      <td>90.0</td>\n",
              "      <td>0.0</td>\n",
              "      <td>40.0</td>\n",
              "    </tr>\n",
              "    <tr>\n",
              "      <th>...</th>\n",
              "      <td>...</td>\n",
              "      <td>...</td>\n",
              "      <td>...</td>\n",
              "      <td>...</td>\n",
              "      <td>...</td>\n",
              "      <td>...</td>\n",
              "      <td>...</td>\n",
              "      <td>...</td>\n",
              "      <td>...</td>\n",
              "    </tr>\n",
              "    <tr>\n",
              "      <th>16593</th>\n",
              "      <td>Ice Age 2: The Meltdown</td>\n",
              "      <td>GC</td>\n",
              "      <td>2006.0</td>\n",
              "      <td>Platform</td>\n",
              "      <td>Vivendi Games</td>\n",
              "      <td>150.0</td>\n",
              "      <td>40.0</td>\n",
              "      <td>0.0</td>\n",
              "      <td>10.0</td>\n",
              "    </tr>\n",
              "    <tr>\n",
              "      <th>16594</th>\n",
              "      <td>Rainbow Islands: Revolution</td>\n",
              "      <td>PSP</td>\n",
              "      <td>2005.0</td>\n",
              "      <td>Action</td>\n",
              "      <td>Rising Star Games</td>\n",
              "      <td>10.0</td>\n",
              "      <td>0.0</td>\n",
              "      <td>0.0</td>\n",
              "      <td>0.0</td>\n",
              "    </tr>\n",
              "    <tr>\n",
              "      <th>16595</th>\n",
              "      <td>NBA 2K16</td>\n",
              "      <td>PS3</td>\n",
              "      <td>2015.0</td>\n",
              "      <td>Sports</td>\n",
              "      <td>Take-Two Interactive</td>\n",
              "      <td>440.0</td>\n",
              "      <td>190.0</td>\n",
              "      <td>30.0</td>\n",
              "      <td>130.0</td>\n",
              "    </tr>\n",
              "    <tr>\n",
              "      <th>16596</th>\n",
              "      <td>Toukiden: The Age of Demons</td>\n",
              "      <td>PSV</td>\n",
              "      <td>2013.0</td>\n",
              "      <td>Action</td>\n",
              "      <td>Tecmo Koei</td>\n",
              "      <td>50.0</td>\n",
              "      <td>50.0</td>\n",
              "      <td>250.0</td>\n",
              "      <td>30.0</td>\n",
              "    </tr>\n",
              "    <tr>\n",
              "      <th>16597</th>\n",
              "      <td>The King of Fighters '95</td>\n",
              "      <td>PS</td>\n",
              "      <td>1996.0</td>\n",
              "      <td>Fighting</td>\n",
              "      <td>Sony Computer Entertainment</td>\n",
              "      <td>0.0</td>\n",
              "      <td>0.0</td>\n",
              "      <td>160.0</td>\n",
              "      <td>10.0</td>\n",
              "    </tr>\n",
              "  </tbody>\n",
              "</table>\n",
              "<p>16241 rows × 9 columns</p>\n",
              "</div>"
            ],
            "text/plain": [
              "                                                 Name  ... Other_Sales\n",
              "0                        Candace Kane's Candy Factory  ...         0.0\n",
              "1                                      The Munchables  ...        10.0\n",
              "2      Otome wa Oanesama Boku ni Koi Shiteru Portable  ...         0.0\n",
              "3                    Deal or No Deal: Special Edition  ...         0.0\n",
              "4           Ben 10 Ultimate Alien: Cosmic Destruction  ...        40.0\n",
              "...                                               ...  ...         ...\n",
              "16593                         Ice Age 2: The Meltdown  ...        10.0\n",
              "16594                     Rainbow Islands: Revolution  ...         0.0\n",
              "16595                                        NBA 2K16  ...       130.0\n",
              "16596                     Toukiden: The Age of Demons  ...        30.0\n",
              "16597                        The King of Fighters '95  ...        10.0\n",
              "\n",
              "[16241 rows x 9 columns]"
            ]
          },
          "metadata": {
            "tags": []
          },
          "execution_count": 214
        }
      ]
    },
    {
      "cell_type": "markdown",
      "metadata": {
        "id": "pM6DKMW6wdPt"
      },
      "source": [
        "1. 🌏지역에 따른 게임 장르 선호도\n",
        "\n",
        "지역에 따라서 선호하는 게임 장르가 다를까\n",
        "\n"
      ]
    },
    {
      "cell_type": "code",
      "metadata": {
        "id": "wgCJYtvwiAf6"
      },
      "source": [
        "import matplotlib.pyplot as plt\n",
        "import numpy as np"
      ],
      "execution_count": 215,
      "outputs": []
    },
    {
      "cell_type": "code",
      "metadata": {
        "colab": {
          "base_uri": "https://localhost:8080/",
          "height": 415
        },
        "id": "VEIXl_2prvl-",
        "outputId": "fb12f494-e744-4563-fab0-fcbfe32c1c79"
      },
      "source": [
        "vgames['Genre'] = vgames['Genre'].dropna()\n",
        "vgames_1=vgames.iloc[:,3:]\n",
        "vgames_1"
      ],
      "execution_count": 216,
      "outputs": [
        {
          "output_type": "execute_result",
          "data": {
            "text/html": [
              "<div>\n",
              "<style scoped>\n",
              "    .dataframe tbody tr th:only-of-type {\n",
              "        vertical-align: middle;\n",
              "    }\n",
              "\n",
              "    .dataframe tbody tr th {\n",
              "        vertical-align: top;\n",
              "    }\n",
              "\n",
              "    .dataframe thead th {\n",
              "        text-align: right;\n",
              "    }\n",
              "</style>\n",
              "<table border=\"1\" class=\"dataframe\">\n",
              "  <thead>\n",
              "    <tr style=\"text-align: right;\">\n",
              "      <th></th>\n",
              "      <th>Genre</th>\n",
              "      <th>Publisher</th>\n",
              "      <th>NA_Sales</th>\n",
              "      <th>EU_Sales</th>\n",
              "      <th>JP_Sales</th>\n",
              "      <th>Other_Sales</th>\n",
              "    </tr>\n",
              "  </thead>\n",
              "  <tbody>\n",
              "    <tr>\n",
              "      <th>0</th>\n",
              "      <td>Action</td>\n",
              "      <td>Destineer</td>\n",
              "      <td>40.0</td>\n",
              "      <td>0.0</td>\n",
              "      <td>0.0</td>\n",
              "      <td>0.0</td>\n",
              "    </tr>\n",
              "    <tr>\n",
              "      <th>1</th>\n",
              "      <td>Action</td>\n",
              "      <td>Namco Bandai Games</td>\n",
              "      <td>170.0</td>\n",
              "      <td>0.0</td>\n",
              "      <td>0.0</td>\n",
              "      <td>10.0</td>\n",
              "    </tr>\n",
              "    <tr>\n",
              "      <th>2</th>\n",
              "      <td>Adventure</td>\n",
              "      <td>Alchemist</td>\n",
              "      <td>0.0</td>\n",
              "      <td>0.0</td>\n",
              "      <td>20.0</td>\n",
              "      <td>0.0</td>\n",
              "    </tr>\n",
              "    <tr>\n",
              "      <th>3</th>\n",
              "      <td>Misc</td>\n",
              "      <td>Zoo Games</td>\n",
              "      <td>40.0</td>\n",
              "      <td>0.0</td>\n",
              "      <td>0.0</td>\n",
              "      <td>0.0</td>\n",
              "    </tr>\n",
              "    <tr>\n",
              "      <th>4</th>\n",
              "      <td>Platform</td>\n",
              "      <td>D3Publisher</td>\n",
              "      <td>120.0</td>\n",
              "      <td>90.0</td>\n",
              "      <td>0.0</td>\n",
              "      <td>40.0</td>\n",
              "    </tr>\n",
              "    <tr>\n",
              "      <th>...</th>\n",
              "      <td>...</td>\n",
              "      <td>...</td>\n",
              "      <td>...</td>\n",
              "      <td>...</td>\n",
              "      <td>...</td>\n",
              "      <td>...</td>\n",
              "    </tr>\n",
              "    <tr>\n",
              "      <th>16593</th>\n",
              "      <td>Platform</td>\n",
              "      <td>Vivendi Games</td>\n",
              "      <td>150.0</td>\n",
              "      <td>40.0</td>\n",
              "      <td>0.0</td>\n",
              "      <td>10.0</td>\n",
              "    </tr>\n",
              "    <tr>\n",
              "      <th>16594</th>\n",
              "      <td>Action</td>\n",
              "      <td>Rising Star Games</td>\n",
              "      <td>10.0</td>\n",
              "      <td>0.0</td>\n",
              "      <td>0.0</td>\n",
              "      <td>0.0</td>\n",
              "    </tr>\n",
              "    <tr>\n",
              "      <th>16595</th>\n",
              "      <td>Sports</td>\n",
              "      <td>Take-Two Interactive</td>\n",
              "      <td>440.0</td>\n",
              "      <td>190.0</td>\n",
              "      <td>30.0</td>\n",
              "      <td>130.0</td>\n",
              "    </tr>\n",
              "    <tr>\n",
              "      <th>16596</th>\n",
              "      <td>Action</td>\n",
              "      <td>Tecmo Koei</td>\n",
              "      <td>50.0</td>\n",
              "      <td>50.0</td>\n",
              "      <td>250.0</td>\n",
              "      <td>30.0</td>\n",
              "    </tr>\n",
              "    <tr>\n",
              "      <th>16597</th>\n",
              "      <td>Fighting</td>\n",
              "      <td>Sony Computer Entertainment</td>\n",
              "      <td>0.0</td>\n",
              "      <td>0.0</td>\n",
              "      <td>160.0</td>\n",
              "      <td>10.0</td>\n",
              "    </tr>\n",
              "  </tbody>\n",
              "</table>\n",
              "<p>16241 rows × 6 columns</p>\n",
              "</div>"
            ],
            "text/plain": [
              "           Genre                    Publisher  ...  JP_Sales  Other_Sales\n",
              "0         Action                    Destineer  ...       0.0          0.0\n",
              "1         Action           Namco Bandai Games  ...       0.0         10.0\n",
              "2      Adventure                    Alchemist  ...      20.0          0.0\n",
              "3           Misc                    Zoo Games  ...       0.0          0.0\n",
              "4       Platform                  D3Publisher  ...       0.0         40.0\n",
              "...          ...                          ...  ...       ...          ...\n",
              "16593   Platform                Vivendi Games  ...       0.0         10.0\n",
              "16594     Action            Rising Star Games  ...       0.0          0.0\n",
              "16595     Sports         Take-Two Interactive  ...      30.0        130.0\n",
              "16596     Action                   Tecmo Koei  ...     250.0         30.0\n",
              "16597   Fighting  Sony Computer Entertainment  ...     160.0         10.0\n",
              "\n",
              "[16241 rows x 6 columns]"
            ]
          },
          "metadata": {
            "tags": []
          },
          "execution_count": 216
        }
      ]
    },
    {
      "cell_type": "code",
      "metadata": {
        "id": "MxgeTWzk3rO2"
      },
      "source": [
        "vgames_sum= vgames_1.groupby(['Genre']).sum()\n",
        "vgames_sum= vgames_sum.T"
      ],
      "execution_count": 217,
      "outputs": []
    },
    {
      "cell_type": "code",
      "metadata": {
        "colab": {
          "base_uri": "https://localhost:8080/",
          "height": 209
        },
        "id": "QAyPlND7r-Br",
        "outputId": "4216b2b7-d690-4bac-9293-79728cd3e273"
      },
      "source": [
        "vgames_mean= vgames_1.groupby(['Genre']).mean()\n",
        "vgames_mean= vgames_mean.T\n",
        "vgames_mean"
      ],
      "execution_count": 218,
      "outputs": [
        {
          "output_type": "execute_result",
          "data": {
            "text/html": [
              "<div>\n",
              "<style scoped>\n",
              "    .dataframe tbody tr th:only-of-type {\n",
              "        vertical-align: middle;\n",
              "    }\n",
              "\n",
              "    .dataframe tbody tr th {\n",
              "        vertical-align: top;\n",
              "    }\n",
              "\n",
              "    .dataframe thead th {\n",
              "        text-align: right;\n",
              "    }\n",
              "</style>\n",
              "<table border=\"1\" class=\"dataframe\">\n",
              "  <thead>\n",
              "    <tr style=\"text-align: right;\">\n",
              "      <th>Genre</th>\n",
              "      <th>Action</th>\n",
              "      <th>Adventure</th>\n",
              "      <th>Fighting</th>\n",
              "      <th>Misc</th>\n",
              "      <th>Platform</th>\n",
              "      <th>Puzzle</th>\n",
              "      <th>Racing</th>\n",
              "      <th>Role-Playing</th>\n",
              "      <th>Shooter</th>\n",
              "      <th>Simulation</th>\n",
              "      <th>Sports</th>\n",
              "      <th>Strategy</th>\n",
              "    </tr>\n",
              "  </thead>\n",
              "  <tbody>\n",
              "    <tr>\n",
              "      <th>NA_Sales</th>\n",
              "      <td>265.046296</td>\n",
              "      <td>80.276025</td>\n",
              "      <td>263.892216</td>\n",
              "      <td>234.818560</td>\n",
              "      <td>510.171821</td>\n",
              "      <td>214.805654</td>\n",
              "      <td>290.976210</td>\n",
              "      <td>217.583618</td>\n",
              "      <td>448.812500</td>\n",
              "      <td>214.456265</td>\n",
              "      <td>290.239234</td>\n",
              "      <td>101.390135</td>\n",
              "    </tr>\n",
              "    <tr>\n",
              "      <th>EU_Sales</th>\n",
              "      <td>158.530864</td>\n",
              "      <td>50.205047</td>\n",
              "      <td>119.640719</td>\n",
              "      <td>123.825104</td>\n",
              "      <td>229.816724</td>\n",
              "      <td>89.169611</td>\n",
              "      <td>192.797375</td>\n",
              "      <td>124.976109</td>\n",
              "      <td>242.367188</td>\n",
              "      <td>133.557920</td>\n",
              "      <td>161.361462</td>\n",
              "      <td>66.995516</td>\n",
              "    </tr>\n",
              "    <tr>\n",
              "      <th>JP_Sales</th>\n",
              "      <td>48.333333</td>\n",
              "      <td>40.906940</td>\n",
              "      <td>104.359281</td>\n",
              "      <td>61.975015</td>\n",
              "      <td>149.518900</td>\n",
              "      <td>99.363958</td>\n",
              "      <td>46.201805</td>\n",
              "      <td>234.081911</td>\n",
              "      <td>29.828125</td>\n",
              "      <td>75.106383</td>\n",
              "      <td>58.616790</td>\n",
              "      <td>73.393124</td>\n",
              "    </tr>\n",
              "    <tr>\n",
              "      <th>Other_Sales</th>\n",
              "      <td>56.787037</td>\n",
              "      <td>13.170347</td>\n",
              "      <td>43.293413</td>\n",
              "      <td>43.212374</td>\n",
              "      <td>58.934708</td>\n",
              "      <td>21.978799</td>\n",
              "      <td>62.764561</td>\n",
              "      <td>38.723549</td>\n",
              "      <td>79.578125</td>\n",
              "      <td>37.021277</td>\n",
              "      <td>57.568508</td>\n",
              "      <td>16.786248</td>\n",
              "    </tr>\n",
              "  </tbody>\n",
              "</table>\n",
              "</div>"
            ],
            "text/plain": [
              "Genre            Action  Adventure  ...      Sports    Strategy\n",
              "NA_Sales     265.046296  80.276025  ...  290.239234  101.390135\n",
              "EU_Sales     158.530864  50.205047  ...  161.361462   66.995516\n",
              "JP_Sales      48.333333  40.906940  ...   58.616790   73.393124\n",
              "Other_Sales   56.787037  13.170347  ...   57.568508   16.786248\n",
              "\n",
              "[4 rows x 12 columns]"
            ]
          },
          "metadata": {
            "tags": []
          },
          "execution_count": 218
        }
      ]
    },
    {
      "cell_type": "code",
      "metadata": {
        "id": "Psax5vHym7L1",
        "colab": {
          "base_uri": "https://localhost:8080/",
          "height": 355
        },
        "outputId": "f935bf11-15bb-4eaf-f104-e83bf6a6e884"
      },
      "source": [
        "vgames_sum.plot(kind='bar',figsize=(11,5), rot=1, alpha = 0.5, title='Sales Total')\n",
        "plt.legend(loc='best')"
      ],
      "execution_count": 219,
      "outputs": [
        {
          "output_type": "execute_result",
          "data": {
            "text/plain": [
              "<matplotlib.legend.Legend at 0x7faa72c8c110>"
            ]
          },
          "metadata": {
            "tags": []
          },
          "execution_count": 219
        },
        {
          "output_type": "display_data",
          "data": {
            "image/png": "[encoded data removed]",
            "text/plain": [
              "<Figure size 792x360 with 1 Axes>"
            ]
          },
          "metadata": {
            "tags": [],
            "needs_background": "light"
          }
        }
      ]
    },
    {
      "cell_type": "code",
      "metadata": {
        "id": "S3VDll91f2_i",
        "colab": {
          "base_uri": "https://localhost:8080/",
          "height": 355
        },
        "outputId": "aedf8ee1-2110-46e3-ce4e-7038df331835"
      },
      "source": [
        "vgames_mean.plot(kind='bar',figsize=(11,5), rot=1, legend='reverse', alpha = 0.5, title='Sales Mean')\n",
        "plt.legend(loc='best')"
      ],
      "execution_count": 220,
      "outputs": [
        {
          "output_type": "execute_result",
          "data": {
            "text/plain": [
              "<matplotlib.legend.Legend at 0x7faa72b6ef90>"
            ]
          },
          "metadata": {
            "tags": []
          },
          "execution_count": 220
        },
        {
          "output_type": "display_data",
          "data": {
            "image/png": "[encoded data removed]",
            "text/plain": [
              "<Figure size 792x360 with 1 Axes>"
            ]
          },
          "metadata": {
            "tags": [],
            "needs_background": "light"
          }
        }
      ]
    },
    {
      "cell_type": "code",
      "metadata": {
        "id": "2nmK_GQO-dOn",
        "colab": {
          "base_uri": "https://localhost:8080/",
          "height": 415
        },
        "outputId": "09f49a5b-d691-4919-f245-07f8ba24a7de"
      },
      "source": [
        "vgames_1.rank(method='min', ascending=False)"
      ],
      "execution_count": 221,
      "outputs": [
        {
          "output_type": "execute_result",
          "data": {
            "text/html": [
              "<div>\n",
              "<style scoped>\n",
              "    .dataframe tbody tr th:only-of-type {\n",
              "        vertical-align: middle;\n",
              "    }\n",
              "\n",
              "    .dataframe tbody tr th {\n",
              "        vertical-align: top;\n",
              "    }\n",
              "\n",
              "    .dataframe thead th {\n",
              "        text-align: right;\n",
              "    }\n",
              "</style>\n",
              "<table border=\"1\" class=\"dataframe\">\n",
              "  <thead>\n",
              "    <tr style=\"text-align: right;\">\n",
              "      <th></th>\n",
              "      <th>Genre</th>\n",
              "      <th>Publisher</th>\n",
              "      <th>NA_Sales</th>\n",
              "      <th>EU_Sales</th>\n",
              "      <th>JP_Sales</th>\n",
              "      <th>Other_Sales</th>\n",
              "    </tr>\n",
              "  </thead>\n",
              "  <tbody>\n",
              "    <tr>\n",
              "      <th>0</th>\n",
              "      <td>13002.0</td>\n",
              "      <td>12572.0</td>\n",
              "      <td>9723.0</td>\n",
              "      <td>10635.0</td>\n",
              "      <td>6069.0</td>\n",
              "      <td>9923.0</td>\n",
              "    </tr>\n",
              "    <tr>\n",
              "      <th>1</th>\n",
              "      <td>13002.0</td>\n",
              "      <td>6789.0</td>\n",
              "      <td>5093.0</td>\n",
              "      <td>10635.0</td>\n",
              "      <td>6069.0</td>\n",
              "      <td>6555.0</td>\n",
              "    </tr>\n",
              "    <tr>\n",
              "      <th>2</th>\n",
              "      <td>11734.0</td>\n",
              "      <td>14613.0</td>\n",
              "      <td>11821.0</td>\n",
              "      <td>10635.0</td>\n",
              "      <td>4659.0</td>\n",
              "      <td>9923.0</td>\n",
              "    </tr>\n",
              "    <tr>\n",
              "      <th>3</th>\n",
              "      <td>9218.0</td>\n",
              "      <td>38.0</td>\n",
              "      <td>9723.0</td>\n",
              "      <td>10635.0</td>\n",
              "      <td>6069.0</td>\n",
              "      <td>9923.0</td>\n",
              "    </tr>\n",
              "    <tr>\n",
              "      <th>4</th>\n",
              "      <td>8345.0</td>\n",
              "      <td>12822.0</td>\n",
              "      <td>6343.0</td>\n",
              "      <td>4429.0</td>\n",
              "      <td>6069.0</td>\n",
              "      <td>3429.0</td>\n",
              "    </tr>\n",
              "    <tr>\n",
              "      <th>...</th>\n",
              "      <td>...</td>\n",
              "      <td>...</td>\n",
              "      <td>...</td>\n",
              "      <td>...</td>\n",
              "      <td>...</td>\n",
              "      <td>...</td>\n",
              "    </tr>\n",
              "    <tr>\n",
              "      <th>16593</th>\n",
              "      <td>8345.0</td>\n",
              "      <td>456.0</td>\n",
              "      <td>5508.0</td>\n",
              "      <td>6286.0</td>\n",
              "      <td>6069.0</td>\n",
              "      <td>6555.0</td>\n",
              "    </tr>\n",
              "    <tr>\n",
              "      <th>16594</th>\n",
              "      <td>13002.0</td>\n",
              "      <td>5446.0</td>\n",
              "      <td>11300.0</td>\n",
              "      <td>10635.0</td>\n",
              "      <td>6069.0</td>\n",
              "      <td>9923.0</td>\n",
              "    </tr>\n",
              "    <tr>\n",
              "      <th>16595</th>\n",
              "      <td>670.0</td>\n",
              "      <td>2250.0</td>\n",
              "      <td>2309.0</td>\n",
              "      <td>2735.0</td>\n",
              "      <td>4137.0</td>\n",
              "      <td>1279.0</td>\n",
              "    </tr>\n",
              "    <tr>\n",
              "      <th>16596</th>\n",
              "      <td>13002.0</td>\n",
              "      <td>1907.0</td>\n",
              "      <td>9204.0</td>\n",
              "      <td>5752.0</td>\n",
              "      <td>1206.0</td>\n",
              "      <td>4082.0</td>\n",
              "    </tr>\n",
              "    <tr>\n",
              "      <th>16597</th>\n",
              "      <td>10899.0</td>\n",
              "      <td>3987.0</td>\n",
              "      <td>11821.0</td>\n",
              "      <td>10635.0</td>\n",
              "      <td>1716.0</td>\n",
              "      <td>6555.0</td>\n",
              "    </tr>\n",
              "  </tbody>\n",
              "</table>\n",
              "<p>16241 rows × 6 columns</p>\n",
              "</div>"
            ],
            "text/plain": [
              "         Genre  Publisher  NA_Sales  EU_Sales  JP_Sales  Other_Sales\n",
              "0      13002.0    12572.0    9723.0   10635.0    6069.0       9923.0\n",
              "1      13002.0     6789.0    5093.0   10635.0    6069.0       6555.0\n",
              "2      11734.0    14613.0   11821.0   10635.0    4659.0       9923.0\n",
              "3       9218.0       38.0    9723.0   10635.0    6069.0       9923.0\n",
              "4       8345.0    12822.0    6343.0    4429.0    6069.0       3429.0\n",
              "...        ...        ...       ...       ...       ...          ...\n",
              "16593   8345.0      456.0    5508.0    6286.0    6069.0       6555.0\n",
              "16594  13002.0     5446.0   11300.0   10635.0    6069.0       9923.0\n",
              "16595    670.0     2250.0    2309.0    2735.0    4137.0       1279.0\n",
              "16596  13002.0     1907.0    9204.0    5752.0    1206.0       4082.0\n",
              "16597  10899.0     3987.0   11821.0   10635.0    1716.0       6555.0\n",
              "\n",
              "[16241 rows x 6 columns]"
            ]
          },
          "metadata": {
            "tags": []
          },
          "execution_count": 221
        }
      ]
    },
    {
      "cell_type": "markdown",
      "metadata": {
        "id": "1m5tP-4hCIWh"
      },
      "source": [
        "\n",
        "|인기종목 |1st | 2nd | 3rd |\n",
        "|:-:|:-:|:-:|:-:|\n",
        "|북미|Platform|Shooter|simulation|\n",
        "|유럽|Shooter|Platform|Racing|\n",
        "|일본|Role-Playing|Adventure|Fighting|\n",
        "|그외|Shooter|Racing|Platform|\n",
        "\n",
        "<br/>\n",
        "\n",
        "|비인기종목 |1st | 2nd | 3rd |\n",
        "|:-:|:-:|:-:|:-:|\n",
        "|북미|Adventure\t|Strategy|Sports|\n",
        "|유럽|Adventure\t|Strategy|Puzzle|\n",
        "|일본|Shooter|Platform|Racing|\n",
        "|그외|Adventure\t|Strategy|Platform|\n"
      ]
    },
    {
      "cell_type": "code",
      "metadata": {
        "id": "JyynuO8vLWk2",
        "colab": {
          "base_uri": "https://localhost:8080/",
          "height": 171
        },
        "outputId": "6008f7f2-7b4a-4e63-8cf1-ac32c260abb0"
      },
      "source": [
        "vgames_sum.T.corr(method = 'pearson')"
      ],
      "execution_count": 222,
      "outputs": [
        {
          "output_type": "execute_result",
          "data": {
            "text/html": [
              "<div>\n",
              "<style scoped>\n",
              "    .dataframe tbody tr th:only-of-type {\n",
              "        vertical-align: middle;\n",
              "    }\n",
              "\n",
              "    .dataframe tbody tr th {\n",
              "        vertical-align: top;\n",
              "    }\n",
              "\n",
              "    .dataframe thead th {\n",
              "        text-align: right;\n",
              "    }\n",
              "</style>\n",
              "<table border=\"1\" class=\"dataframe\">\n",
              "  <thead>\n",
              "    <tr style=\"text-align: right;\">\n",
              "      <th></th>\n",
              "      <th>NA_Sales</th>\n",
              "      <th>EU_Sales</th>\n",
              "      <th>JP_Sales</th>\n",
              "      <th>Other_Sales</th>\n",
              "    </tr>\n",
              "  </thead>\n",
              "  <tbody>\n",
              "    <tr>\n",
              "      <th>NA_Sales</th>\n",
              "      <td>1.000000</td>\n",
              "      <td>0.986484</td>\n",
              "      <td>0.285377</td>\n",
              "      <td>0.974401</td>\n",
              "    </tr>\n",
              "    <tr>\n",
              "      <th>EU_Sales</th>\n",
              "      <td>0.986484</td>\n",
              "      <td>1.000000</td>\n",
              "      <td>0.278428</td>\n",
              "      <td>0.994272</td>\n",
              "    </tr>\n",
              "    <tr>\n",
              "      <th>JP_Sales</th>\n",
              "      <td>0.285377</td>\n",
              "      <td>0.278428</td>\n",
              "      <td>1.000000</td>\n",
              "      <td>0.263562</td>\n",
              "    </tr>\n",
              "    <tr>\n",
              "      <th>Other_Sales</th>\n",
              "      <td>0.974401</td>\n",
              "      <td>0.994272</td>\n",
              "      <td>0.263562</td>\n",
              "      <td>1.000000</td>\n",
              "    </tr>\n",
              "  </tbody>\n",
              "</table>\n",
              "</div>"
            ],
            "text/plain": [
              "             NA_Sales  EU_Sales  JP_Sales  Other_Sales\n",
              "NA_Sales     1.000000  0.986484  0.285377     0.974401\n",
              "EU_Sales     0.986484  1.000000  0.278428     0.994272\n",
              "JP_Sales     0.285377  0.278428  1.000000     0.263562\n",
              "Other_Sales  0.974401  0.994272  0.263562     1.000000"
            ]
          },
          "metadata": {
            "tags": []
          },
          "execution_count": 222
        }
      ]
    },
    {
      "cell_type": "code",
      "metadata": {
        "id": "fJHCmiW0Ley8",
        "colab": {
          "base_uri": "https://localhost:8080/",
          "height": 171
        },
        "outputId": "bed25c7b-6309-4304-9d0a-31f751745127"
      },
      "source": [
        "vgames_mean.T.corr(method = 'pearson')"
      ],
      "execution_count": 223,
      "outputs": [
        {
          "output_type": "execute_result",
          "data": {
            "text/html": [
              "<div>\n",
              "<style scoped>\n",
              "    .dataframe tbody tr th:only-of-type {\n",
              "        vertical-align: middle;\n",
              "    }\n",
              "\n",
              "    .dataframe tbody tr th {\n",
              "        vertical-align: top;\n",
              "    }\n",
              "\n",
              "    .dataframe thead th {\n",
              "        text-align: right;\n",
              "    }\n",
              "</style>\n",
              "<table border=\"1\" class=\"dataframe\">\n",
              "  <thead>\n",
              "    <tr style=\"text-align: right;\">\n",
              "      <th></th>\n",
              "      <th>NA_Sales</th>\n",
              "      <th>EU_Sales</th>\n",
              "      <th>JP_Sales</th>\n",
              "      <th>Other_Sales</th>\n",
              "    </tr>\n",
              "  </thead>\n",
              "  <tbody>\n",
              "    <tr>\n",
              "      <th>NA_Sales</th>\n",
              "      <td>1.000000</td>\n",
              "      <td>0.942317</td>\n",
              "      <td>0.096376</td>\n",
              "      <td>0.848786</td>\n",
              "    </tr>\n",
              "    <tr>\n",
              "      <th>EU_Sales</th>\n",
              "      <td>0.942317</td>\n",
              "      <td>1.000000</td>\n",
              "      <td>-0.033686</td>\n",
              "      <td>0.951116</td>\n",
              "    </tr>\n",
              "    <tr>\n",
              "      <th>JP_Sales</th>\n",
              "      <td>0.096376</td>\n",
              "      <td>-0.033686</td>\n",
              "      <td>1.000000</td>\n",
              "      <td>-0.150381</td>\n",
              "    </tr>\n",
              "    <tr>\n",
              "      <th>Other_Sales</th>\n",
              "      <td>0.848786</td>\n",
              "      <td>0.951116</td>\n",
              "      <td>-0.150381</td>\n",
              "      <td>1.000000</td>\n",
              "    </tr>\n",
              "  </tbody>\n",
              "</table>\n",
              "</div>"
            ],
            "text/plain": [
              "             NA_Sales  EU_Sales  JP_Sales  Other_Sales\n",
              "NA_Sales     1.000000  0.942317  0.096376     0.848786\n",
              "EU_Sales     0.942317  1.000000 -0.033686     0.951116\n",
              "JP_Sales     0.096376 -0.033686  1.000000    -0.150381\n",
              "Other_Sales  0.848786  0.951116 -0.150381     1.000000"
            ]
          },
          "metadata": {
            "tags": []
          },
          "execution_count": 223
        }
      ]
    },
    {
      "cell_type": "markdown",
      "metadata": {
        "id": "ifbw_sA1Lk__"
      },
      "source": [
        "2. 📅연도별 트랜드 변화\n",
        "</br>장르별"
      ]
    },
    {
      "cell_type": "code",
      "metadata": {
        "id": "3OZyTXPmLup0",
        "colab": {
          "base_uri": "https://localhost:8080/",
          "height": 415
        },
        "outputId": "0a12cfd0-e091-4081-e730-9d8725b30d46"
      },
      "source": [
        "vgames_2_Genre = vgames.iloc[:, 2:4]\n",
        "vgames_2_Genre['sales'] = vgames.iloc[:, 5:].sum(axis = 1, skipna = True)\n",
        "vgames_2_Genre"
      ],
      "execution_count": 224,
      "outputs": [
        {
          "output_type": "execute_result",
          "data": {
            "text/html": [
              "<div>\n",
              "<style scoped>\n",
              "    .dataframe tbody tr th:only-of-type {\n",
              "        vertical-align: middle;\n",
              "    }\n",
              "\n",
              "    .dataframe tbody tr th {\n",
              "        vertical-align: top;\n",
              "    }\n",
              "\n",
              "    .dataframe thead th {\n",
              "        text-align: right;\n",
              "    }\n",
              "</style>\n",
              "<table border=\"1\" class=\"dataframe\">\n",
              "  <thead>\n",
              "    <tr style=\"text-align: right;\">\n",
              "      <th></th>\n",
              "      <th>Year</th>\n",
              "      <th>Genre</th>\n",
              "      <th>sales</th>\n",
              "    </tr>\n",
              "  </thead>\n",
              "  <tbody>\n",
              "    <tr>\n",
              "      <th>0</th>\n",
              "      <td>2008.0</td>\n",
              "      <td>Action</td>\n",
              "      <td>40.0</td>\n",
              "    </tr>\n",
              "    <tr>\n",
              "      <th>1</th>\n",
              "      <td>2009.0</td>\n",
              "      <td>Action</td>\n",
              "      <td>180.0</td>\n",
              "    </tr>\n",
              "    <tr>\n",
              "      <th>2</th>\n",
              "      <td>2010.0</td>\n",
              "      <td>Adventure</td>\n",
              "      <td>20.0</td>\n",
              "    </tr>\n",
              "    <tr>\n",
              "      <th>3</th>\n",
              "      <td>2010.0</td>\n",
              "      <td>Misc</td>\n",
              "      <td>40.0</td>\n",
              "    </tr>\n",
              "    <tr>\n",
              "      <th>4</th>\n",
              "      <td>2010.0</td>\n",
              "      <td>Platform</td>\n",
              "      <td>250.0</td>\n",
              "    </tr>\n",
              "    <tr>\n",
              "      <th>...</th>\n",
              "      <td>...</td>\n",
              "      <td>...</td>\n",
              "      <td>...</td>\n",
              "    </tr>\n",
              "    <tr>\n",
              "      <th>16593</th>\n",
              "      <td>2006.0</td>\n",
              "      <td>Platform</td>\n",
              "      <td>200.0</td>\n",
              "    </tr>\n",
              "    <tr>\n",
              "      <th>16594</th>\n",
              "      <td>2005.0</td>\n",
              "      <td>Action</td>\n",
              "      <td>10.0</td>\n",
              "    </tr>\n",
              "    <tr>\n",
              "      <th>16595</th>\n",
              "      <td>2015.0</td>\n",
              "      <td>Sports</td>\n",
              "      <td>790.0</td>\n",
              "    </tr>\n",
              "    <tr>\n",
              "      <th>16596</th>\n",
              "      <td>2013.0</td>\n",
              "      <td>Action</td>\n",
              "      <td>380.0</td>\n",
              "    </tr>\n",
              "    <tr>\n",
              "      <th>16597</th>\n",
              "      <td>1996.0</td>\n",
              "      <td>Fighting</td>\n",
              "      <td>170.0</td>\n",
              "    </tr>\n",
              "  </tbody>\n",
              "</table>\n",
              "<p>16241 rows × 3 columns</p>\n",
              "</div>"
            ],
            "text/plain": [
              "         Year      Genre  sales\n",
              "0      2008.0     Action   40.0\n",
              "1      2009.0     Action  180.0\n",
              "2      2010.0  Adventure   20.0\n",
              "3      2010.0       Misc   40.0\n",
              "4      2010.0   Platform  250.0\n",
              "...       ...        ...    ...\n",
              "16593  2006.0   Platform  200.0\n",
              "16594  2005.0     Action   10.0\n",
              "16595  2015.0     Sports  790.0\n",
              "16596  2013.0     Action  380.0\n",
              "16597  1996.0   Fighting  170.0\n",
              "\n",
              "[16241 rows x 3 columns]"
            ]
          },
          "metadata": {
            "tags": []
          },
          "execution_count": 224
        }
      ]
    },
    {
      "cell_type": "code",
      "metadata": {
        "id": "ESINzvAGMvIB",
        "colab": {
          "base_uri": "https://localhost:8080/"
        },
        "outputId": "b3598ab0-00d7-4c1b-b4c2-99275ce2393c"
      },
      "source": [
        "pivot_vgames = pd.pivot_table(vgames_2_Genre, 'sales', 'Year', 'Genre', aggfunc='sum', fill_value=0)\n",
        "#pivot_vgames['sum']=pivot_vgames.sum(axis = 1, skipna = True)\n",
        "pivot_vgames.head()\n",
        "pivot_index = pivot_vgames.index\n",
        "pivot_columns= pivot_vgames.columns\n",
        "pivot_index"
      ],
      "execution_count": 225,
      "outputs": [
        {
          "output_type": "execute_result",
          "data": {
            "text/plain": [
              "Float64Index([1980.0, 1981.0, 1982.0, 1983.0, 1984.0, 1985.0, 1986.0, 1987.0,\n",
              "              1988.0, 1989.0, 1990.0, 1991.0, 1992.0, 1993.0, 1994.0, 1995.0,\n",
              "              1996.0, 1997.0, 1998.0, 1999.0, 2000.0, 2001.0, 2002.0, 2003.0,\n",
              "              2004.0, 2005.0, 2006.0, 2007.0, 2008.0, 2009.0, 2010.0, 2011.0,\n",
              "              2012.0, 2013.0, 2014.0, 2015.0, 2016.0, 2017.0, 2020.0],\n",
              "             dtype='float64', name='Year')"
            ]
          },
          "metadata": {
            "tags": []
          },
          "execution_count": 225
        }
      ]
    },
    {
      "cell_type": "code",
      "metadata": {
        "id": "kT3Fw6VqW0O0",
        "colab": {
          "base_uri": "https://localhost:8080/"
        },
        "outputId": "e7c6edfe-a1eb-4dcf-8b56-35f4493a81db"
      },
      "source": [
        "pivot_sum = np.array(pivot_vgames.sum(axis = 1, skipna = True))\n",
        "pivot_sum[0]"
      ],
      "execution_count": 226,
      "outputs": [
        {
          "output_type": "execute_result",
          "data": {
            "text/plain": [
              "10880"
            ]
          },
          "metadata": {
            "tags": []
          },
          "execution_count": 226
        }
      ]
    },
    {
      "cell_type": "code",
      "metadata": {
        "id": "MM_3HubgUeM0",
        "colab": {
          "base_uri": "https://localhost:8080/",
          "height": 233
        },
        "outputId": "35a074d0-a3d5-4fb1-ae17-d12cfe167cbd"
      },
      "source": [
        "pivot_array = np.array(pivot_vgames)\n",
        "array_pivot=pd.DataFrame(pivot_array / pivot_array.sum(1, keepdims=True),\n",
        "                         index=pivot_index, columns=pivot_columns)\n",
        "array_pivot.head()"
      ],
      "execution_count": 227,
      "outputs": [
        {
          "output_type": "execute_result",
          "data": {
            "text/html": [
              "<div>\n",
              "<style scoped>\n",
              "    .dataframe tbody tr th:only-of-type {\n",
              "        vertical-align: middle;\n",
              "    }\n",
              "\n",
              "    .dataframe tbody tr th {\n",
              "        vertical-align: top;\n",
              "    }\n",
              "\n",
              "    .dataframe thead th {\n",
              "        text-align: right;\n",
              "    }\n",
              "</style>\n",
              "<table border=\"1\" class=\"dataframe\">\n",
              "  <thead>\n",
              "    <tr style=\"text-align: right;\">\n",
              "      <th>Genre</th>\n",
              "      <th>Action</th>\n",
              "      <th>Adventure</th>\n",
              "      <th>Fighting</th>\n",
              "      <th>Misc</th>\n",
              "      <th>Platform</th>\n",
              "      <th>Puzzle</th>\n",
              "      <th>Racing</th>\n",
              "      <th>Role-Playing</th>\n",
              "      <th>Shooter</th>\n",
              "      <th>Simulation</th>\n",
              "      <th>Sports</th>\n",
              "      <th>Strategy</th>\n",
              "    </tr>\n",
              "    <tr>\n",
              "      <th>Year</th>\n",
              "      <th></th>\n",
              "      <th></th>\n",
              "      <th></th>\n",
              "      <th></th>\n",
              "      <th></th>\n",
              "      <th></th>\n",
              "      <th></th>\n",
              "      <th></th>\n",
              "      <th></th>\n",
              "      <th></th>\n",
              "      <th></th>\n",
              "      <th></th>\n",
              "    </tr>\n",
              "  </thead>\n",
              "  <tbody>\n",
              "    <tr>\n",
              "      <th>1980.0</th>\n",
              "      <td>0.031250</td>\n",
              "      <td>0.00000</td>\n",
              "      <td>0.070772</td>\n",
              "      <td>0.248162</td>\n",
              "      <td>0.000000</td>\n",
              "      <td>0.000000</td>\n",
              "      <td>0.000000</td>\n",
              "      <td>0.0</td>\n",
              "      <td>0.649816</td>\n",
              "      <td>0.000000</td>\n",
              "      <td>0.000000</td>\n",
              "      <td>0.0</td>\n",
              "    </tr>\n",
              "    <tr>\n",
              "      <th>1981.0</th>\n",
              "      <td>0.414518</td>\n",
              "      <td>0.00000</td>\n",
              "      <td>0.000000</td>\n",
              "      <td>0.000000</td>\n",
              "      <td>0.193946</td>\n",
              "      <td>0.063061</td>\n",
              "      <td>0.013453</td>\n",
              "      <td>0.0</td>\n",
              "      <td>0.280830</td>\n",
              "      <td>0.012332</td>\n",
              "      <td>0.021861</td>\n",
              "      <td>0.0</td>\n",
              "    </tr>\n",
              "    <tr>\n",
              "      <th>1982.0</th>\n",
              "      <td>0.225069</td>\n",
              "      <td>0.00000</td>\n",
              "      <td>0.000000</td>\n",
              "      <td>0.030125</td>\n",
              "      <td>0.174169</td>\n",
              "      <td>0.347645</td>\n",
              "      <td>0.054363</td>\n",
              "      <td>0.0</td>\n",
              "      <td>0.131925</td>\n",
              "      <td>0.000000</td>\n",
              "      <td>0.036704</td>\n",
              "      <td>0.0</td>\n",
              "    </tr>\n",
              "    <tr>\n",
              "      <th>1983.0</th>\n",
              "      <td>0.170238</td>\n",
              "      <td>0.02381</td>\n",
              "      <td>0.000000</td>\n",
              "      <td>0.127381</td>\n",
              "      <td>0.412500</td>\n",
              "      <td>0.046429</td>\n",
              "      <td>0.000000</td>\n",
              "      <td>0.0</td>\n",
              "      <td>0.029167</td>\n",
              "      <td>0.000000</td>\n",
              "      <td>0.190476</td>\n",
              "      <td>0.0</td>\n",
              "    </tr>\n",
              "    <tr>\n",
              "      <th>1984.0</th>\n",
              "      <td>0.036743</td>\n",
              "      <td>0.00000</td>\n",
              "      <td>0.000000</td>\n",
              "      <td>0.028798</td>\n",
              "      <td>0.013704</td>\n",
              "      <td>0.062363</td>\n",
              "      <td>0.118173</td>\n",
              "      <td>0.0</td>\n",
              "      <td>0.617676</td>\n",
              "      <td>0.000000</td>\n",
              "      <td>0.122542</td>\n",
              "      <td>0.0</td>\n",
              "    </tr>\n",
              "  </tbody>\n",
              "</table>\n",
              "</div>"
            ],
            "text/plain": [
              "Genre     Action  Adventure  Fighting  ...  Simulation    Sports  Strategy\n",
              "Year                                   ...                                \n",
              "1980.0  0.031250    0.00000  0.070772  ...    0.000000  0.000000       0.0\n",
              "1981.0  0.414518    0.00000  0.000000  ...    0.012332  0.021861       0.0\n",
              "1982.0  0.225069    0.00000  0.000000  ...    0.000000  0.036704       0.0\n",
              "1983.0  0.170238    0.02381  0.000000  ...    0.000000  0.190476       0.0\n",
              "1984.0  0.036743    0.00000  0.000000  ...    0.000000  0.122542       0.0\n",
              "\n",
              "[5 rows x 12 columns]"
            ]
          },
          "metadata": {
            "tags": []
          },
          "execution_count": 227
        }
      ]
    },
    {
      "cell_type": "code",
      "metadata": {
        "id": "95E7PV_fExAE",
        "colab": {
          "base_uri": "https://localhost:8080/",
          "height": 421
        },
        "outputId": "05476645-8ed5-4211-d917-03e3ba2725b8"
      },
      "source": [
        "  array_pivot.plot(kind='line', \n",
        "                  figsize=(16,6), \n",
        "                  title='Market Share of Genre', \n",
        "                  grid=True)\n",
        "  plt.legend(loc='best')"
      ],
      "execution_count": 228,
      "outputs": [
        {
          "output_type": "execute_result",
          "data": {
            "text/plain": [
              "<matplotlib.legend.Legend at 0x7faa729e6790>"
            ]
          },
          "metadata": {
            "tags": []
          },
          "execution_count": 228
        },
        {
          "output_type": "display_data",
          "data": {
            "image/png": "[encoded data removed]",
            "text/plain": [
              "<Figure size 1152x432 with 1 Axes>"
            ]
          },
          "metadata": {
            "tags": [],
            "needs_background": "light"
          }
        }
      ]
    },
    {
      "cell_type": "markdown",
      "metadata": {
        "id": "3v6JrMYjbW95"
      },
      "source": [
        "3. 출고량이 높은 게임에 대한 분석 및 시각화 프로세스"
      ]
    },
    {
      "cell_type": "code",
      "metadata": {
        "id": "Wbxvq1hgmir6",
        "colab": {
          "base_uri": "https://localhost:8080/",
          "height": 467
        },
        "outputId": "9fb6dd30-d43b-4bca-c3ab-118cdaef701d"
      },
      "source": [
        "vgames_3 = vgames.iloc[:,:]\n",
        "vgames_3['sales'] = vgames.iloc[:, 5:].sum(axis = 1, skipna = True)\n",
        "vgames_3['rank'] = vgames_3['sales'].rank(method=\"min\", ascending = True)\n",
        "vgames_3"
      ],
      "execution_count": 229,
      "outputs": [
        {
          "output_type": "execute_result",
          "data": {
            "text/html": [
              "<div>\n",
              "<style scoped>\n",
              "    .dataframe tbody tr th:only-of-type {\n",
              "        vertical-align: middle;\n",
              "    }\n",
              "\n",
              "    .dataframe tbody tr th {\n",
              "        vertical-align: top;\n",
              "    }\n",
              "\n",
              "    .dataframe thead th {\n",
              "        text-align: right;\n",
              "    }\n",
              "</style>\n",
              "<table border=\"1\" class=\"dataframe\">\n",
              "  <thead>\n",
              "    <tr style=\"text-align: right;\">\n",
              "      <th></th>\n",
              "      <th>Name</th>\n",
              "      <th>Platform</th>\n",
              "      <th>Year</th>\n",
              "      <th>Genre</th>\n",
              "      <th>Publisher</th>\n",
              "      <th>NA_Sales</th>\n",
              "      <th>EU_Sales</th>\n",
              "      <th>JP_Sales</th>\n",
              "      <th>Other_Sales</th>\n",
              "      <th>sales</th>\n",
              "      <th>rank</th>\n",
              "    </tr>\n",
              "  </thead>\n",
              "  <tbody>\n",
              "    <tr>\n",
              "      <th>0</th>\n",
              "      <td>Candace Kane's Candy Factory</td>\n",
              "      <td>DS</td>\n",
              "      <td>2008.0</td>\n",
              "      <td>Action</td>\n",
              "      <td>Destineer</td>\n",
              "      <td>40.0</td>\n",
              "      <td>0.0</td>\n",
              "      <td>0.0</td>\n",
              "      <td>0.0</td>\n",
              "      <td>40.0</td>\n",
              "      <td>2486.0</td>\n",
              "    </tr>\n",
              "    <tr>\n",
              "      <th>1</th>\n",
              "      <td>The Munchables</td>\n",
              "      <td>Wii</td>\n",
              "      <td>2009.0</td>\n",
              "      <td>Action</td>\n",
              "      <td>Namco Bandai Games</td>\n",
              "      <td>170.0</td>\n",
              "      <td>0.0</td>\n",
              "      <td>0.0</td>\n",
              "      <td>10.0</td>\n",
              "      <td>180.0</td>\n",
              "      <td>8185.0</td>\n",
              "    </tr>\n",
              "    <tr>\n",
              "      <th>2</th>\n",
              "      <td>Otome wa Oanesama Boku ni Koi Shiteru Portable</td>\n",
              "      <td>PSP</td>\n",
              "      <td>2010.0</td>\n",
              "      <td>Adventure</td>\n",
              "      <td>Alchemist</td>\n",
              "      <td>0.0</td>\n",
              "      <td>0.0</td>\n",
              "      <td>20.0</td>\n",
              "      <td>0.0</td>\n",
              "      <td>20.0</td>\n",
              "      <td>759.0</td>\n",
              "    </tr>\n",
              "    <tr>\n",
              "      <th>3</th>\n",
              "      <td>Deal or No Deal: Special Edition</td>\n",
              "      <td>DS</td>\n",
              "      <td>2010.0</td>\n",
              "      <td>Misc</td>\n",
              "      <td>Zoo Games</td>\n",
              "      <td>40.0</td>\n",
              "      <td>0.0</td>\n",
              "      <td>0.0</td>\n",
              "      <td>0.0</td>\n",
              "      <td>40.0</td>\n",
              "      <td>2486.0</td>\n",
              "    </tr>\n",
              "    <tr>\n",
              "      <th>4</th>\n",
              "      <td>Ben 10 Ultimate Alien: Cosmic Destruction</td>\n",
              "      <td>PS3</td>\n",
              "      <td>2010.0</td>\n",
              "      <td>Platform</td>\n",
              "      <td>D3Publisher</td>\n",
              "      <td>120.0</td>\n",
              "      <td>90.0</td>\n",
              "      <td>0.0</td>\n",
              "      <td>40.0</td>\n",
              "      <td>250.0</td>\n",
              "      <td>9598.0</td>\n",
              "    </tr>\n",
              "    <tr>\n",
              "      <th>...</th>\n",
              "      <td>...</td>\n",
              "      <td>...</td>\n",
              "      <td>...</td>\n",
              "      <td>...</td>\n",
              "      <td>...</td>\n",
              "      <td>...</td>\n",
              "      <td>...</td>\n",
              "      <td>...</td>\n",
              "      <td>...</td>\n",
              "      <td>...</td>\n",
              "      <td>...</td>\n",
              "    </tr>\n",
              "    <tr>\n",
              "      <th>16593</th>\n",
              "      <td>Ice Age 2: The Meltdown</td>\n",
              "      <td>GC</td>\n",
              "      <td>2006.0</td>\n",
              "      <td>Platform</td>\n",
              "      <td>Vivendi Games</td>\n",
              "      <td>150.0</td>\n",
              "      <td>40.0</td>\n",
              "      <td>0.0</td>\n",
              "      <td>10.0</td>\n",
              "      <td>200.0</td>\n",
              "      <td>8682.0</td>\n",
              "    </tr>\n",
              "    <tr>\n",
              "      <th>16594</th>\n",
              "      <td>Rainbow Islands: Revolution</td>\n",
              "      <td>PSP</td>\n",
              "      <td>2005.0</td>\n",
              "      <td>Action</td>\n",
              "      <td>Rising Star Games</td>\n",
              "      <td>10.0</td>\n",
              "      <td>0.0</td>\n",
              "      <td>0.0</td>\n",
              "      <td>0.0</td>\n",
              "      <td>10.0</td>\n",
              "      <td>2.0</td>\n",
              "    </tr>\n",
              "    <tr>\n",
              "      <th>16595</th>\n",
              "      <td>NBA 2K16</td>\n",
              "      <td>PS3</td>\n",
              "      <td>2015.0</td>\n",
              "      <td>Sports</td>\n",
              "      <td>Take-Two Interactive</td>\n",
              "      <td>440.0</td>\n",
              "      <td>190.0</td>\n",
              "      <td>30.0</td>\n",
              "      <td>130.0</td>\n",
              "      <td>790.0</td>\n",
              "      <td>13666.0</td>\n",
              "    </tr>\n",
              "    <tr>\n",
              "      <th>16596</th>\n",
              "      <td>Toukiden: The Age of Demons</td>\n",
              "      <td>PSV</td>\n",
              "      <td>2013.0</td>\n",
              "      <td>Action</td>\n",
              "      <td>Tecmo Koei</td>\n",
              "      <td>50.0</td>\n",
              "      <td>50.0</td>\n",
              "      <td>250.0</td>\n",
              "      <td>30.0</td>\n",
              "      <td>380.0</td>\n",
              "      <td>11270.0</td>\n",
              "    </tr>\n",
              "    <tr>\n",
              "      <th>16597</th>\n",
              "      <td>The King of Fighters '95</td>\n",
              "      <td>PS</td>\n",
              "      <td>1996.0</td>\n",
              "      <td>Fighting</td>\n",
              "      <td>Sony Computer Entertainment</td>\n",
              "      <td>0.0</td>\n",
              "      <td>0.0</td>\n",
              "      <td>160.0</td>\n",
              "      <td>10.0</td>\n",
              "      <td>170.0</td>\n",
              "      <td>8013.0</td>\n",
              "    </tr>\n",
              "  </tbody>\n",
              "</table>\n",
              "<p>16241 rows × 11 columns</p>\n",
              "</div>"
            ],
            "text/plain": [
              "                                                 Name Platform  ...  sales     rank\n",
              "0                        Candace Kane's Candy Factory       DS  ...   40.0   2486.0\n",
              "1                                      The Munchables      Wii  ...  180.0   8185.0\n",
              "2      Otome wa Oanesama Boku ni Koi Shiteru Portable      PSP  ...   20.0    759.0\n",
              "3                    Deal or No Deal: Special Edition       DS  ...   40.0   2486.0\n",
              "4           Ben 10 Ultimate Alien: Cosmic Destruction      PS3  ...  250.0   9598.0\n",
              "...                                               ...      ...  ...    ...      ...\n",
              "16593                         Ice Age 2: The Meltdown       GC  ...  200.0   8682.0\n",
              "16594                     Rainbow Islands: Revolution      PSP  ...   10.0      2.0\n",
              "16595                                        NBA 2K16      PS3  ...  790.0  13666.0\n",
              "16596                     Toukiden: The Age of Demons      PSV  ...  380.0  11270.0\n",
              "16597                        The King of Fighters '95       PS  ...  170.0   8013.0\n",
              "\n",
              "[16241 rows x 11 columns]"
            ]
          },
          "metadata": {
            "tags": []
          },
          "execution_count": 229
        }
      ]
    },
    {
      "cell_type": "code",
      "metadata": {
        "id": "l3nGuD7WpN58",
        "colab": {
          "base_uri": "https://localhost:8080/",
          "height": 415
        },
        "outputId": "1afcf1c1-260b-4a19-964f-603107b8991d"
      },
      "source": [
        "vgames_3_rank = vgames_3.sort_values(by='rank', ascending=False)\n",
        "vgames_3_top100 = vgames_3_rank.iloc[:,:9].head(100).reset_index().iloc[:, 1:]\n",
        "vgames_3_top100"
      ],
      "execution_count": 230,
      "outputs": [
        {
          "output_type": "execute_result",
          "data": {
            "text/html": [
              "<div>\n",
              "<style scoped>\n",
              "    .dataframe tbody tr th:only-of-type {\n",
              "        vertical-align: middle;\n",
              "    }\n",
              "\n",
              "    .dataframe tbody tr th {\n",
              "        vertical-align: top;\n",
              "    }\n",
              "\n",
              "    .dataframe thead th {\n",
              "        text-align: right;\n",
              "    }\n",
              "</style>\n",
              "<table border=\"1\" class=\"dataframe\">\n",
              "  <thead>\n",
              "    <tr style=\"text-align: right;\">\n",
              "      <th></th>\n",
              "      <th>Name</th>\n",
              "      <th>Platform</th>\n",
              "      <th>Year</th>\n",
              "      <th>Genre</th>\n",
              "      <th>Publisher</th>\n",
              "      <th>NA_Sales</th>\n",
              "      <th>EU_Sales</th>\n",
              "      <th>JP_Sales</th>\n",
              "      <th>Other_Sales</th>\n",
              "    </tr>\n",
              "  </thead>\n",
              "  <tbody>\n",
              "    <tr>\n",
              "      <th>0</th>\n",
              "      <td>Wii Sports</td>\n",
              "      <td>Wii</td>\n",
              "      <td>2006.0</td>\n",
              "      <td>Sports</td>\n",
              "      <td>Nintendo</td>\n",
              "      <td>41490.0</td>\n",
              "      <td>29020.0</td>\n",
              "      <td>3770.0</td>\n",
              "      <td>8460.0</td>\n",
              "    </tr>\n",
              "    <tr>\n",
              "      <th>1</th>\n",
              "      <td>Super Mario Bros.</td>\n",
              "      <td>NES</td>\n",
              "      <td>1985.0</td>\n",
              "      <td>Platform</td>\n",
              "      <td>Nintendo</td>\n",
              "      <td>29080.0</td>\n",
              "      <td>3580.0</td>\n",
              "      <td>6810.0</td>\n",
              "      <td>770.0</td>\n",
              "    </tr>\n",
              "    <tr>\n",
              "      <th>2</th>\n",
              "      <td>Mario Kart Wii</td>\n",
              "      <td>Wii</td>\n",
              "      <td>2008.0</td>\n",
              "      <td>Racing</td>\n",
              "      <td>Nintendo</td>\n",
              "      <td>15850.0</td>\n",
              "      <td>12880.0</td>\n",
              "      <td>3790.0</td>\n",
              "      <td>3310.0</td>\n",
              "    </tr>\n",
              "    <tr>\n",
              "      <th>3</th>\n",
              "      <td>Wii Sports Resort</td>\n",
              "      <td>Wii</td>\n",
              "      <td>2009.0</td>\n",
              "      <td>Sports</td>\n",
              "      <td>Nintendo</td>\n",
              "      <td>15750.0</td>\n",
              "      <td>11010.0</td>\n",
              "      <td>3280.0</td>\n",
              "      <td>2960.0</td>\n",
              "    </tr>\n",
              "    <tr>\n",
              "      <th>4</th>\n",
              "      <td>Pokemon Red/Pokemon Blue</td>\n",
              "      <td>GB</td>\n",
              "      <td>1996.0</td>\n",
              "      <td>Role-Playing</td>\n",
              "      <td>Nintendo</td>\n",
              "      <td>11270.0</td>\n",
              "      <td>8890.0</td>\n",
              "      <td>10220.0</td>\n",
              "      <td>1000.0</td>\n",
              "    </tr>\n",
              "    <tr>\n",
              "      <th>...</th>\n",
              "      <td>...</td>\n",
              "      <td>...</td>\n",
              "      <td>...</td>\n",
              "      <td>...</td>\n",
              "      <td>...</td>\n",
              "      <td>...</td>\n",
              "      <td>...</td>\n",
              "      <td>...</td>\n",
              "      <td>...</td>\n",
              "    </tr>\n",
              "    <tr>\n",
              "      <th>95</th>\n",
              "      <td>Super Smash Bros. for Wii U and 3DS</td>\n",
              "      <td>3DS</td>\n",
              "      <td>2014.0</td>\n",
              "      <td>Fighting</td>\n",
              "      <td>Nintendo</td>\n",
              "      <td>3240.0</td>\n",
              "      <td>1350.0</td>\n",
              "      <td>2420.0</td>\n",
              "      <td>430.0</td>\n",
              "    </tr>\n",
              "    <tr>\n",
              "      <th>96</th>\n",
              "      <td>Call of Duty: World at War</td>\n",
              "      <td>X360</td>\n",
              "      <td>2008.0</td>\n",
              "      <td>Shooter</td>\n",
              "      <td>Activision</td>\n",
              "      <td>4790.0</td>\n",
              "      <td>1900.0</td>\n",
              "      <td>0.0</td>\n",
              "      <td>690.0</td>\n",
              "    </tr>\n",
              "    <tr>\n",
              "      <th>97</th>\n",
              "      <td>Battlefield 3</td>\n",
              "      <td>X360</td>\n",
              "      <td>2011.0</td>\n",
              "      <td>Shooter</td>\n",
              "      <td>Electronic Arts</td>\n",
              "      <td>4460.0</td>\n",
              "      <td>2130.0</td>\n",
              "      <td>60.0</td>\n",
              "      <td>690.0</td>\n",
              "    </tr>\n",
              "    <tr>\n",
              "      <th>98</th>\n",
              "      <td>The Legend of Zelda: Twilight Princess</td>\n",
              "      <td>Wii</td>\n",
              "      <td>2006.0</td>\n",
              "      <td>Action</td>\n",
              "      <td>Nintendo</td>\n",
              "      <td>3830.0</td>\n",
              "      <td>2190.0</td>\n",
              "      <td>600.0</td>\n",
              "      <td>700.0</td>\n",
              "    </tr>\n",
              "    <tr>\n",
              "      <th>99</th>\n",
              "      <td>Call of Duty: Black Ops 3</td>\n",
              "      <td>XOne</td>\n",
              "      <td>2015.0</td>\n",
              "      <td>Shooter</td>\n",
              "      <td>Activision</td>\n",
              "      <td>4520.0</td>\n",
              "      <td>2090.0</td>\n",
              "      <td>10.0</td>\n",
              "      <td>670.0</td>\n",
              "    </tr>\n",
              "  </tbody>\n",
              "</table>\n",
              "<p>100 rows × 9 columns</p>\n",
              "</div>"
            ],
            "text/plain": [
              "                                      Name Platform  ...  JP_Sales Other_Sales\n",
              "0                               Wii Sports      Wii  ...    3770.0      8460.0\n",
              "1                        Super Mario Bros.      NES  ...    6810.0       770.0\n",
              "2                           Mario Kart Wii      Wii  ...    3790.0      3310.0\n",
              "3                        Wii Sports Resort      Wii  ...    3280.0      2960.0\n",
              "4                 Pokemon Red/Pokemon Blue       GB  ...   10220.0      1000.0\n",
              "..                                     ...      ...  ...       ...         ...\n",
              "95     Super Smash Bros. for Wii U and 3DS      3DS  ...    2420.0       430.0\n",
              "96              Call of Duty: World at War     X360  ...       0.0       690.0\n",
              "97                           Battlefield 3     X360  ...      60.0       690.0\n",
              "98  The Legend of Zelda: Twilight Princess      Wii  ...     600.0       700.0\n",
              "99               Call of Duty: Black Ops 3     XOne  ...      10.0       670.0\n",
              "\n",
              "[100 rows x 9 columns]"
            ]
          },
          "metadata": {
            "tags": []
          },
          "execution_count": 230
        }
      ]
    },
    {
      "cell_type": "code",
      "metadata": {
        "id": "KqM-4NXBpoMt",
        "colab": {
          "base_uri": "https://localhost:8080/",
          "height": 1000
        },
        "outputId": "ef60b457-19d4-4895-9c81-bdb532b7ed80"
      },
      "source": [
        "vgames_3_platform=vgames_3_top100.value_counts('Platform')\n",
        "vgames_3_platform.plot(kind='pie', figsize = (8, 8), title='Top 100 Platform')\n",
        "vgames_3_values=vgames_3_platform.values\n",
        "labels=vgames_3_platform.index\n",
        "plt.pie(vgames_3_values, labels=labels, autopct='%.1f%%')"
      ],
      "execution_count": 231,
      "outputs": [
        {
          "output_type": "execute_result",
          "data": {
            "text/plain": [
              "([<matplotlib.patches.Wedge at 0x7faa72809210>,\n",
              "  <matplotlib.patches.Wedge at 0x7faa729060d0>,\n",
              "  <matplotlib.patches.Wedge at 0x7faa72906110>,\n",
              "  <matplotlib.patches.Wedge at 0x7faa729101d0>,\n",
              "  <matplotlib.patches.Wedge at 0x7faa72910d50>,\n",
              "  <matplotlib.patches.Wedge at 0x7faa7289c6d0>,\n",
              "  <matplotlib.patches.Wedge at 0x7faa7289c3d0>,\n",
              "  <matplotlib.patches.Wedge at 0x7faa728a7550>,\n",
              "  <matplotlib.patches.Wedge at 0x7faa72910210>,\n",
              "  <matplotlib.patches.Wedge at 0x7faa7289c450>,\n",
              "  <matplotlib.patches.Wedge at 0x7faa7298fed0>,\n",
              "  <matplotlib.patches.Wedge at 0x7faa728be690>,\n",
              "  <matplotlib.patches.Wedge at 0x7faa728be6d0>,\n",
              "  <matplotlib.patches.Wedge at 0x7faa728c97d0>,\n",
              "  <matplotlib.patches.Wedge at 0x7faa728d3090>,\n",
              "  <matplotlib.patches.Wedge at 0x7faa728d30d0>,\n",
              "  <matplotlib.patches.Wedge at 0x7faa7285e1d0>,\n",
              "  <matplotlib.patches.Wedge at 0x7faa7285e210>],\n",
              " [Text(0.9639373540021144, 0.5299290306818474, 'X360'),\n",
              "  Text(0.10351914875166042, 1.0951181606757014, 'Wii'),\n",
              "  Text(-0.7778174593052023, 0.7778174593052024, 'DS'),\n",
              "  Text(-1.0951181606757014, 0.10351914875166049, 'PS3'),\n",
              "  Text(-1.0227541331501238, -0.4049370113046461, '3DS'),\n",
              "  Text(-0.8018654940411144, -0.7530018123923737, 'PS2'),\n",
              "  Text(-0.46835723423378606, -0.9953097513542598, 'GB'),\n",
              "  Text(-0.10351916156820615, -1.0951181594641812, 'PS'),\n",
              "  Text(0.2399575539776482, -1.0735084407162638, 'PS4'),\n",
              "  Text(0.5299290306818469, -0.9639373540021147, 'SNES'),\n",
              "  Text(0.7530018030078659, -0.8018655028537538, 'NES'),\n",
              "  Text(0.928760704807937, -0.5894094953465411, 'N64'),\n",
              "  Text(1.0227541236718887, -0.40493703524393426, 'GBA'),\n",
              "  Text(1.0563230454091976, -0.30689024705493406, 'XOne'),\n",
              "  Text(1.0735084308871918, -0.23995759795038657, 'PC'),\n",
              "  Text(1.0864571692171556, -0.17207794587524802, 'XB'),\n",
              "  Text(1.0951181576469005, -0.10351918079302312, 'PSP'),\n",
              "  Text(1.0994572152134503, -0.0345518728158815, '2600')],\n",
              " [Text(0.5257840112738805, 0.28905219855373493, '16.0%'),\n",
              "  Text(0.056464990228178406, 0.5973371785503826, '15.0%'),\n",
              "  Text(-0.42426406871192845, 0.4242640687119285, '13.0%'),\n",
              "  Text(-0.5973371785503826, 0.05646499022817844, '9.0%'),\n",
              "  Text(-0.5578658908091584, -0.22087473343889785, '6.0%'),\n",
              "  Text(-0.43738117856788056, -0.41072826130493106, '6.0%'),\n",
              "  Text(-0.2554675823093378, -0.5428962280114144, '6.0%'),\n",
              "  Text(-0.056464997219021526, -0.5973371778895533, '5.0%'),\n",
              "  Text(0.13088593853326264, -0.5855500585725075, '5.0%'),\n",
              "  Text(0.28905219855373465, -0.5257840112738806, '4.0%'),\n",
              "  Text(0.41072825618610864, -0.4373811833747748, '4.0%'),\n",
              "  Text(0.5065967480770565, -0.3214960883708406, '4.0%'),\n",
              "  Text(0.5578658856392119, -0.2208747464966914, '2.0%'),\n",
              "  Text(0.576176206586835, -0.1673946802117822, '1.0%'),\n",
              "  Text(0.5855500532111955, -0.13088596251839266, '1.0%'),\n",
              "  Text(0.5926130013911758, -0.09386069775013527, '1.0%'),\n",
              "  Text(0.5973371768983093, -0.056465007705285335, '1.0%'),\n",
              "  Text(0.5997039355709729, -0.018846476081389906, '1.0%')])"
            ]
          },
          "metadata": {
            "tags": []
          },
          "execution_count": 231
        },
        {
          "output_type": "display_data",
          "data": {
            "image/png": "[encoded data removed]",
            "text/plain": [
              "<Figure size 576x576 with 1 Axes>"
            ]
          },
          "metadata": {
            "tags": []
          }
        }
      ]
    },
    {
      "cell_type": "code",
      "metadata": {
        "id": "O028WmXnEm0t",
        "colab": {
          "base_uri": "https://localhost:8080/",
          "height": 233
        },
        "outputId": "a612d4d8-7b20-4a6c-cb31-492e891cfd6e"
      },
      "source": [
        "vgames_3_year=pd.DataFrame(vgames_3_top100.value_counts('Year'))\n",
        "vgames_3_year.columns = ['counts']\n",
        "vgames_3_year=vgames_3_year.sort_values(by='Year', ascending=True)\n",
        "vgames_3_year.head()"
      ],
      "execution_count": 232,
      "outputs": [
        {
          "output_type": "execute_result",
          "data": {
            "text/html": [
              "<div>\n",
              "<style scoped>\n",
              "    .dataframe tbody tr th:only-of-type {\n",
              "        vertical-align: middle;\n",
              "    }\n",
              "\n",
              "    .dataframe tbody tr th {\n",
              "        vertical-align: top;\n",
              "    }\n",
              "\n",
              "    .dataframe thead th {\n",
              "        text-align: right;\n",
              "    }\n",
              "</style>\n",
              "<table border=\"1\" class=\"dataframe\">\n",
              "  <thead>\n",
              "    <tr style=\"text-align: right;\">\n",
              "      <th></th>\n",
              "      <th>counts</th>\n",
              "    </tr>\n",
              "    <tr>\n",
              "      <th>Year</th>\n",
              "      <th></th>\n",
              "    </tr>\n",
              "  </thead>\n",
              "  <tbody>\n",
              "    <tr>\n",
              "      <th>1982.0</th>\n",
              "      <td>1</td>\n",
              "    </tr>\n",
              "    <tr>\n",
              "      <th>1984.0</th>\n",
              "      <td>1</td>\n",
              "    </tr>\n",
              "    <tr>\n",
              "      <th>1985.0</th>\n",
              "      <td>1</td>\n",
              "    </tr>\n",
              "    <tr>\n",
              "      <th>1988.0</th>\n",
              "      <td>2</td>\n",
              "    </tr>\n",
              "    <tr>\n",
              "      <th>1989.0</th>\n",
              "      <td>2</td>\n",
              "    </tr>\n",
              "  </tbody>\n",
              "</table>\n",
              "</div>"
            ],
            "text/plain": [
              "        counts\n",
              "Year          \n",
              "1982.0       1\n",
              "1984.0       1\n",
              "1985.0       1\n",
              "1988.0       2\n",
              "1989.0       2"
            ]
          },
          "metadata": {
            "tags": []
          },
          "execution_count": 232
        }
      ]
    },
    {
      "cell_type": "code",
      "metadata": {
        "id": "18xmRnBCFhNL",
        "colab": {
          "base_uri": "https://localhost:8080/",
          "height": 299
        },
        "outputId": "0cd7aec9-1b3e-4bcd-d10f-c70e5535fb78"
      },
      "source": [
        "#연도 \n",
        "plt.bar(vgames_3_year.index,vgames_3_year['counts'], alpha=0.5)\n",
        "plt.title('year of \"top 100\"')"
      ],
      "execution_count": 233,
      "outputs": [
        {
          "output_type": "execute_result",
          "data": {
            "text/plain": [
              "Text(0.5, 1.0, 'year of \"top 100\"')"
            ]
          },
          "metadata": {
            "tags": []
          },
          "execution_count": 233
        },
        {
          "output_type": "display_data",
          "data": {
            "image/png": "[encoded data removed]",
            "text/plain": [
              "<Figure size 432x288 with 1 Axes>"
            ]
          },
          "metadata": {
            "tags": [],
            "needs_background": "light"
          }
        }
      ]
    },
    {
      "cell_type": "code",
      "metadata": {
        "id": "oUvWO2ZzEmsv"
      },
      "source": [
        "top100_genre = vgames_3_top100.value_counts('Genre')"
      ],
      "execution_count": 234,
      "outputs": []
    },
    {
      "cell_type": "code",
      "metadata": {
        "id": "LwCXsvzdKCA0",
        "colab": {
          "base_uri": "https://localhost:8080/",
          "height": 1000
        },
        "outputId": "f266c063-ae9b-48f3-c65d-92778eb6260e"
      },
      "source": [
        "# 장르 파이\n",
        "top100_genre .plot(kind='pie', figsize = (8, 8), title='Top 100 Genre')\n",
        "top100_genre_values=top100_genre.values\n",
        "labels=top100_genre .index\n",
        "plt.pie(top100_genre_values, labels=labels, autopct='%.1f%%')"
      ],
      "execution_count": 235,
      "outputs": [
        {
          "output_type": "execute_result",
          "data": {
            "text/plain": [
              "([<matplotlib.patches.Wedge at 0x7faa72791810>,\n",
              "  <matplotlib.patches.Wedge at 0x7faa726dedd0>,\n",
              "  <matplotlib.patches.Wedge at 0x7faa726f0690>,\n",
              "  <matplotlib.patches.Wedge at 0x7faa726f0e50>,\n",
              "  <matplotlib.patches.Wedge at 0x7faa726fb810>,\n",
              "  <matplotlib.patches.Wedge at 0x7faa727070d0>,\n",
              "  <matplotlib.patches.Wedge at 0x7faa72707710>,\n",
              "  <matplotlib.patches.Wedge at 0x7faa72707ed0>,\n",
              "  <matplotlib.patches.Wedge at 0x7faa726fb650>,\n",
              "  <matplotlib.patches.Wedge at 0x7faa726fb610>,\n",
              "  <matplotlib.patches.Wedge at 0x7faa7287ef10>],\n",
              " [Text(0.8251221670583667, 0.7274430626715089, 'Shooter'),\n",
              "  Text(-0.4049370232742901, 1.0227541284110062, 'Platform'),\n",
              "  Text(-1.0654414787782402, 0.2735588698961104, 'Role-Playing'),\n",
              "  Text(-0.9097886363331101, -0.6182917088228987, 'Action'),\n",
              "  Text(-0.2735588948345678, -1.0654414723751324, 'Racing'),\n",
              "  Text(0.3399186742226881, -1.0461621742897658, 'Misc'),\n",
              "  Text(0.7530017936233573, -0.8018655116663935, 'Sports'),\n",
              "  Text(0.9639373291943449, -0.5299290758070114, 'Simulation'),\n",
              "  Text(1.0563230418175553, -0.3068902594174461, 'Puzzle'),\n",
              "  Text(1.0913261653791653, -0.13786660494408046, 'Fighting'),\n",
              "  Text(1.0994572148090778, -0.03455188568320856, 'Adventure')],\n",
              " [Text(0.4500666365772909, 0.3967871250935503, '23.0%'),\n",
              "  Text(-0.22087473996779458, 0.5578658882241851, '16.0%'),\n",
              "  Text(-0.5811498975154037, 0.14921392903424202, '14.0%'),\n",
              "  Text(-0.4962483470907873, -0.33725002299430834, '13.0%'),\n",
              "  Text(-0.14921394263703697, -0.5811498940227995, '10.0%'),\n",
              "  Text(0.18541018593964803, -0.5706339132489631, '8.0%'),\n",
              "  Text(0.4107282510672857, -0.43738118818166916, '6.0%'),\n",
              "  Text(0.52578399774237, -0.28905222316746076, '4.0%'),\n",
              "  Text(0.5761762046277574, -0.1673946869549706, '3.0%'),\n",
              "  Text(0.5952688174795446, -0.07519996633313478, '2.0%'),\n",
              "  Text(0.599703935350406, -0.01884648309993194, '1.0%')])"
            ]
          },
          "metadata": {
            "tags": []
          },
          "execution_count": 235
        },
        {
          "output_type": "display_data",
          "data": {
            "image/png": "[encoded data removed]",
            "text/plain": [
              "<Figure size 576x576 with 1 Axes>"
            ]
          },
          "metadata": {
            "tags": []
          }
        }
      ]
    },
    {
      "cell_type": "code",
      "metadata": {
        "id": "80K0z8fEKAcx",
        "colab": {
          "base_uri": "https://localhost:8080/"
        },
        "outputId": "47fa42c6-f8a2-4e2f-caf6-c94bc88a586f"
      },
      "source": [
        "vgames_3_top100.value_counts('Publisher')"
      ],
      "execution_count": 236,
      "outputs": [
        {
          "output_type": "execute_result",
          "data": {
            "text/plain": [
              "Publisher\n",
              "Nintendo                       51\n",
              "Activision                     15\n",
              "Take-Two Interactive            9\n",
              "Sony Computer Entertainment     8\n",
              "Microsoft Game Studios          6\n",
              "Electronic Arts                 5\n",
              "Ubisoft                         2\n",
              "SquareSoft                      1\n",
              "Sega                            1\n",
              "Bethesda Softworks              1\n",
              "Atari                           1\n",
              "dtype: int64"
            ]
          },
          "metadata": {
            "tags": []
          },
          "execution_count": 236
        }
      ]
    },
    {
      "cell_type": "code",
      "metadata": {
        "id": "eWr6Hiv3Jygr"
      },
      "source": [
        "vgames_3_publisher = pd.DataFrame(vgames_3_top100.value_counts('Publisher').head(6))\n",
        "data = {'others': [6]}\n",
        "data = pd.DataFrame(data).T\n",
        "vgames_3_publisher = pd.concat([vgames_3_publisher, data])\n",
        "vgames_3_publisher_array = np.array(pd.concat([vgames_3_publisher, data]))\n",
        "vgames_3_publisher.columns = ['counts']\n",
        "vgames_3_publisher.index=['Nintendo', 'Activision', 'Take-Two',\n",
        "                          'Sony', 'Microsoft', 'EA', 'others']"
      ],
      "execution_count": 237,
      "outputs": []
    },
    {
      "cell_type": "code",
      "metadata": {
        "colab": {
          "base_uri": "https://localhost:8080/",
          "height": 229
        },
        "id": "RWRwPr3AagjF",
        "outputId": "4cd31112-efa6-4fe7-e8aa-feec95bb4518"
      },
      "source": [
        "#top 100 배급사 그래프\n",
        "\n",
        "vgames_3_publisher.plot(kind='bar', stacked=True, rot=1, figsize=(10, 3), color = 'purple',grid=True,  alpha=0.5 )"
      ],
      "execution_count": 238,
      "outputs": [
        {
          "output_type": "execute_result",
          "data": {
            "text/plain": [
              "<matplotlib.axes._subplots.AxesSubplot at 0x7faa726aec90>"
            ]
          },
          "metadata": {
            "tags": []
          },
          "execution_count": 238
        },
        {
          "output_type": "display_data",
          "data": {
            "image/png": "[encoded data removed]",
            "text/plain": [
              "<Figure size 720x216 with 1 Axes>"
            ]
          },
          "metadata": {
            "tags": [],
            "needs_background": "light"
          }
        }
      ]
    },
    {
      "cell_type": "markdown",
      "metadata": {
        "id": "YRyLa0DnISfr"
      },
      "source": [
        ""
      ]
    },
    {
      "cell_type": "code",
      "metadata": {
        "colab": {
          "base_uri": "https://localhost:8080/",
          "height": 171
        },
        "id": "v2xnSdEVGebC",
        "outputId": "039628d6-5dff-4c90-9ff4-03ef07a8f7ec"
      },
      "source": [
        "vgames_3_top100_sum= vgames_3_top100.groupby(['Genre']).sum()\n",
        "vgames_3_top100_sum=vgames_3_top100_sum.iloc[:, 1:].T\n",
        "vgames_3_top100_sum"
      ],
      "execution_count": 239,
      "outputs": [
        {
          "output_type": "execute_result",
          "data": {
            "text/html": [
              "<div>\n",
              "<style scoped>\n",
              "    .dataframe tbody tr th:only-of-type {\n",
              "        vertical-align: middle;\n",
              "    }\n",
              "\n",
              "    .dataframe tbody tr th {\n",
              "        vertical-align: top;\n",
              "    }\n",
              "\n",
              "    .dataframe thead th {\n",
              "        text-align: right;\n",
              "    }\n",
              "</style>\n",
              "<table border=\"1\" class=\"dataframe\">\n",
              "  <thead>\n",
              "    <tr style=\"text-align: right;\">\n",
              "      <th>Genre</th>\n",
              "      <th>Action</th>\n",
              "      <th>Adventure</th>\n",
              "      <th>Fighting</th>\n",
              "      <th>Misc</th>\n",
              "      <th>Platform</th>\n",
              "      <th>Puzzle</th>\n",
              "      <th>Racing</th>\n",
              "      <th>Role-Playing</th>\n",
              "      <th>Shooter</th>\n",
              "      <th>Simulation</th>\n",
              "      <th>Sports</th>\n",
              "    </tr>\n",
              "  </thead>\n",
              "  <tbody>\n",
              "    <tr>\n",
              "      <th>NA_Sales</th>\n",
              "      <td>73080.0</td>\n",
              "      <td>6160.0</td>\n",
              "      <td>9990.0</td>\n",
              "      <td>59490.0</td>\n",
              "      <td>138080.0</td>\n",
              "      <td>33920.0</td>\n",
              "      <td>60210.0</td>\n",
              "      <td>71740.0</td>\n",
              "      <td>160140.0</td>\n",
              "      <td>14610.0</td>\n",
              "      <td>78960.0</td>\n",
              "    </tr>\n",
              "    <tr>\n",
              "      <th>EU_Sales</th>\n",
              "      <td>52380.0</td>\n",
              "      <td>2040.0</td>\n",
              "      <td>3960.0</td>\n",
              "      <td>36450.0</td>\n",
              "      <td>54820.0</td>\n",
              "      <td>8070.0</td>\n",
              "      <td>44810.0</td>\n",
              "      <td>50590.0</td>\n",
              "      <td>74370.0</td>\n",
              "      <td>23260.0</td>\n",
              "      <td>66610.0</td>\n",
              "    </tr>\n",
              "    <tr>\n",
              "      <th>JP_Sales</th>\n",
              "      <td>9530.0</td>\n",
              "      <td>2690.0</td>\n",
              "      <td>5080.0</td>\n",
              "      <td>10920.0</td>\n",
              "      <td>46640.0</td>\n",
              "      <td>9540.0</td>\n",
              "      <td>24640.0</td>\n",
              "      <td>59410.0</td>\n",
              "      <td>4430.0</td>\n",
              "      <td>11620.0</td>\n",
              "      <td>13900.0</td>\n",
              "    </tr>\n",
              "    <tr>\n",
              "      <th>Other_Sales</th>\n",
              "      <td>29230.0</td>\n",
              "      <td>290.0</td>\n",
              "      <td>1450.0</td>\n",
              "      <td>10620.0</td>\n",
              "      <td>12400.0</td>\n",
              "      <td>1840.0</td>\n",
              "      <td>18280.0</td>\n",
              "      <td>9340.0</td>\n",
              "      <td>25940.0</td>\n",
              "      <td>4750.0</td>\n",
              "      <td>17530.0</td>\n",
              "    </tr>\n",
              "  </tbody>\n",
              "</table>\n",
              "</div>"
            ],
            "text/plain": [
              "Genre         Action  Adventure  Fighting  ...   Shooter  Simulation   Sports\n",
              "NA_Sales     73080.0     6160.0    9990.0  ...  160140.0     14610.0  78960.0\n",
              "EU_Sales     52380.0     2040.0    3960.0  ...   74370.0     23260.0  66610.0\n",
              "JP_Sales      9530.0     2690.0    5080.0  ...    4430.0     11620.0  13900.0\n",
              "Other_Sales  29230.0      290.0    1450.0  ...   25940.0      4750.0  17530.0\n",
              "\n",
              "[4 rows x 11 columns]"
            ]
          },
          "metadata": {
            "tags": []
          },
          "execution_count": 239
        }
      ]
    },
    {
      "cell_type": "code",
      "metadata": {
        "colab": {
          "base_uri": "https://localhost:8080/",
          "height": 355
        },
        "id": "dfTb2yfbFuPM",
        "outputId": "0cfd2392-4075-4e77-9a6a-74dee6fb6132"
      },
      "source": [
        "vgames_3_top100_sum.plot(kind='bar',figsize=(11,5), rot=1, legend='reverse', alpha = 0.5, title='Top 100 Sales Total')\n",
        "plt.legend(loc='best')"
      ],
      "execution_count": 240,
      "outputs": [
        {
          "output_type": "execute_result",
          "data": {
            "text/plain": [
              "<matplotlib.legend.Legend at 0x7faa72b8cc50>"
            ]
          },
          "metadata": {
            "tags": []
          },
          "execution_count": 240
        },
        {
          "output_type": "display_data",
          "data": {
            "image/png": "[encoded data removed]",
            "text/plain": [
              "<Figure size 792x360 with 1 Axes>"
            ]
          },
          "metadata": {
            "tags": [],
            "needs_background": "light"
          }
        }
      ]
    },
    {
      "cell_type": "code",
      "metadata": {
        "colab": {
          "base_uri": "https://localhost:8080/",
          "height": 171
        },
        "id": "Yqikuzg1HGYN",
        "outputId": "e749b7a2-7c4e-4075-de89-7d888925e5cb"
      },
      "source": [
        "vgames_3_top100_mean= vgames_3_top100.groupby(['Genre']).mean()\n",
        "vgames_3_top100_mean=vgames_3_top100_mean.iloc[:, 1:].T\n",
        "vgames_3_top100_mean"
      ],
      "execution_count": 241,
      "outputs": [
        {
          "output_type": "execute_result",
          "data": {
            "text/html": [
              "<div>\n",
              "<style scoped>\n",
              "    .dataframe tbody tr th:only-of-type {\n",
              "        vertical-align: middle;\n",
              "    }\n",
              "\n",
              "    .dataframe tbody tr th {\n",
              "        vertical-align: top;\n",
              "    }\n",
              "\n",
              "    .dataframe thead th {\n",
              "        text-align: right;\n",
              "    }\n",
              "</style>\n",
              "<table border=\"1\" class=\"dataframe\">\n",
              "  <thead>\n",
              "    <tr style=\"text-align: right;\">\n",
              "      <th>Genre</th>\n",
              "      <th>Action</th>\n",
              "      <th>Adventure</th>\n",
              "      <th>Fighting</th>\n",
              "      <th>Misc</th>\n",
              "      <th>Platform</th>\n",
              "      <th>Puzzle</th>\n",
              "      <th>Racing</th>\n",
              "      <th>Role-Playing</th>\n",
              "      <th>Shooter</th>\n",
              "      <th>Simulation</th>\n",
              "      <th>Sports</th>\n",
              "    </tr>\n",
              "  </thead>\n",
              "  <tbody>\n",
              "    <tr>\n",
              "      <th>NA_Sales</th>\n",
              "      <td>5621.538462</td>\n",
              "      <td>6160.0</td>\n",
              "      <td>4995.0</td>\n",
              "      <td>7436.25</td>\n",
              "      <td>8630.00</td>\n",
              "      <td>11306.666667</td>\n",
              "      <td>6021.0</td>\n",
              "      <td>5124.285714</td>\n",
              "      <td>6962.608696</td>\n",
              "      <td>3652.5</td>\n",
              "      <td>13160.000000</td>\n",
              "    </tr>\n",
              "    <tr>\n",
              "      <th>EU_Sales</th>\n",
              "      <td>4029.230769</td>\n",
              "      <td>2040.0</td>\n",
              "      <td>1980.0</td>\n",
              "      <td>4556.25</td>\n",
              "      <td>3426.25</td>\n",
              "      <td>2690.000000</td>\n",
              "      <td>4481.0</td>\n",
              "      <td>3613.571429</td>\n",
              "      <td>3233.478261</td>\n",
              "      <td>5815.0</td>\n",
              "      <td>11101.666667</td>\n",
              "    </tr>\n",
              "    <tr>\n",
              "      <th>JP_Sales</th>\n",
              "      <td>733.076923</td>\n",
              "      <td>2690.0</td>\n",
              "      <td>2540.0</td>\n",
              "      <td>1365.00</td>\n",
              "      <td>2915.00</td>\n",
              "      <td>3180.000000</td>\n",
              "      <td>2464.0</td>\n",
              "      <td>4243.571429</td>\n",
              "      <td>192.608696</td>\n",
              "      <td>2905.0</td>\n",
              "      <td>2316.666667</td>\n",
              "    </tr>\n",
              "    <tr>\n",
              "      <th>Other_Sales</th>\n",
              "      <td>2248.461538</td>\n",
              "      <td>290.0</td>\n",
              "      <td>725.0</td>\n",
              "      <td>1327.50</td>\n",
              "      <td>775.00</td>\n",
              "      <td>613.333333</td>\n",
              "      <td>1828.0</td>\n",
              "      <td>667.142857</td>\n",
              "      <td>1127.826087</td>\n",
              "      <td>1187.5</td>\n",
              "      <td>2921.666667</td>\n",
              "    </tr>\n",
              "  </tbody>\n",
              "</table>\n",
              "</div>"
            ],
            "text/plain": [
              "Genre             Action  Adventure  ...  Simulation        Sports\n",
              "NA_Sales     5621.538462     6160.0  ...      3652.5  13160.000000\n",
              "EU_Sales     4029.230769     2040.0  ...      5815.0  11101.666667\n",
              "JP_Sales      733.076923     2690.0  ...      2905.0   2316.666667\n",
              "Other_Sales  2248.461538      290.0  ...      1187.5   2921.666667\n",
              "\n",
              "[4 rows x 11 columns]"
            ]
          },
          "metadata": {
            "tags": []
          },
          "execution_count": 241
        }
      ]
    },
    {
      "cell_type": "code",
      "metadata": {
        "colab": {
          "base_uri": "https://localhost:8080/",
          "height": 355
        },
        "id": "hAZpUDvhHP4f",
        "outputId": "72fcef88-3d90-41e0-a2e5-e8093f7161af"
      },
      "source": [
        "vgames_3_top100_mean.plot(kind='bar',figsize=(11,5), rot=1, legend='reverse', alpha = 0.5, title='Top 100 Sales Mean')\n",
        "plt.legend(loc='best')"
      ],
      "execution_count": 242,
      "outputs": [
        {
          "output_type": "execute_result",
          "data": {
            "text/plain": [
              "<matplotlib.legend.Legend at 0x7faa72638410>"
            ]
          },
          "metadata": {
            "tags": []
          },
          "execution_count": 242
        },
        {
          "output_type": "display_data",
          "data": {
            "image/png": "[encoded data removed]",
            "text/plain": [
              "<Figure size 792x360 with 1 Axes>"
            ]
          },
          "metadata": {
            "tags": [],
            "needs_background": "light"
          }
        }
      ]
    },
    {
      "cell_type": "markdown",
      "metadata": {
        "id": "SFVFdEZJhJ8J"
      },
      "source": [
        "# 💦개인과제💦"
      ]
    },
    {
      "cell_type": "markdown",
      "metadata": {
        "id": "9_jqCLiL8x8d"
      },
      "source": [
        "[링크 텍스트](https://)3-2를 토대로 최근  자료 분석"
      ]
    },
    {
      "cell_type": "code",
      "metadata": {
        "colab": {
          "base_uri": "https://localhost:8080/"
        },
        "id": "pNxm7bRVCFLD",
        "outputId": "4d55a047-394d-4429-b2f3-c39ee7b4c071"
      },
      "source": [
        "#2010년부터 자료\n",
        "vgames08 = vgames[vgames.Year > 2009]\n",
        "vgames08.shape"
      ],
      "execution_count": 243,
      "outputs": [
        {
          "output_type": "execute_result",
          "data": {
            "text/plain": [
              "(5120, 11)"
            ]
          },
          "metadata": {
            "tags": []
          },
          "execution_count": 243
        }
      ]
    },
    {
      "cell_type": "code",
      "metadata": {
        "colab": {
          "base_uri": "https://localhost:8080/",
          "height": 485
        },
        "id": "RWZKVxpLRuz2",
        "outputId": "f2d2a46a-cef1-45c6-fe05-97e5f7699727"
      },
      "source": [
        "#상위 10%\n",
        "vgames08_rank = vgames08.iloc[:, :10]\n",
        "vgames08_rank['rank'] = vgames08_rank['sales'].rank(method=\"min\", ascending = True)\n",
        "vgames08_10per = vgames08_rank.sort_values(by='rank', ascending=False)\n",
        "vgames08_10per = vgames08_10per.iloc[:, :10].reset_index()\n",
        "vgames08_10per = vgames08_10per.head(512)\n",
        "vgames08_10per"
      ],
      "execution_count": 244,
      "outputs": [
        {
          "output_type": "execute_result",
          "data": {
            "text/html": [
              "<div>\n",
              "<style scoped>\n",
              "    .dataframe tbody tr th:only-of-type {\n",
              "        vertical-align: middle;\n",
              "    }\n",
              "\n",
              "    .dataframe tbody tr th {\n",
              "        vertical-align: top;\n",
              "    }\n",
              "\n",
              "    .dataframe thead th {\n",
              "        text-align: right;\n",
              "    }\n",
              "</style>\n",
              "<table border=\"1\" class=\"dataframe\">\n",
              "  <thead>\n",
              "    <tr style=\"text-align: right;\">\n",
              "      <th></th>\n",
              "      <th>index</th>\n",
              "      <th>Name</th>\n",
              "      <th>Platform</th>\n",
              "      <th>Year</th>\n",
              "      <th>Genre</th>\n",
              "      <th>Publisher</th>\n",
              "      <th>NA_Sales</th>\n",
              "      <th>EU_Sales</th>\n",
              "      <th>JP_Sales</th>\n",
              "      <th>Other_Sales</th>\n",
              "      <th>sales</th>\n",
              "    </tr>\n",
              "  </thead>\n",
              "  <tbody>\n",
              "    <tr>\n",
              "      <th>0</th>\n",
              "      <td>4343</td>\n",
              "      <td>Kinect Adventures!</td>\n",
              "      <td>X360</td>\n",
              "      <td>2010.0</td>\n",
              "      <td>Misc</td>\n",
              "      <td>Microsoft Game Studios</td>\n",
              "      <td>14970.0</td>\n",
              "      <td>4940.0</td>\n",
              "      <td>240.0</td>\n",
              "      <td>1670.0</td>\n",
              "      <td>21820.0</td>\n",
              "    </tr>\n",
              "    <tr>\n",
              "      <th>1</th>\n",
              "      <td>3483</td>\n",
              "      <td>Grand Theft Auto V</td>\n",
              "      <td>PS3</td>\n",
              "      <td>2013.0</td>\n",
              "      <td>Action</td>\n",
              "      <td>Take-Two Interactive</td>\n",
              "      <td>7010.0</td>\n",
              "      <td>9270.0</td>\n",
              "      <td>970.0</td>\n",
              "      <td>4140.0</td>\n",
              "      <td>21390.0</td>\n",
              "    </tr>\n",
              "    <tr>\n",
              "      <th>2</th>\n",
              "      <td>10913</td>\n",
              "      <td>Grand Theft Auto V</td>\n",
              "      <td>X360</td>\n",
              "      <td>2013.0</td>\n",
              "      <td>Action</td>\n",
              "      <td>Take-Two Interactive</td>\n",
              "      <td>9630.0</td>\n",
              "      <td>5310.0</td>\n",
              "      <td>60.0</td>\n",
              "      <td>1380.0</td>\n",
              "      <td>16380.0</td>\n",
              "    </tr>\n",
              "    <tr>\n",
              "      <th>3</th>\n",
              "      <td>10621</td>\n",
              "      <td>Pokemon Black/Pokemon White</td>\n",
              "      <td>DS</td>\n",
              "      <td>2010.0</td>\n",
              "      <td>Role-Playing</td>\n",
              "      <td>Nintendo</td>\n",
              "      <td>5570.0</td>\n",
              "      <td>3280.0</td>\n",
              "      <td>5650.0</td>\n",
              "      <td>820.0</td>\n",
              "      <td>15320.0</td>\n",
              "    </tr>\n",
              "    <tr>\n",
              "      <th>4</th>\n",
              "      <td>2809</td>\n",
              "      <td>Call of Duty: Modern Warfare 3</td>\n",
              "      <td>X360</td>\n",
              "      <td>2011.0</td>\n",
              "      <td>Shooter</td>\n",
              "      <td>Activision</td>\n",
              "      <td>9030.0</td>\n",
              "      <td>4280.0</td>\n",
              "      <td>130.0</td>\n",
              "      <td>1320.0</td>\n",
              "      <td>14760.0</td>\n",
              "    </tr>\n",
              "    <tr>\n",
              "      <th>...</th>\n",
              "      <td>...</td>\n",
              "      <td>...</td>\n",
              "      <td>...</td>\n",
              "      <td>...</td>\n",
              "      <td>...</td>\n",
              "      <td>...</td>\n",
              "      <td>...</td>\n",
              "      <td>...</td>\n",
              "      <td>...</td>\n",
              "      <td>...</td>\n",
              "      <td>...</td>\n",
              "    </tr>\n",
              "    <tr>\n",
              "      <th>507</th>\n",
              "      <td>3149</td>\n",
              "      <td>LEGO The Lord of the Rings</td>\n",
              "      <td>PS3</td>\n",
              "      <td>2012.0</td>\n",
              "      <td>Action</td>\n",
              "      <td>Warner Bros. Interactive Entertainment</td>\n",
              "      <td>360.0</td>\n",
              "      <td>530.0</td>\n",
              "      <td>0.0</td>\n",
              "      <td>210.0</td>\n",
              "      <td>1100.0</td>\n",
              "    </tr>\n",
              "    <tr>\n",
              "      <th>508</th>\n",
              "      <td>6614</td>\n",
              "      <td>Sunset Overdrive</td>\n",
              "      <td>XOne</td>\n",
              "      <td>2014.0</td>\n",
              "      <td>Shooter</td>\n",
              "      <td>Microsoft Game Studios</td>\n",
              "      <td>620.0</td>\n",
              "      <td>400.0</td>\n",
              "      <td>0.0</td>\n",
              "      <td>80.0</td>\n",
              "      <td>1100.0</td>\n",
              "    </tr>\n",
              "    <tr>\n",
              "      <th>509</th>\n",
              "      <td>4159</td>\n",
              "      <td>Toy Story 3: The Video Game</td>\n",
              "      <td>PS3</td>\n",
              "      <td>2010.0</td>\n",
              "      <td>Action</td>\n",
              "      <td>Disney Interactive Studios</td>\n",
              "      <td>510.0</td>\n",
              "      <td>420.0</td>\n",
              "      <td>0.0</td>\n",
              "      <td>170.0</td>\n",
              "      <td>1100.0</td>\n",
              "    </tr>\n",
              "    <tr>\n",
              "      <th>510</th>\n",
              "      <td>12344</td>\n",
              "      <td>The Legend of Zelda: Tri Force Heroes</td>\n",
              "      <td>3DS</td>\n",
              "      <td>2015.0</td>\n",
              "      <td>Action</td>\n",
              "      <td>Nintendo</td>\n",
              "      <td>520.0</td>\n",
              "      <td>330.0</td>\n",
              "      <td>170.0</td>\n",
              "      <td>80.0</td>\n",
              "      <td>1100.0</td>\n",
              "    </tr>\n",
              "    <tr>\n",
              "      <th>511</th>\n",
              "      <td>5408</td>\n",
              "      <td>Lightning Returns: Final Fantasy XIII</td>\n",
              "      <td>PS3</td>\n",
              "      <td>2013.0</td>\n",
              "      <td>Role-Playing</td>\n",
              "      <td>Square Enix</td>\n",
              "      <td>310.0</td>\n",
              "      <td>220.0</td>\n",
              "      <td>450.0</td>\n",
              "      <td>120.0</td>\n",
              "      <td>1100.0</td>\n",
              "    </tr>\n",
              "  </tbody>\n",
              "</table>\n",
              "<p>512 rows × 11 columns</p>\n",
              "</div>"
            ],
            "text/plain": [
              "     index                                   Name  ... Other_Sales    sales\n",
              "0     4343                     Kinect Adventures!  ...      1670.0  21820.0\n",
              "1     3483                     Grand Theft Auto V  ...      4140.0  21390.0\n",
              "2    10913                     Grand Theft Auto V  ...      1380.0  16380.0\n",
              "3    10621            Pokemon Black/Pokemon White  ...       820.0  15320.0\n",
              "4     2809         Call of Duty: Modern Warfare 3  ...      1320.0  14760.0\n",
              "..     ...                                    ...  ...         ...      ...\n",
              "507   3149             LEGO The Lord of the Rings  ...       210.0   1100.0\n",
              "508   6614                       Sunset Overdrive  ...        80.0   1100.0\n",
              "509   4159            Toy Story 3: The Video Game  ...       170.0   1100.0\n",
              "510  12344  The Legend of Zelda: Tri Force Heroes  ...        80.0   1100.0\n",
              "511   5408  Lightning Returns: Final Fantasy XIII  ...       120.0   1100.0\n",
              "\n",
              "[512 rows x 11 columns]"
            ]
          },
          "metadata": {
            "tags": []
          },
          "execution_count": 244
        }
      ]
    },
    {
      "cell_type": "code",
      "metadata": {
        "colab": {
          "base_uri": "https://localhost:8080/",
          "height": 171
        },
        "id": "xv2mcno7hmO4",
        "outputId": "276473e3-9d45-409c-b494-d03bc3939d81"
      },
      "source": [
        "#상위 10퍼 장르 총합\n",
        "\n",
        "vgames08_sum= vgames08_10per.groupby(['Genre']).sum()\n",
        "vgames08_sum= vgames08_sum.iloc[:, 1:5]\n",
        "vgames08_sum= vgames08_sum.T\n",
        "vgames08_sum"
      ],
      "execution_count": 245,
      "outputs": [
        {
          "output_type": "execute_result",
          "data": {
            "text/html": [
              "<div>\n",
              "<style scoped>\n",
              "    .dataframe tbody tr th:only-of-type {\n",
              "        vertical-align: middle;\n",
              "    }\n",
              "\n",
              "    .dataframe tbody tr th {\n",
              "        vertical-align: top;\n",
              "    }\n",
              "\n",
              "    .dataframe thead th {\n",
              "        text-align: right;\n",
              "    }\n",
              "</style>\n",
              "<table border=\"1\" class=\"dataframe\">\n",
              "  <thead>\n",
              "    <tr style=\"text-align: right;\">\n",
              "      <th>Genre</th>\n",
              "      <th>Action</th>\n",
              "      <th>Adventure</th>\n",
              "      <th>Fighting</th>\n",
              "      <th>Misc</th>\n",
              "      <th>Platform</th>\n",
              "      <th>Puzzle</th>\n",
              "      <th>Racing</th>\n",
              "      <th>Role-Playing</th>\n",
              "      <th>Shooter</th>\n",
              "      <th>Simulation</th>\n",
              "      <th>Sports</th>\n",
              "      <th>Strategy</th>\n",
              "    </tr>\n",
              "  </thead>\n",
              "  <tbody>\n",
              "    <tr>\n",
              "      <th>Year</th>\n",
              "      <td>287744.0</td>\n",
              "      <td>14086.0</td>\n",
              "      <td>32191.0</td>\n",
              "      <td>60358.0</td>\n",
              "      <td>62375.0</td>\n",
              "      <td>8045.0</td>\n",
              "      <td>50300.0</td>\n",
              "      <td>130800.0</td>\n",
              "      <td>197247.0</td>\n",
              "      <td>26153.0</td>\n",
              "      <td>146911.0</td>\n",
              "      <td>14079.0</td>\n",
              "    </tr>\n",
              "    <tr>\n",
              "      <th>NA_Sales</th>\n",
              "      <td>165740.0</td>\n",
              "      <td>6240.0</td>\n",
              "      <td>18560.0</td>\n",
              "      <td>66690.0</td>\n",
              "      <td>41710.0</td>\n",
              "      <td>3590.0</td>\n",
              "      <td>26030.0</td>\n",
              "      <td>70190.0</td>\n",
              "      <td>186120.0</td>\n",
              "      <td>11140.0</td>\n",
              "      <td>86590.0</td>\n",
              "      <td>6830.0</td>\n",
              "    </tr>\n",
              "    <tr>\n",
              "      <th>EU_Sales</th>\n",
              "      <td>142470.0</td>\n",
              "      <td>6320.0</td>\n",
              "      <td>8420.0</td>\n",
              "      <td>37570.0</td>\n",
              "      <td>27530.0</td>\n",
              "      <td>2140.0</td>\n",
              "      <td>32190.0</td>\n",
              "      <td>49960.0</td>\n",
              "      <td>129590.0</td>\n",
              "      <td>14590.0</td>\n",
              "      <td>78810.0</td>\n",
              "      <td>4800.0</td>\n",
              "    </tr>\n",
              "    <tr>\n",
              "      <th>JP_Sales</th>\n",
              "      <td>21470.0</td>\n",
              "      <td>460.0</td>\n",
              "      <td>3670.0</td>\n",
              "      <td>4920.0</td>\n",
              "      <td>14430.0</td>\n",
              "      <td>900.0</td>\n",
              "      <td>5880.0</td>\n",
              "      <td>49530.0</td>\n",
              "      <td>9820.0</td>\n",
              "      <td>8390.0</td>\n",
              "      <td>3320.0</td>\n",
              "      <td>290.0</td>\n",
              "    </tr>\n",
              "  </tbody>\n",
              "</table>\n",
              "</div>"
            ],
            "text/plain": [
              "Genre       Action  Adventure  Fighting  ...  Simulation    Sports  Strategy\n",
              "Year      287744.0    14086.0   32191.0  ...     26153.0  146911.0   14079.0\n",
              "NA_Sales  165740.0     6240.0   18560.0  ...     11140.0   86590.0    6830.0\n",
              "EU_Sales  142470.0     6320.0    8420.0  ...     14590.0   78810.0    4800.0\n",
              "JP_Sales   21470.0      460.0    3670.0  ...      8390.0    3320.0     290.0\n",
              "\n",
              "[4 rows x 12 columns]"
            ]
          },
          "metadata": {
            "tags": []
          },
          "execution_count": 245
        }
      ]
    },
    {
      "cell_type": "code",
      "metadata": {
        "colab": {
          "base_uri": "https://localhost:8080/",
          "height": 355
        },
        "id": "Wwk2CLijJFgj",
        "outputId": "c8d7262d-ae1d-44db-acaa-a5facc6cc93a"
      },
      "source": [
        "vgames08_sum.plot(kind='bar',figsize=(11,5), rot=1, alpha = 0.5, title='Sales sum from 08')"
      ],
      "execution_count": 246,
      "outputs": [
        {
          "output_type": "execute_result",
          "data": {
            "text/plain": [
              "<matplotlib.axes._subplots.AxesSubplot at 0x7faa7242a290>"
            ]
          },
          "metadata": {
            "tags": []
          },
          "execution_count": 246
        },
        {
          "output_type": "display_data",
          "data": {
            "image/png": "[encoded data removed]",
            "text/plain": [
              "<Figure size 792x360 with 1 Axes>"
            ]
          },
          "metadata": {
            "tags": [],
            "needs_background": "light"
          }
        }
      ]
    },
    {
      "cell_type": "code",
      "metadata": {
        "id": "K3L-qzvqDfET"
      },
      "source": [
        "#상위 10퍼 장르 평균\n",
        "\n",
        "vgames08_mean= vgames08_10per.groupby(['Genre']).mean()\n",
        "vgames08_mean= vgames08_mean.iloc[:, 2:6]\n",
        "vgames08_mean= vgames08_mean.T"
      ],
      "execution_count": 247,
      "outputs": []
    },
    {
      "cell_type": "code",
      "metadata": {
        "colab": {
          "base_uri": "https://localhost:8080/",
          "height": 355
        },
        "id": "q316vlZIJowZ",
        "outputId": "257c3e93-845b-4741-e18c-db968f4faf94"
      },
      "source": [
        "vgames08_mean.plot(kind='bar',figsize=(11,5), rot=1, legend='reverse', alpha = 0.5, title='Sales Mean from 08')"
      ],
      "execution_count": 248,
      "outputs": [
        {
          "output_type": "execute_result",
          "data": {
            "text/plain": [
              "<matplotlib.axes._subplots.AxesSubplot at 0x7faa72297b90>"
            ]
          },
          "metadata": {
            "tags": []
          },
          "execution_count": 248
        },
        {
          "output_type": "display_data",
          "data": {
            "image/png": "[encoded data removed]",
            "text/plain": [
              "<Figure size 792x360 with 1 Axes>"
            ]
          },
          "metadata": {
            "tags": [],
            "needs_background": "light"
          }
        }
      ]
    },
    {
      "cell_type": "markdown",
      "metadata": {
        "id": "ry0iYQNDPNfQ"
      },
      "source": [
        "베이지안 정리\n",
        " </br>\n",
        "#1. 장르"
      ]
    },
    {
      "cell_type": "code",
      "metadata": {
        "colab": {
          "base_uri": "https://localhost:8080/"
        },
        "id": "IMWf-IEo-1Xp",
        "outputId": "d13ed282-6536-488c-d9dc-0ae547753a0a"
      },
      "source": [
        "total_genre = vgames08['Genre'].value_counts()\n",
        "total_sum = total_genre.sum()\n",
        "total_sum"
      ],
      "execution_count": 267,
      "outputs": [
        {
          "output_type": "execute_result",
          "data": {
            "text/plain": [
              "5120"
            ]
          },
          "metadata": {
            "tags": []
          },
          "execution_count": 267
        }
      ]
    },
    {
      "cell_type": "code",
      "metadata": {
        "id": "UE04t5JBIZWt"
      },
      "source": [
        "top10_10 = pd.DataFrame(vgames08_10per['Genre'].value_counts())\n",
        "\n",
        "genre_ratio = pd.concat([total_genre, top10_10], axis=1, join='inner')\n",
        "genre_ratio.columns=['total','top10%']\n",
        "genre_ratio['ratio'] = genre_ratio['total'] / total_sum"
      ],
      "execution_count": 429,
      "outputs": []
    },
    {
      "cell_type": "code",
      "metadata": {
        "colab": {
          "base_uri": "https://localhost:8080/",
          "height": 417
        },
        "id": "fiPlgqjVAsYz",
        "outputId": "9cba3e64-35be-4892-c768-080fce4bec13"
      },
      "source": [
        "#사전 확률 (genre 별)\n",
        "genre_ratio"
      ],
      "execution_count": 430,
      "outputs": [
        {
          "output_type": "execute_result",
          "data": {
            "text/html": [
              "<div>\n",
              "<style scoped>\n",
              "    .dataframe tbody tr th:only-of-type {\n",
              "        vertical-align: middle;\n",
              "    }\n",
              "\n",
              "    .dataframe tbody tr th {\n",
              "        vertical-align: top;\n",
              "    }\n",
              "\n",
              "    .dataframe thead th {\n",
              "        text-align: right;\n",
              "    }\n",
              "</style>\n",
              "<table border=\"1\" class=\"dataframe\">\n",
              "  <thead>\n",
              "    <tr style=\"text-align: right;\">\n",
              "      <th></th>\n",
              "      <th>total</th>\n",
              "      <th>top10%</th>\n",
              "      <th>ratio</th>\n",
              "    </tr>\n",
              "  </thead>\n",
              "  <tbody>\n",
              "    <tr>\n",
              "      <th>Action</th>\n",
              "      <td>1434</td>\n",
              "      <td>143</td>\n",
              "      <td>0.280078</td>\n",
              "    </tr>\n",
              "    <tr>\n",
              "      <th>Sports</th>\n",
              "      <td>569</td>\n",
              "      <td>73</td>\n",
              "      <td>0.111133</td>\n",
              "    </tr>\n",
              "    <tr>\n",
              "      <th>Misc</th>\n",
              "      <td>561</td>\n",
              "      <td>30</td>\n",
              "      <td>0.109570</td>\n",
              "    </tr>\n",
              "    <tr>\n",
              "      <th>Role-Playing</th>\n",
              "      <td>556</td>\n",
              "      <td>65</td>\n",
              "      <td>0.108594</td>\n",
              "    </tr>\n",
              "    <tr>\n",
              "      <th>Adventure</th>\n",
              "      <td>538</td>\n",
              "      <td>7</td>\n",
              "      <td>0.105078</td>\n",
              "    </tr>\n",
              "    <tr>\n",
              "      <th>Shooter</th>\n",
              "      <td>395</td>\n",
              "      <td>98</td>\n",
              "      <td>0.077148</td>\n",
              "    </tr>\n",
              "    <tr>\n",
              "      <th>Racing</th>\n",
              "      <td>233</td>\n",
              "      <td>25</td>\n",
              "      <td>0.045508</td>\n",
              "    </tr>\n",
              "    <tr>\n",
              "      <th>Simulation</th>\n",
              "      <td>206</td>\n",
              "      <td>13</td>\n",
              "      <td>0.040234</td>\n",
              "    </tr>\n",
              "    <tr>\n",
              "      <th>Fighting</th>\n",
              "      <td>196</td>\n",
              "      <td>16</td>\n",
              "      <td>0.038281</td>\n",
              "    </tr>\n",
              "    <tr>\n",
              "      <th>Strategy</th>\n",
              "      <td>167</td>\n",
              "      <td>7</td>\n",
              "      <td>0.032617</td>\n",
              "    </tr>\n",
              "    <tr>\n",
              "      <th>Platform</th>\n",
              "      <td>150</td>\n",
              "      <td>31</td>\n",
              "      <td>0.029297</td>\n",
              "    </tr>\n",
              "    <tr>\n",
              "      <th>Puzzle</th>\n",
              "      <td>115</td>\n",
              "      <td>4</td>\n",
              "      <td>0.022461</td>\n",
              "    </tr>\n",
              "  </tbody>\n",
              "</table>\n",
              "</div>"
            ],
            "text/plain": [
              "              total  top10%     ratio\n",
              "Action         1434     143  0.280078\n",
              "Sports          569      73  0.111133\n",
              "Misc            561      30  0.109570\n",
              "Role-Playing    556      65  0.108594\n",
              "Adventure       538       7  0.105078\n",
              "Shooter         395      98  0.077148\n",
              "Racing          233      25  0.045508\n",
              "Simulation      206      13  0.040234\n",
              "Fighting        196      16  0.038281\n",
              "Strategy        167       7  0.032617\n",
              "Platform        150      31  0.029297\n",
              "Puzzle          115       4  0.022461"
            ]
          },
          "metadata": {
            "tags": []
          },
          "execution_count": 430
        }
      ]
    },
    {
      "cell_type": "markdown",
      "metadata": {
        "id": "8Cyk_e-0FyTU"
      },
      "source": [
        "사전확률 (10%) 확률은</br>\n",
        "P(Yes) : 512 / 5120 = 0.1</br>\n",
        "P(No) :  4608 / 5120 = 0.9\n",
        "\n"
      ]
    },
    {
      "cell_type": "code",
      "metadata": {
        "id": "pRorFrW3GSK9"
      },
      "source": [
        "#사전확률\n",
        "piror_genre = pd.DataFrame(total_genre/total_sum)"
      ],
      "execution_count": 431,
      "outputs": []
    },
    {
      "cell_type": "code",
      "metadata": {
        "colab": {
          "base_uri": "https://localhost:8080/",
          "height": 417
        },
        "id": "CfXG4GYxIXM5",
        "outputId": "df97fde5-7122-454b-c88a-27ea0d2c766c"
      },
      "source": [
        "piror_genre['yes'] = piror['top10%'] / 512\n",
        "piror_genre"
      ],
      "execution_count": 432,
      "outputs": [
        {
          "output_type": "execute_result",
          "data": {
            "text/html": [
              "<div>\n",
              "<style scoped>\n",
              "    .dataframe tbody tr th:only-of-type {\n",
              "        vertical-align: middle;\n",
              "    }\n",
              "\n",
              "    .dataframe tbody tr th {\n",
              "        vertical-align: top;\n",
              "    }\n",
              "\n",
              "    .dataframe thead th {\n",
              "        text-align: right;\n",
              "    }\n",
              "</style>\n",
              "<table border=\"1\" class=\"dataframe\">\n",
              "  <thead>\n",
              "    <tr style=\"text-align: right;\">\n",
              "      <th></th>\n",
              "      <th>Genre</th>\n",
              "      <th>yes</th>\n",
              "    </tr>\n",
              "  </thead>\n",
              "  <tbody>\n",
              "    <tr>\n",
              "      <th>Action</th>\n",
              "      <td>0.280078</td>\n",
              "      <td>0.279297</td>\n",
              "    </tr>\n",
              "    <tr>\n",
              "      <th>Sports</th>\n",
              "      <td>0.111133</td>\n",
              "      <td>0.142578</td>\n",
              "    </tr>\n",
              "    <tr>\n",
              "      <th>Misc</th>\n",
              "      <td>0.109570</td>\n",
              "      <td>0.058594</td>\n",
              "    </tr>\n",
              "    <tr>\n",
              "      <th>Role-Playing</th>\n",
              "      <td>0.108594</td>\n",
              "      <td>0.126953</td>\n",
              "    </tr>\n",
              "    <tr>\n",
              "      <th>Adventure</th>\n",
              "      <td>0.105078</td>\n",
              "      <td>0.013672</td>\n",
              "    </tr>\n",
              "    <tr>\n",
              "      <th>Shooter</th>\n",
              "      <td>0.077148</td>\n",
              "      <td>0.191406</td>\n",
              "    </tr>\n",
              "    <tr>\n",
              "      <th>Racing</th>\n",
              "      <td>0.045508</td>\n",
              "      <td>0.048828</td>\n",
              "    </tr>\n",
              "    <tr>\n",
              "      <th>Simulation</th>\n",
              "      <td>0.040234</td>\n",
              "      <td>0.025391</td>\n",
              "    </tr>\n",
              "    <tr>\n",
              "      <th>Fighting</th>\n",
              "      <td>0.038281</td>\n",
              "      <td>0.031250</td>\n",
              "    </tr>\n",
              "    <tr>\n",
              "      <th>Strategy</th>\n",
              "      <td>0.032617</td>\n",
              "      <td>0.013672</td>\n",
              "    </tr>\n",
              "    <tr>\n",
              "      <th>Platform</th>\n",
              "      <td>0.029297</td>\n",
              "      <td>0.060547</td>\n",
              "    </tr>\n",
              "    <tr>\n",
              "      <th>Puzzle</th>\n",
              "      <td>0.022461</td>\n",
              "      <td>0.007812</td>\n",
              "    </tr>\n",
              "  </tbody>\n",
              "</table>\n",
              "</div>"
            ],
            "text/plain": [
              "                 Genre       yes\n",
              "Action        0.280078  0.279297\n",
              "Sports        0.111133  0.142578\n",
              "Misc          0.109570  0.058594\n",
              "Role-Playing  0.108594  0.126953\n",
              "Adventure     0.105078  0.013672\n",
              "Shooter       0.077148  0.191406\n",
              "Racing        0.045508  0.048828\n",
              "Simulation    0.040234  0.025391\n",
              "Fighting      0.038281  0.031250\n",
              "Strategy      0.032617  0.013672\n",
              "Platform      0.029297  0.060547\n",
              "Puzzle        0.022461  0.007812"
            ]
          },
          "metadata": {
            "tags": []
          },
          "execution_count": 432
        }
      ]
    },
    {
      "cell_type": "code",
      "metadata": {
        "colab": {
          "base_uri": "https://localhost:8080/",
          "height": 229
        },
        "id": "D3TBM8vYKYbd",
        "outputId": "fcacaa33-f8f9-4a66-e3ab-e90c0a090662"
      },
      "source": [
        "#P(No | Cool) : P(No) P(Cool | No) / P(Cool)\n",
        "\n",
        "piror_genre['bayesian'] = (0.1 * piror_genre['yes']) / genre_ratio['ratio']\n",
        "piror_genre['bayesian'].plot(kind='bar', rot=1, figsize = (12, 3), alpha=0.5)"
      ],
      "execution_count": 433,
      "outputs": [
        {
          "output_type": "execute_result",
          "data": {
            "text/plain": [
              "<matplotlib.axes._subplots.AxesSubplot at 0x7faa719d2910>"
            ]
          },
          "metadata": {
            "tags": []
          },
          "execution_count": 433
        },
        {
          "output_type": "display_data",
          "data": {
            "image/png": "[encoded data removed]",
            "text/plain": [
              "<Figure size 864x216 with 1 Axes>"
            ]
          },
          "metadata": {
            "tags": [],
            "needs_background": "light"
          }
        }
      ]
    },
    {
      "cell_type": "code",
      "metadata": {
        "colab": {
          "base_uri": "https://localhost:8080/",
          "height": 202
        },
        "id": "wSH1La2tlCF7",
        "outputId": "d15bc56e-1a5c-4238-ec6c-4d5f3a3d6a1f"
      },
      "source": [
        "pd.DataFrame(piror_genre['bayesian']).sort_values(by='bayesian', ascending=False).head()"
      ],
      "execution_count": 437,
      "outputs": [
        {
          "output_type": "execute_result",
          "data": {
            "text/html": [
              "<div>\n",
              "<style scoped>\n",
              "    .dataframe tbody tr th:only-of-type {\n",
              "        vertical-align: middle;\n",
              "    }\n",
              "\n",
              "    .dataframe tbody tr th {\n",
              "        vertical-align: top;\n",
              "    }\n",
              "\n",
              "    .dataframe thead th {\n",
              "        text-align: right;\n",
              "    }\n",
              "</style>\n",
              "<table border=\"1\" class=\"dataframe\">\n",
              "  <thead>\n",
              "    <tr style=\"text-align: right;\">\n",
              "      <th></th>\n",
              "      <th>bayesian</th>\n",
              "    </tr>\n",
              "  </thead>\n",
              "  <tbody>\n",
              "    <tr>\n",
              "      <th>Shooter</th>\n",
              "      <td>0.248101</td>\n",
              "    </tr>\n",
              "    <tr>\n",
              "      <th>Platform</th>\n",
              "      <td>0.206667</td>\n",
              "    </tr>\n",
              "    <tr>\n",
              "      <th>Sports</th>\n",
              "      <td>0.128295</td>\n",
              "    </tr>\n",
              "    <tr>\n",
              "      <th>Role-Playing</th>\n",
              "      <td>0.116906</td>\n",
              "    </tr>\n",
              "    <tr>\n",
              "      <th>Racing</th>\n",
              "      <td>0.107296</td>\n",
              "    </tr>\n",
              "  </tbody>\n",
              "</table>\n",
              "</div>"
            ],
            "text/plain": [
              "              bayesian\n",
              "Shooter       0.248101\n",
              "Platform      0.206667\n",
              "Sports        0.128295\n",
              "Role-Playing  0.116906\n",
              "Racing        0.107296"
            ]
          },
          "metadata": {
            "tags": []
          },
          "execution_count": 437
        }
      ]
    },
    {
      "cell_type": "markdown",
      "metadata": {
        "id": "YyLu_9SFPiPC"
      },
      "source": [
        "# 2. 플랫폼"
      ]
    },
    {
      "cell_type": "code",
      "metadata": {
        "id": "1UzMh0vZGtYj",
        "colab": {
          "base_uri": "https://localhost:8080/"
        },
        "outputId": "c38276c9-e0b3-4507-b62b-7d43b73e91fe"
      },
      "source": [
        "total_plat = vgames08['Platform'].value_counts()\n",
        "top10_plat = pd.DataFrame(vgames08_10per['Platform'].value_counts())"
      ],
      "execution_count": 413,
      "outputs": [
        {
          "output_type": "execute_result",
          "data": {
            "text/plain": [
              "5120"
            ]
          },
          "metadata": {
            "tags": []
          },
          "execution_count": 413
        }
      ]
    },
    {
      "cell_type": "code",
      "metadata": {
        "colab": {
          "base_uri": "https://localhost:8080/",
          "height": 202
        },
        "id": "S-pVdhlcQI4q",
        "outputId": "198ab985-7a21-43bf-edce-9bfabb7cff76"
      },
      "source": [
        "plat_ratio = pd.concat([total_plat, top10_plat], axis=1, join='inner')\n",
        "plat_ratio.columns=['total','top10%']\n",
        "plat_ratio['ratio'] = plat_ratio['total'] / total_plat.sum()\n",
        "total_plat_sum = plat_ratio['total'].sum()\n",
        "plat_ratio.head()"
      ],
      "execution_count": 436,
      "outputs": [
        {
          "output_type": "execute_result",
          "data": {
            "text/html": [
              "<div>\n",
              "<style scoped>\n",
              "    .dataframe tbody tr th:only-of-type {\n",
              "        vertical-align: middle;\n",
              "    }\n",
              "\n",
              "    .dataframe tbody tr th {\n",
              "        vertical-align: top;\n",
              "    }\n",
              "\n",
              "    .dataframe thead th {\n",
              "        text-align: right;\n",
              "    }\n",
              "</style>\n",
              "<table border=\"1\" class=\"dataframe\">\n",
              "  <thead>\n",
              "    <tr style=\"text-align: right;\">\n",
              "      <th></th>\n",
              "      <th>total</th>\n",
              "      <th>top10%</th>\n",
              "      <th>ratio</th>\n",
              "    </tr>\n",
              "  </thead>\n",
              "  <tbody>\n",
              "    <tr>\n",
              "      <th>PS3</th>\n",
              "      <td>884</td>\n",
              "      <td>132</td>\n",
              "      <td>0.172656</td>\n",
              "    </tr>\n",
              "    <tr>\n",
              "      <th>X360</th>\n",
              "      <td>680</td>\n",
              "      <td>120</td>\n",
              "      <td>0.132812</td>\n",
              "    </tr>\n",
              "    <tr>\n",
              "      <th>DS</th>\n",
              "      <td>512</td>\n",
              "      <td>17</td>\n",
              "      <td>0.100000</td>\n",
              "    </tr>\n",
              "    <tr>\n",
              "      <th>PSP</th>\n",
              "      <td>499</td>\n",
              "      <td>4</td>\n",
              "      <td>0.097461</td>\n",
              "    </tr>\n",
              "    <tr>\n",
              "      <th>3DS</th>\n",
              "      <td>498</td>\n",
              "      <td>45</td>\n",
              "      <td>0.097266</td>\n",
              "    </tr>\n",
              "  </tbody>\n",
              "</table>\n",
              "</div>"
            ],
            "text/plain": [
              "      total  top10%     ratio\n",
              "PS3     884     132  0.172656\n",
              "X360    680     120  0.132812\n",
              "DS      512      17  0.100000\n",
              "PSP     499       4  0.097461\n",
              "3DS     498      45  0.097266"
            ]
          },
          "metadata": {
            "tags": []
          },
          "execution_count": 436
        }
      ]
    },
    {
      "cell_type": "code",
      "metadata": {
        "colab": {
          "base_uri": "https://localhost:8080/",
          "height": 202
        },
        "id": "m-b8KpfpQ3e_",
        "outputId": "2e4325c4-34d4-4825-b5cd-8461fd675eed"
      },
      "source": [
        "piror_plat = pd.DataFrame(plat_ratio['total']/total_plat_sum)\n",
        "piror_plat['yes'] = plat_ratio['top10%'] / 512\n",
        "piror_plat['bayesian']  = (0.1 * piror_plat['yes']) / plat_ratio['ratio']\n",
        "piror_plat = piror_plat.sort_values(by='bayesian', ascending=False).head()\n",
        "pd.DataFrame(piror_plat['bayesian'].head())"
      ],
      "execution_count": 418,
      "outputs": [
        {
          "output_type": "execute_result",
          "data": {
            "text/html": [
              "<div>\n",
              "<style scoped>\n",
              "    .dataframe tbody tr th:only-of-type {\n",
              "        vertical-align: middle;\n",
              "    }\n",
              "\n",
              "    .dataframe tbody tr th {\n",
              "        vertical-align: top;\n",
              "    }\n",
              "\n",
              "    .dataframe thead th {\n",
              "        text-align: right;\n",
              "    }\n",
              "</style>\n",
              "<table border=\"1\" class=\"dataframe\">\n",
              "  <thead>\n",
              "    <tr style=\"text-align: right;\">\n",
              "      <th></th>\n",
              "      <th>bayesian</th>\n",
              "    </tr>\n",
              "  </thead>\n",
              "  <tbody>\n",
              "    <tr>\n",
              "      <th>PS4</th>\n",
              "      <td>0.200000</td>\n",
              "    </tr>\n",
              "    <tr>\n",
              "      <th>XOne</th>\n",
              "      <td>0.198113</td>\n",
              "    </tr>\n",
              "    <tr>\n",
              "      <th>X360</th>\n",
              "      <td>0.176471</td>\n",
              "    </tr>\n",
              "    <tr>\n",
              "      <th>PS3</th>\n",
              "      <td>0.149321</td>\n",
              "    </tr>\n",
              "    <tr>\n",
              "      <th>WiiU</th>\n",
              "      <td>0.111888</td>\n",
              "    </tr>\n",
              "  </tbody>\n",
              "</table>\n",
              "</div>"
            ],
            "text/plain": [
              "      bayesian\n",
              "PS4   0.200000\n",
              "XOne  0.198113\n",
              "X360  0.176471\n",
              "PS3   0.149321\n",
              "WiiU  0.111888"
            ]
          },
          "metadata": {
            "tags": []
          },
          "execution_count": 418
        }
      ]
    },
    {
      "cell_type": "code",
      "metadata": {
        "colab": {
          "base_uri": "https://localhost:8080/",
          "height": 283
        },
        "id": "APQQ3p8zeTcB",
        "outputId": "aeecedbe-d9f3-4a3f-903a-75169a40af61"
      },
      "source": [
        "piror_plat['bayesian'].plot(kind=\"bar\", rot=1)"
      ],
      "execution_count": 411,
      "outputs": [
        {
          "output_type": "execute_result",
          "data": {
            "text/plain": [
              "<matplotlib.axes._subplots.AxesSubplot at 0x7faa71a24390>"
            ]
          },
          "metadata": {
            "tags": []
          },
          "execution_count": 411
        },
        {
          "output_type": "display_data",
          "data": {
            "image/png": "[encoded data removed]",
            "text/plain": [
              "<Figure size 432x288 with 1 Axes>"
            ]
          },
          "metadata": {
            "tags": [],
            "needs_background": "light"
          }
        }
      ]
    },
    {
      "cell_type": "markdown",
      "metadata": {
        "id": "c39eYsEzg_N8"
      },
      "source": [
        "# 4. naive baseyan\n",
        "</br>\n",
        " P( X | top100 ) = P(Shooter | top100) * P(PS4 | top100) / P(X)<br>\n",
        "= 0.248101 * 0.198320 </br>\n",
        " P(top100) P(X | top100) / P(X)\n"
      ]
    },
    {
      "cell_type": "code",
      "metadata": {
        "colab": {
          "base_uri": "https://localhost:8080/"
        },
        "id": "pI4AnDwmhpgG",
        "outputId": "15fb4dc0-7481-4644-9f93-79da8de3aad3"
      },
      "source": [
        "(0.1 * (0.248101 * 0.2)) / (0.280078 * 0.172656) *100"
      ],
      "execution_count": 441,
      "outputs": [
        {
          "output_type": "execute_result",
          "data": {
            "text/plain": [
              "20.52238517198377"
            ]
          },
          "metadata": {
            "tags": []
          },
          "execution_count": 441
        }
      ]
    }
  ]
}