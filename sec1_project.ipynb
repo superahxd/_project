{
  "nbformat": 4,
  "nbformat_minor": 0,
  "metadata": {
    "colab": {
      "name": "sec1_project.ipynb",
      "provenance": []
    },
    "kernelspec": {
      "name": "python3",
      "display_name": "Python 3"
    },
    "language_info": {
      "name": "python"
    }
  },
  "cells": [
    {
      "cell_type": "markdown",
      "metadata": {
        "id": "3omE7ShCbMyh"
      },
      "source": [
        ""
      ]
    },
    {
      "cell_type": "markdown",
      "metadata": {
        "id": "jFNLaUdmvWkl"
      },
      "source": [
        "#💥GOAL\n",
        "\n",
        "다음 분기에 어떤 게임을 설계해야 할까"
      ]
    },
    {
      "cell_type": "markdown",
      "metadata": {
        "id": "kuoVb_dtvHv9"
      },
      "source": [
        "1. 지역에 따라서 선호하는 게임 장르가 다를까\n",
        "2. 연도별 게임의 트렌드가 있을까\n",
        "3. 출고량이 높은 게임에 대한 분석 및 시각화 프로세스"
      ]
    },
    {
      "cell_type": "markdown",
      "metadata": {
        "id": "4Nch-gGju1Eh"
      },
      "source": [
        "# 🕹️ Data Description\n",
        "Name : 게임의 이름입니다.\n",
        "\n",
        "Platform : 게임이 지원되는 플랫폼의 이름입니다.\n",
        "\n",
        "Year : 게임이 출시된 연도입니다.\n",
        "\n",
        "Genre : 게임의 장르입니다.\n",
        "\n",
        "Publisher : 게임을 제작한 회사입니다.\n",
        "\n",
        "NA_Sales : 북미지역에서의 출고량입니다.\n",
        "\n",
        "EU_Sales : 유럽지역에서의 출고량입니다.\n",
        "\n",
        "JP_Sales : 일본지역에서의 출고량입니다.\n",
        "\n",
        "Other_Sales : 기타지역에서의 출고량입니다."
      ]
    },
    {
      "cell_type": "code",
      "metadata": {
        "id": "gquRkULLSdWN"
      },
      "source": [
        "import pandas as pd\n",
        "\n",
        "vgames = pd.read_csv('/content/vgames2.csv')"
      ],
      "execution_count": 172,
      "outputs": []
    },
    {
      "cell_type": "code",
      "metadata": {
        "colab": {
          "base_uri": "https://localhost:8080/",
          "height": 202
        },
        "id": "aH4ZCO4gbMc4",
        "outputId": "4f47e393-98b2-4ee6-87c9-42314d98a8e5"
      },
      "source": [
        "vgames.head()"
      ],
      "execution_count": 173,
      "outputs": [
        {
          "output_type": "execute_result",
          "data": {
            "text/html": [
              "<div>\n",
              "<style scoped>\n",
              "    .dataframe tbody tr th:only-of-type {\n",
              "        vertical-align: middle;\n",
              "    }\n",
              "\n",
              "    .dataframe tbody tr th {\n",
              "        vertical-align: top;\n",
              "    }\n",
              "\n",
              "    .dataframe thead th {\n",
              "        text-align: right;\n",
              "    }\n",
              "</style>\n",
              "<table border=\"1\" class=\"dataframe\">\n",
              "  <thead>\n",
              "    <tr style=\"text-align: right;\">\n",
              "      <th></th>\n",
              "      <th>Unnamed: 0</th>\n",
              "      <th>Name</th>\n",
              "      <th>Platform</th>\n",
              "      <th>Year</th>\n",
              "      <th>Genre</th>\n",
              "      <th>Publisher</th>\n",
              "      <th>NA_Sales</th>\n",
              "      <th>EU_Sales</th>\n",
              "      <th>JP_Sales</th>\n",
              "      <th>Other_Sales</th>\n",
              "    </tr>\n",
              "  </thead>\n",
              "  <tbody>\n",
              "    <tr>\n",
              "      <th>0</th>\n",
              "      <td>1</td>\n",
              "      <td>Candace Kane's Candy Factory</td>\n",
              "      <td>DS</td>\n",
              "      <td>2008.0</td>\n",
              "      <td>Action</td>\n",
              "      <td>Destineer</td>\n",
              "      <td>0.04</td>\n",
              "      <td>0</td>\n",
              "      <td>0</td>\n",
              "      <td>0</td>\n",
              "    </tr>\n",
              "    <tr>\n",
              "      <th>1</th>\n",
              "      <td>2</td>\n",
              "      <td>The Munchables</td>\n",
              "      <td>Wii</td>\n",
              "      <td>2009.0</td>\n",
              "      <td>Action</td>\n",
              "      <td>Namco Bandai Games</td>\n",
              "      <td>0.17</td>\n",
              "      <td>0</td>\n",
              "      <td>0</td>\n",
              "      <td>0.01</td>\n",
              "    </tr>\n",
              "    <tr>\n",
              "      <th>2</th>\n",
              "      <td>3</td>\n",
              "      <td>Otome wa Oanesama Boku ni Koi Shiteru Portable</td>\n",
              "      <td>PSP</td>\n",
              "      <td>2010.0</td>\n",
              "      <td>Adventure</td>\n",
              "      <td>Alchemist</td>\n",
              "      <td>0</td>\n",
              "      <td>0</td>\n",
              "      <td>0.02</td>\n",
              "      <td>0</td>\n",
              "    </tr>\n",
              "    <tr>\n",
              "      <th>3</th>\n",
              "      <td>4</td>\n",
              "      <td>Deal or No Deal: Special Edition</td>\n",
              "      <td>DS</td>\n",
              "      <td>2010.0</td>\n",
              "      <td>Misc</td>\n",
              "      <td>Zoo Games</td>\n",
              "      <td>0.04</td>\n",
              "      <td>0</td>\n",
              "      <td>0</td>\n",
              "      <td>0</td>\n",
              "    </tr>\n",
              "    <tr>\n",
              "      <th>4</th>\n",
              "      <td>5</td>\n",
              "      <td>Ben 10 Ultimate Alien: Cosmic Destruction</td>\n",
              "      <td>PS3</td>\n",
              "      <td>2010.0</td>\n",
              "      <td>Platform</td>\n",
              "      <td>D3Publisher</td>\n",
              "      <td>0.12</td>\n",
              "      <td>0.09</td>\n",
              "      <td>0</td>\n",
              "      <td>0.04</td>\n",
              "    </tr>\n",
              "  </tbody>\n",
              "</table>\n",
              "</div>"
            ],
            "text/plain": [
              "   Unnamed: 0  ... Other_Sales\n",
              "0           1  ...           0\n",
              "1           2  ...        0.01\n",
              "2           3  ...           0\n",
              "3           4  ...           0\n",
              "4           5  ...        0.04\n",
              "\n",
              "[5 rows x 10 columns]"
            ]
          },
          "metadata": {
            "tags": []
          },
          "execution_count": 173
        }
      ]
    },
    {
      "cell_type": "code",
      "metadata": {
        "id": "e9vRMWBwt1kj"
      },
      "source": [
        "def value_to_float(x):\n",
        "    if type(x) == float or type(x) == int:\n",
        "        return x\n",
        "    if 'K' in x:\n",
        "        if len(x) > 1:\n",
        "            return float(x.replace('K', '')) * 1000\n",
        "        return 1000.0\n",
        "    if 'M' in x:\n",
        "        if len(x) > 1:\n",
        "            return float(x.replace('M', '')) * 1000000\n",
        "        return 1000000.0\n",
        "    return float(x)\n",
        "\n",
        "\n",
        "vgames['NA_Sales']=vgames['NA_Sales'].apply(value_to_float)\n",
        "vgames['EU_Sales']=vgames['EU_Sales'].apply(value_to_float)\n",
        "vgames['JP_Sales']=vgames['JP_Sales'].apply(value_to_float)\n",
        "vgames['Other_Sales']=vgames['Other_Sales'].apply(value_to_float)"
      ],
      "execution_count": 174,
      "outputs": []
    },
    {
      "cell_type": "code",
      "metadata": {
        "id": "KxnOZMN0dhxM"
      },
      "source": [
        "def million(x):\n",
        " if x <= 100:\n",
        "   return x * 1000000.0\n",
        " else: return x\n",
        "\n",
        "vgames['NA_Sales']=vgames['NA_Sales'].apply(million)\n",
        "vgames['EU_Sales']=vgames['EU_Sales'].apply(million)\n",
        "vgames['JP_Sales']=vgames['JP_Sales'].apply(million)\n",
        "vgames['Other_Sales']=vgames['Other_Sales'].apply(million)"
      ],
      "execution_count": 175,
      "outputs": []
    },
    {
      "cell_type": "code",
      "metadata": {
        "id": "-YC2SHL5_AuI"
      },
      "source": [
        "def year(x):\n",
        "  if x >= 80 and x <= 100:\n",
        "   return x + 1900\n",
        "  elif x < 80:\n",
        "   return x + 2000\n",
        "  else : return float(x)\n",
        "\n",
        "vgames['Year']=vgames['Year'].apply(year)"
      ],
      "execution_count": 176,
      "outputs": []
    },
    {
      "cell_type": "code",
      "metadata": {
        "colab": {
          "base_uri": "https://localhost:8080/"
        },
        "id": "_mbxgvCSQUoO",
        "outputId": "10017243-2a94-4e5e-e010-3b809d7a620c"
      },
      "source": [
        "vgames['Year'].isna().sum()"
      ],
      "execution_count": 177,
      "outputs": [
        {
          "output_type": "execute_result",
          "data": {
            "text/plain": [
              "271"
            ]
          },
          "metadata": {
            "tags": []
          },
          "execution_count": 177
        }
      ]
    },
    {
      "cell_type": "code",
      "metadata": {
        "colab": {
          "base_uri": "https://localhost:8080/",
          "height": 202
        },
        "id": "gaHD0FDeQflg",
        "outputId": "264e4954-49b5-417b-c296-a9bbd73389c4"
      },
      "source": [
        "vgames=vgames.iloc[:,1:]\n",
        "vgames.head()"
      ],
      "execution_count": 178,
      "outputs": [
        {
          "output_type": "execute_result",
          "data": {
            "text/html": [
              "<div>\n",
              "<style scoped>\n",
              "    .dataframe tbody tr th:only-of-type {\n",
              "        vertical-align: middle;\n",
              "    }\n",
              "\n",
              "    .dataframe tbody tr th {\n",
              "        vertical-align: top;\n",
              "    }\n",
              "\n",
              "    .dataframe thead th {\n",
              "        text-align: right;\n",
              "    }\n",
              "</style>\n",
              "<table border=\"1\" class=\"dataframe\">\n",
              "  <thead>\n",
              "    <tr style=\"text-align: right;\">\n",
              "      <th></th>\n",
              "      <th>Name</th>\n",
              "      <th>Platform</th>\n",
              "      <th>Year</th>\n",
              "      <th>Genre</th>\n",
              "      <th>Publisher</th>\n",
              "      <th>NA_Sales</th>\n",
              "      <th>EU_Sales</th>\n",
              "      <th>JP_Sales</th>\n",
              "      <th>Other_Sales</th>\n",
              "    </tr>\n",
              "  </thead>\n",
              "  <tbody>\n",
              "    <tr>\n",
              "      <th>0</th>\n",
              "      <td>Candace Kane's Candy Factory</td>\n",
              "      <td>DS</td>\n",
              "      <td>2008.0</td>\n",
              "      <td>Action</td>\n",
              "      <td>Destineer</td>\n",
              "      <td>40000.0</td>\n",
              "      <td>0.0</td>\n",
              "      <td>0.0</td>\n",
              "      <td>0.0</td>\n",
              "    </tr>\n",
              "    <tr>\n",
              "      <th>1</th>\n",
              "      <td>The Munchables</td>\n",
              "      <td>Wii</td>\n",
              "      <td>2009.0</td>\n",
              "      <td>Action</td>\n",
              "      <td>Namco Bandai Games</td>\n",
              "      <td>170000.0</td>\n",
              "      <td>0.0</td>\n",
              "      <td>0.0</td>\n",
              "      <td>10000.0</td>\n",
              "    </tr>\n",
              "    <tr>\n",
              "      <th>2</th>\n",
              "      <td>Otome wa Oanesama Boku ni Koi Shiteru Portable</td>\n",
              "      <td>PSP</td>\n",
              "      <td>2010.0</td>\n",
              "      <td>Adventure</td>\n",
              "      <td>Alchemist</td>\n",
              "      <td>0.0</td>\n",
              "      <td>0.0</td>\n",
              "      <td>20000.0</td>\n",
              "      <td>0.0</td>\n",
              "    </tr>\n",
              "    <tr>\n",
              "      <th>3</th>\n",
              "      <td>Deal or No Deal: Special Edition</td>\n",
              "      <td>DS</td>\n",
              "      <td>2010.0</td>\n",
              "      <td>Misc</td>\n",
              "      <td>Zoo Games</td>\n",
              "      <td>40000.0</td>\n",
              "      <td>0.0</td>\n",
              "      <td>0.0</td>\n",
              "      <td>0.0</td>\n",
              "    </tr>\n",
              "    <tr>\n",
              "      <th>4</th>\n",
              "      <td>Ben 10 Ultimate Alien: Cosmic Destruction</td>\n",
              "      <td>PS3</td>\n",
              "      <td>2010.0</td>\n",
              "      <td>Platform</td>\n",
              "      <td>D3Publisher</td>\n",
              "      <td>120000.0</td>\n",
              "      <td>90000.0</td>\n",
              "      <td>0.0</td>\n",
              "      <td>40000.0</td>\n",
              "    </tr>\n",
              "  </tbody>\n",
              "</table>\n",
              "</div>"
            ],
            "text/plain": [
              "                                             Name  ... Other_Sales\n",
              "0                    Candace Kane's Candy Factory  ...         0.0\n",
              "1                                  The Munchables  ...     10000.0\n",
              "2  Otome wa Oanesama Boku ni Koi Shiteru Portable  ...         0.0\n",
              "3                Deal or No Deal: Special Edition  ...         0.0\n",
              "4       Ben 10 Ultimate Alien: Cosmic Destruction  ...     40000.0\n",
              "\n",
              "[5 rows x 9 columns]"
            ]
          },
          "metadata": {
            "tags": []
          },
          "execution_count": 178
        }
      ]
    },
    {
      "cell_type": "markdown",
      "metadata": {
        "id": "pM6DKMW6wdPt"
      },
      "source": [
        "1. 🌏지역에 따른 게임 장르 선호도\n",
        "\n",
        "지역에 따라서 선호하는 게임 장르가 다를까\n",
        "\n"
      ]
    },
    {
      "cell_type": "code",
      "metadata": {
        "id": "wgCJYtvwiAf6"
      },
      "source": [
        "import matplotlib.pyplot as plt\n",
        "import numpy as np"
      ],
      "execution_count": 179,
      "outputs": []
    },
    {
      "cell_type": "code",
      "metadata": {
        "id": "VEIXl_2prvl-"
      },
      "source": [
        "vgames['Genre'] = vgames['Genre'].dropna()\n",
        "vgames_1=vgames.iloc[:,2:]"
      ],
      "execution_count": 180,
      "outputs": []
    },
    {
      "cell_type": "code",
      "metadata": {
        "id": "QAyPlND7r-Br",
        "outputId": "a1d96b0c-77e6-4a95-dd33-fb2435e30266",
        "colab": {
          "base_uri": "https://localhost:8080/",
          "height": 447
        }
      },
      "source": [
        "vgames_1= vgames_1.groupby(['Genre']).mean()\n",
        "vgames_genre= vgames_1.index\n",
        "vgames_1"
      ],
      "execution_count": 181,
      "outputs": [
        {
          "output_type": "execute_result",
          "data": {
            "text/html": [
              "<div>\n",
              "<style scoped>\n",
              "    .dataframe tbody tr th:only-of-type {\n",
              "        vertical-align: middle;\n",
              "    }\n",
              "\n",
              "    .dataframe tbody tr th {\n",
              "        vertical-align: top;\n",
              "    }\n",
              "\n",
              "    .dataframe thead th {\n",
              "        text-align: right;\n",
              "    }\n",
              "</style>\n",
              "<table border=\"1\" class=\"dataframe\">\n",
              "  <thead>\n",
              "    <tr style=\"text-align: right;\">\n",
              "      <th></th>\n",
              "      <th>Year</th>\n",
              "      <th>NA_Sales</th>\n",
              "      <th>EU_Sales</th>\n",
              "      <th>JP_Sales</th>\n",
              "      <th>Other_Sales</th>\n",
              "    </tr>\n",
              "    <tr>\n",
              "      <th>Genre</th>\n",
              "      <th></th>\n",
              "      <th></th>\n",
              "      <th></th>\n",
              "      <th></th>\n",
              "      <th></th>\n",
              "    </tr>\n",
              "  </thead>\n",
              "  <tbody>\n",
              "    <tr>\n",
              "      <th>Action</th>\n",
              "      <td>2007.910241</td>\n",
              "      <td>264692.889561</td>\n",
              "      <td>157990.922844</td>\n",
              "      <td>47776.096823</td>\n",
              "      <td>56414.523449</td>\n",
              "    </tr>\n",
              "    <tr>\n",
              "      <th>Adventure</th>\n",
              "      <td>2008.129134</td>\n",
              "      <td>82546.875000</td>\n",
              "      <td>50039.062500</td>\n",
              "      <td>40585.937500</td>\n",
              "      <td>13132.812500</td>\n",
              "    </tr>\n",
              "    <tr>\n",
              "      <th>Fighting</th>\n",
              "      <td>2004.622754</td>\n",
              "      <td>263518.299882</td>\n",
              "      <td>119504.132231</td>\n",
              "      <td>103116.883117</td>\n",
              "      <td>43258.559622</td>\n",
              "    </tr>\n",
              "    <tr>\n",
              "      <th>Misc</th>\n",
              "      <td>2007.259238</td>\n",
              "      <td>235322.952710</td>\n",
              "      <td>122468.281430</td>\n",
              "      <td>60709.342561</td>\n",
              "      <td>42698.961938</td>\n",
              "    </tr>\n",
              "    <tr>\n",
              "      <th>Platform</th>\n",
              "      <td>2003.813501</td>\n",
              "      <td>505022.624434</td>\n",
              "      <td>228065.610860</td>\n",
              "      <td>147794.117647</td>\n",
              "      <td>58291.855204</td>\n",
              "    </tr>\n",
              "    <tr>\n",
              "      <th>Puzzle</th>\n",
              "      <td>2005.243386</td>\n",
              "      <td>213408.304498</td>\n",
              "      <td>87768.166090</td>\n",
              "      <td>98391.003460</td>\n",
              "      <td>21660.899654</td>\n",
              "    </tr>\n",
              "    <tr>\n",
              "      <th>Racing</th>\n",
              "      <td>2004.846721</td>\n",
              "      <td>287361.222848</td>\n",
              "      <td>190748.189863</td>\n",
              "      <td>45374.094932</td>\n",
              "      <td>62027.353178</td>\n",
              "    </tr>\n",
              "    <tr>\n",
              "      <th>Role-Playing</th>\n",
              "      <td>2007.062074</td>\n",
              "      <td>215468.644639</td>\n",
              "      <td>123789.615644</td>\n",
              "      <td>232602.832097</td>\n",
              "      <td>38408.631153</td>\n",
              "    </tr>\n",
              "    <tr>\n",
              "      <th>Shooter</th>\n",
              "      <td>2005.921094</td>\n",
              "      <td>444892.966361</td>\n",
              "      <td>239334.862385</td>\n",
              "      <td>29266.055046</td>\n",
              "      <td>78478.593272</td>\n",
              "    </tr>\n",
              "    <tr>\n",
              "      <th>Simulation</th>\n",
              "      <td>2006.561837</td>\n",
              "      <td>211514.450867</td>\n",
              "      <td>131040.462428</td>\n",
              "      <td>73641.618497</td>\n",
              "      <td>36393.063584</td>\n",
              "    </tr>\n",
              "    <tr>\n",
              "      <th>Sports</th>\n",
              "      <td>2005.488908</td>\n",
              "      <td>290696.283639</td>\n",
              "      <td>160820.162324</td>\n",
              "      <td>57825.715506</td>\n",
              "      <td>57526.697992</td>\n",
              "    </tr>\n",
              "    <tr>\n",
              "      <th>Strategy</th>\n",
              "      <td>2005.597015</td>\n",
              "      <td>101029.411765</td>\n",
              "      <td>66647.058824</td>\n",
              "      <td>72735.294118</td>\n",
              "      <td>16705.882353</td>\n",
              "    </tr>\n",
              "  </tbody>\n",
              "</table>\n",
              "</div>"
            ],
            "text/plain": [
              "                     Year       NA_Sales  ...       JP_Sales   Other_Sales\n",
              "Genre                                     ...                             \n",
              "Action        2007.910241  264692.889561  ...   47776.096823  56414.523449\n",
              "Adventure     2008.129134   82546.875000  ...   40585.937500  13132.812500\n",
              "Fighting      2004.622754  263518.299882  ...  103116.883117  43258.559622\n",
              "Misc          2007.259238  235322.952710  ...   60709.342561  42698.961938\n",
              "Platform      2003.813501  505022.624434  ...  147794.117647  58291.855204\n",
              "Puzzle        2005.243386  213408.304498  ...   98391.003460  21660.899654\n",
              "Racing        2004.846721  287361.222848  ...   45374.094932  62027.353178\n",
              "Role-Playing  2007.062074  215468.644639  ...  232602.832097  38408.631153\n",
              "Shooter       2005.921094  444892.966361  ...   29266.055046  78478.593272\n",
              "Simulation    2006.561837  211514.450867  ...   73641.618497  36393.063584\n",
              "Sports        2005.488908  290696.283639  ...   57825.715506  57526.697992\n",
              "Strategy      2005.597015  101029.411765  ...   72735.294118  16705.882353\n",
              "\n",
              "[12 rows x 5 columns]"
            ]
          },
          "metadata": {
            "tags": []
          },
          "execution_count": 181
        }
      ]
    },
    {
      "cell_type": "code",
      "metadata": {
        "id": "I1BcYGnHtBCQ"
      },
      "source": [
        "\n",
        "#plt.bar(vgames_genre, values)\n",
        "#plt.xticks(vgames_genre, years)"
      ],
      "execution_count": 182,
      "outputs": []
    }
  ]
}