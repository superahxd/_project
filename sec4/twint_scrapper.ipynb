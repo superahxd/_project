{
  "nbformat": 4,
  "nbformat_minor": 0,
  "metadata": {
    "colab": {
      "name": "twint_scrapper.ipynb",
      "provenance": [],
      "authorship_tag": "ABX9TyOc+ZJ4nroruLkeEHPO8gfn",
      "include_colab_link": true
    },
    "kernelspec": {
      "name": "python3",
      "display_name": "Python 3"
    },
    "language_info": {
      "name": "python"
    }
  },
  "cells": [
    {
      "cell_type": "markdown",
      "metadata": {
        "id": "view-in-github",
        "colab_type": "text"
      },
      "source": [
        "<a href=\"https://colab.research.google.com/github/superahxd/_project/blob/main/sec4/twint_scrapper.ipynb\" target=\"_parent\"><img src=\"https://colab.research.google.com/assets/colab-badge.svg\" alt=\"Open In Colab\"/></a>"
      ]
    },
    {
      "cell_type": "code",
      "metadata": {
        "id": "SQPZnNATRD6K",
        "colab": {
          "base_uri": "https://localhost:8080/"
        },
        "outputId": "15205046-c68b-4f3d-f042-24e240011cc9"
      },
      "source": [
        "!pip3 install twint\n",
        "!pip install nest_asyncio\n",
        "!pip3 install --user --upgrade git+https://github.com/twintproject/twint.git@origin/master#egg=twint"
      ],
      "execution_count": null,
      "outputs": [
        {
          "output_type": "stream",
          "name": "stdout",
          "text": [
            "Requirement already satisfied: twint in /root/.local/lib/python3.7/site-packages (2.1.21)\n",
            "Requirement already satisfied: fake-useragent in /usr/local/lib/python3.7/dist-packages (from twint) (0.1.11)\n",
            "Requirement already satisfied: schedule in /usr/local/lib/python3.7/dist-packages (from twint) (1.1.0)\n",
            "Requirement already satisfied: beautifulsoup4 in /usr/local/lib/python3.7/dist-packages (from twint) (4.6.3)\n",
            "Requirement already satisfied: geopy in /usr/local/lib/python3.7/dist-packages (from twint) (1.17.0)\n",
            "Requirement already satisfied: cchardet in /usr/local/lib/python3.7/dist-packages (from twint) (2.1.7)\n",
            "Requirement already satisfied: pandas in /usr/local/lib/python3.7/dist-packages (from twint) (1.1.5)\n",
            "Requirement already satisfied: elasticsearch in /usr/local/lib/python3.7/dist-packages (from twint) (7.14.1)\n",
            "Requirement already satisfied: pysocks in /usr/local/lib/python3.7/dist-packages (from twint) (1.7.1)\n",
            "Requirement already satisfied: aiohttp-socks in /usr/local/lib/python3.7/dist-packages (from twint) (0.6.0)\n",
            "Requirement already satisfied: aiohttp in /usr/local/lib/python3.7/dist-packages (from twint) (3.7.4.post0)\n",
            "Requirement already satisfied: googletransx in /usr/local/lib/python3.7/dist-packages (from twint) (2.4.2)\n",
            "Requirement already satisfied: aiodns in /usr/local/lib/python3.7/dist-packages (from twint) (3.0.0)\n",
            "Requirement already satisfied: dataclasses in /root/.local/lib/python3.7/site-packages (from twint) (0.6)\n",
            "Requirement already satisfied: pycares>=4.0.0 in /usr/local/lib/python3.7/dist-packages (from aiodns->twint) (4.0.0)\n",
            "Requirement already satisfied: cffi>=1.5.0 in /usr/local/lib/python3.7/dist-packages (from pycares>=4.0.0->aiodns->twint) (1.14.6)\n",
            "Requirement already satisfied: pycparser in /usr/local/lib/python3.7/dist-packages (from cffi>=1.5.0->pycares>=4.0.0->aiodns->twint) (2.20)\n",
            "Requirement already satisfied: attrs>=17.3.0 in /usr/local/lib/python3.7/dist-packages (from aiohttp->twint) (21.2.0)\n",
            "Requirement already satisfied: yarl<2.0,>=1.0 in /usr/local/lib/python3.7/dist-packages (from aiohttp->twint) (1.6.3)\n",
            "Requirement already satisfied: async-timeout<4.0,>=3.0 in /usr/local/lib/python3.7/dist-packages (from aiohttp->twint) (3.0.1)\n",
            "Requirement already satisfied: chardet<5.0,>=2.0 in /usr/local/lib/python3.7/dist-packages (from aiohttp->twint) (3.0.4)\n",
            "Requirement already satisfied: multidict<7.0,>=4.5 in /usr/local/lib/python3.7/dist-packages (from aiohttp->twint) (5.1.0)\n",
            "Requirement already satisfied: typing-extensions>=3.6.5 in /usr/local/lib/python3.7/dist-packages (from aiohttp->twint) (3.7.4.3)\n",
            "Requirement already satisfied: idna>=2.0 in /usr/local/lib/python3.7/dist-packages (from yarl<2.0,>=1.0->aiohttp->twint) (2.10)\n",
            "Requirement already satisfied: python-socks[asyncio]>=1.2.2 in /usr/local/lib/python3.7/dist-packages (from aiohttp-socks->twint) (1.2.4)\n",
            "Requirement already satisfied: certifi in /usr/local/lib/python3.7/dist-packages (from elasticsearch->twint) (2021.5.30)\n",
            "Requirement already satisfied: urllib3<2,>=1.21.1 in /usr/local/lib/python3.7/dist-packages (from elasticsearch->twint) (1.24.3)\n",
            "Requirement already satisfied: geographiclib<2,>=1.49 in /usr/local/lib/python3.7/dist-packages (from geopy->twint) (1.52)\n",
            "Requirement already satisfied: requests in /usr/local/lib/python3.7/dist-packages (from googletransx->twint) (2.23.0)\n",
            "Requirement already satisfied: python-dateutil>=2.7.3 in /usr/local/lib/python3.7/dist-packages (from pandas->twint) (2.8.2)\n",
            "Requirement already satisfied: numpy>=1.15.4 in /usr/local/lib/python3.7/dist-packages (from pandas->twint) (1.19.5)\n",
            "Requirement already satisfied: pytz>=2017.2 in /usr/local/lib/python3.7/dist-packages (from pandas->twint) (2018.9)\n",
            "Requirement already satisfied: six>=1.5 in /usr/local/lib/python3.7/dist-packages (from python-dateutil>=2.7.3->pandas->twint) (1.15.0)\n",
            "Requirement already satisfied: nest_asyncio in /usr/local/lib/python3.7/dist-packages (1.5.1)\n",
            "Collecting twint\n",
            "  Cloning https://github.com/twintproject/twint.git (to revision origin/master) to /tmp/pip-install-3zptbwh3/twint_7e04a8ecf6cd4e8a9addce562fc756d2\n",
            "  Running command git clone -q https://github.com/twintproject/twint.git /tmp/pip-install-3zptbwh3/twint_7e04a8ecf6cd4e8a9addce562fc756d2\n",
            "\u001b[33m  WARNING: Did not find branch or tag 'origin/master', assuming revision or ref.\u001b[0m\n",
            "  Running command git checkout -q origin/master\n",
            "Requirement already satisfied: aiohttp in /usr/local/lib/python3.7/dist-packages (from twint) (3.7.4.post0)\n",
            "Requirement already satisfied: aiodns in /usr/local/lib/python3.7/dist-packages (from twint) (3.0.0)\n",
            "Requirement already satisfied: beautifulsoup4 in /usr/local/lib/python3.7/dist-packages (from twint) (4.6.3)\n",
            "Requirement already satisfied: cchardet in /usr/local/lib/python3.7/dist-packages (from twint) (2.1.7)\n",
            "Requirement already satisfied: dataclasses in /root/.local/lib/python3.7/site-packages (from twint) (0.6)\n",
            "Requirement already satisfied: elasticsearch in /usr/local/lib/python3.7/dist-packages (from twint) (7.14.1)\n",
            "Requirement already satisfied: pysocks in /usr/local/lib/python3.7/dist-packages (from twint) (1.7.1)\n",
            "Requirement already satisfied: pandas in /usr/local/lib/python3.7/dist-packages (from twint) (1.1.5)\n",
            "Requirement already satisfied: aiohttp_socks in /usr/local/lib/python3.7/dist-packages (from twint) (0.6.0)\n",
            "Requirement already satisfied: schedule in /usr/local/lib/python3.7/dist-packages (from twint) (1.1.0)\n",
            "Requirement already satisfied: geopy in /usr/local/lib/python3.7/dist-packages (from twint) (1.17.0)\n",
            "Requirement already satisfied: fake-useragent in /usr/local/lib/python3.7/dist-packages (from twint) (0.1.11)\n",
            "Requirement already satisfied: googletransx in /usr/local/lib/python3.7/dist-packages (from twint) (2.4.2)\n",
            "Requirement already satisfied: pycares>=4.0.0 in /usr/local/lib/python3.7/dist-packages (from aiodns->twint) (4.0.0)\n",
            "Requirement already satisfied: cffi>=1.5.0 in /usr/local/lib/python3.7/dist-packages (from pycares>=4.0.0->aiodns->twint) (1.14.6)\n",
            "Requirement already satisfied: pycparser in /usr/local/lib/python3.7/dist-packages (from cffi>=1.5.0->pycares>=4.0.0->aiodns->twint) (2.20)\n",
            "Requirement already satisfied: multidict<7.0,>=4.5 in /usr/local/lib/python3.7/dist-packages (from aiohttp->twint) (5.1.0)\n",
            "Requirement already satisfied: chardet<5.0,>=2.0 in /usr/local/lib/python3.7/dist-packages (from aiohttp->twint) (3.0.4)\n",
            "Requirement already satisfied: typing-extensions>=3.6.5 in /usr/local/lib/python3.7/dist-packages (from aiohttp->twint) (3.7.4.3)\n",
            "Requirement already satisfied: async-timeout<4.0,>=3.0 in /usr/local/lib/python3.7/dist-packages (from aiohttp->twint) (3.0.1)\n",
            "Requirement already satisfied: yarl<2.0,>=1.0 in /usr/local/lib/python3.7/dist-packages (from aiohttp->twint) (1.6.3)\n",
            "Requirement already satisfied: attrs>=17.3.0 in /usr/local/lib/python3.7/dist-packages (from aiohttp->twint) (21.2.0)\n",
            "Requirement already satisfied: idna>=2.0 in /usr/local/lib/python3.7/dist-packages (from yarl<2.0,>=1.0->aiohttp->twint) (2.10)\n",
            "Requirement already satisfied: python-socks[asyncio]>=1.2.2 in /usr/local/lib/python3.7/dist-packages (from aiohttp_socks->twint) (1.2.4)\n",
            "Requirement already satisfied: urllib3<2,>=1.21.1 in /usr/local/lib/python3.7/dist-packages (from elasticsearch->twint) (1.24.3)\n",
            "Requirement already satisfied: certifi in /usr/local/lib/python3.7/dist-packages (from elasticsearch->twint) (2021.5.30)\n",
            "Requirement already satisfied: geographiclib<2,>=1.49 in /usr/local/lib/python3.7/dist-packages (from geopy->twint) (1.52)\n",
            "Requirement already satisfied: requests in /usr/local/lib/python3.7/dist-packages (from googletransx->twint) (2.23.0)\n",
            "Requirement already satisfied: numpy>=1.15.4 in /usr/local/lib/python3.7/dist-packages (from pandas->twint) (1.19.5)\n",
            "Requirement already satisfied: python-dateutil>=2.7.3 in /usr/local/lib/python3.7/dist-packages (from pandas->twint) (2.8.2)\n",
            "Requirement already satisfied: pytz>=2017.2 in /usr/local/lib/python3.7/dist-packages (from pandas->twint) (2018.9)\n",
            "Requirement already satisfied: six>=1.5 in /usr/local/lib/python3.7/dist-packages (from python-dateutil>=2.7.3->pandas->twint) (1.15.0)\n"
          ]
        }
      ]
    },
    {
      "cell_type": "code",
      "metadata": {
        "id": "YWsJDWPbLBSB"
      },
      "source": [
        "import nest_asyncio\n",
        "nest_asyncio.apply()"
      ],
      "execution_count": null,
      "outputs": []
    },
    {
      "cell_type": "code",
      "metadata": {
        "id": "V9_mg-EjRicI",
        "colab": {
          "base_uri": "https://localhost:8080/"
        },
        "outputId": "3855513a-7f8a-4d2e-ff62-8cd86e560f95"
      },
      "source": [
        "import twint\n",
        "\n",
        "c = twint.Config()\n",
        "\n",
        "c.Limit = 200000\n",
        "c.Search = 'DokeV'\n",
        "c.Since = '2021-08-20'\n",
        "c.Until = '2021-09-01'\n",
        "c.Output = 'practice3.json'\n",
        "c.Popular_tweets = True\n",
        "c.Store_json = True\n",
        "c.Hide_output = True\n",
        "\n",
        "twint.run.Search(c)"
      ],
      "execution_count": null,
      "outputs": [
        {
          "output_type": "stream",
          "name": "stdout",
          "text": [
            "[!] No more data! Scraping will stop now.\n",
            "found 0 deleted tweets in this search.\n"
          ]
        }
      ]
    },
    {
      "cell_type": "code",
      "metadata": {
        "colab": {
          "base_uri": "https://localhost:8080/",
          "height": 588
        },
        "id": "rsk4qUTbTQMZ",
        "outputId": "6f55ed90-2cba-47a8-9b66-e84581f07818"
      },
      "source": [
        "import pandas as pd\n",
        "\n",
        "df = pd.read_json('practice3.json', lines=True)\n",
        "df[[\"created_at\", \"id\", \"tweet\", \"retweets_count\"]]"
      ],
      "execution_count": null,
      "outputs": [
        {
          "output_type": "execute_result",
          "data": {
            "text/html": [
              "<div>\n",
              "<style scoped>\n",
              "    .dataframe tbody tr th:only-of-type {\n",
              "        vertical-align: middle;\n",
              "    }\n",
              "\n",
              "    .dataframe tbody tr th {\n",
              "        vertical-align: top;\n",
              "    }\n",
              "\n",
              "    .dataframe thead th {\n",
              "        text-align: right;\n",
              "    }\n",
              "</style>\n",
              "<table border=\"1\" class=\"dataframe\">\n",
              "  <thead>\n",
              "    <tr style=\"text-align: right;\">\n",
              "      <th></th>\n",
              "      <th>created_at</th>\n",
              "      <th>id</th>\n",
              "      <th>tweet</th>\n",
              "      <th>retweets_count</th>\n",
              "    </tr>\n",
              "  </thead>\n",
              "  <tbody>\n",
              "    <tr>\n",
              "      <th>0</th>\n",
              "      <td>2021-08-31 23:42:33+00:00</td>\n",
              "      <td>1432851332763897867</td>\n",
              "      <td>@DokeVGame Are the platform releases announced?</td>\n",
              "      <td>0</td>\n",
              "    </tr>\n",
              "    <tr>\n",
              "      <th>1</th>\n",
              "      <td>2021-08-31 23:35:38+00:00</td>\n",
              "      <td>1432849590215065600</td>\n",
              "      <td>한국경관을 담은 메타버스 게임 도깨비(Dokev) 공개···가상경관 설계시 중요한 ...</td>\n",
              "      <td>0</td>\n",
              "    </tr>\n",
              "    <tr>\n",
              "      <th>2</th>\n",
              "      <td>2021-08-31 23:28:22+00:00</td>\n",
              "      <td>1432847762282921984</td>\n",
              "      <td>@DokeVGame How you ganna show me this game and...</td>\n",
              "      <td>0</td>\n",
              "    </tr>\n",
              "    <tr>\n",
              "      <th>3</th>\n",
              "      <td>2021-08-31 23:02:23+00:00</td>\n",
              "      <td>1432841223308464133</td>\n",
              "      <td>All hail DokeV #DokeV #Pokémon #TemTem #Ninten...</td>\n",
              "      <td>1</td>\n",
              "    </tr>\n",
              "    <tr>\n",
              "      <th>4</th>\n",
              "      <td>2021-08-31 22:59:01+00:00</td>\n",
              "      <td>1432840379150200837</td>\n",
              "      <td>あ、配信始めたらの話なんだけどリリースもうちょっと先だけど、DokeV（ドケビ）って言うmm...</td>\n",
              "      <td>0</td>\n",
              "    </tr>\n",
              "    <tr>\n",
              "      <th>...</th>\n",
              "      <td>...</td>\n",
              "      <td>...</td>\n",
              "      <td>...</td>\n",
              "      <td>...</td>\n",
              "    </tr>\n",
              "    <tr>\n",
              "      <th>6203</th>\n",
              "      <td>2021-08-26 02:23:14+00:00</td>\n",
              "      <td>1430717443521929220</td>\n",
              "      <td>DokeV recebe trailer em tempo real onde muita ...</td>\n",
              "      <td>0</td>\n",
              "    </tr>\n",
              "    <tr>\n",
              "      <th>6204</th>\n",
              "      <td>2021-08-26 02:23:08+00:00</td>\n",
              "      <td>1430717418175811586</td>\n",
              "      <td>@DokeVGame So cute❤ I love this, I can't wait😍😍</td>\n",
              "      <td>0</td>\n",
              "    </tr>\n",
              "    <tr>\n",
              "      <th>6205</th>\n",
              "      <td>2021-08-26 02:22:22+00:00</td>\n",
              "      <td>1430717225288208391</td>\n",
              "      <td>I guess I need to spread the word too- DokeV i...</td>\n",
              "      <td>0</td>\n",
              "    </tr>\n",
              "    <tr>\n",
              "      <th>6206</th>\n",
              "      <td>2021-08-26 02:21:57+00:00</td>\n",
              "      <td>1430717121399455746</td>\n",
              "      <td>@geoffkeighley DokeV</td>\n",
              "      <td>0</td>\n",
              "    </tr>\n",
              "    <tr>\n",
              "      <th>6207</th>\n",
              "      <td>2021-08-26 02:20:47+00:00</td>\n",
              "      <td>1430716824568483842</td>\n",
              "      <td>@DokeVGame Should have just called it dokemon ...</td>\n",
              "      <td>0</td>\n",
              "    </tr>\n",
              "  </tbody>\n",
              "</table>\n",
              "<p>6208 rows × 4 columns</p>\n",
              "</div>"
            ],
            "text/plain": [
              "                    created_at  ...  retweets_count\n",
              "0    2021-08-31 23:42:33+00:00  ...               0\n",
              "1    2021-08-31 23:35:38+00:00  ...               0\n",
              "2    2021-08-31 23:28:22+00:00  ...               0\n",
              "3    2021-08-31 23:02:23+00:00  ...               1\n",
              "4    2021-08-31 22:59:01+00:00  ...               0\n",
              "...                        ...  ...             ...\n",
              "6203 2021-08-26 02:23:14+00:00  ...               0\n",
              "6204 2021-08-26 02:23:08+00:00  ...               0\n",
              "6205 2021-08-26 02:22:22+00:00  ...               0\n",
              "6206 2021-08-26 02:21:57+00:00  ...               0\n",
              "6207 2021-08-26 02:20:47+00:00  ...               0\n",
              "\n",
              "[6208 rows x 4 columns]"
            ]
          },
          "metadata": {},
          "execution_count": 4
        }
      ]
    },
    {
      "cell_type": "code",
      "metadata": {
        "id": "O-xA_bcWr14j"
      },
      "source": [
        "# utilities\n",
        "import re\n",
        "import pickle\n",
        "import numpy as np\n",
        "import pandas as pd\n",
        "\n",
        "# plotting\n",
        "import seaborn as sns\n",
        "from wordcloud import WordCloud\n",
        "import matplotlib.pyplot as plt\n",
        "\n",
        "# nltk\n",
        "from nltk.stem import WordNetLemmatizer\n",
        "\n",
        "# sklearn\n",
        "from sklearn.svm import LinearSVC\n",
        "from sklearn.naive_bayes import BernoulliNB\n",
        "from sklearn.linear_model import LogisticRegression\n",
        "\n",
        "from sklearn.model_selection import train_test_split\n",
        "from sklearn.feature_extraction.text import TfidfVectorizer\n",
        "from sklearn.metrics import confusion_matrix, classification_report"
      ],
      "execution_count": null,
      "outputs": []
    },
    {
      "cell_type": "code",
      "metadata": {
        "id": "sDJPadjFbfja"
      },
      "source": [
        "dataset = df[['tweet']]"
      ],
      "execution_count": null,
      "outputs": []
    },
    {
      "cell_type": "code",
      "metadata": {
        "id": "zVskD_DSrcu9"
      },
      "source": [
        "text = list(dataset['tweet'])"
      ],
      "execution_count": null,
      "outputs": []
    },
    {
      "cell_type": "code",
      "metadata": {
        "colab": {
          "base_uri": "https://localhost:8080/"
        },
        "id": "Qq6D2YWyrkm9",
        "outputId": "02ac5360-de2f-45ba-c303-2a33ee5f78e9"
      },
      "source": [
        "from nltk.corpus import stopwords\n",
        "from nltk.stem.snowball import SnowballStemmer\n",
        "import nltk\n",
        "\n",
        "nltk.download('stopwords')\n",
        "\n",
        "stopwordlist = stopwords.words('english')\n",
        "stemmer = SnowballStemmer('english')\n",
        "emojis = {':)': 'smile', ':-)': 'smile', ';d': 'wink', ':-E': 'vampire', ':(': 'sad', \n",
        "          ':-(': 'sad', ':-<': 'sad', ':P': 'raspberry', ':O': 'surprised',\n",
        "          ':-@': 'shocked', ':@': 'shocked',':-$': 'confused', ':\\\\': 'annoyed', \n",
        "          ':#': 'mute', ':X': 'mute', ':^)': 'smile', ':-&': 'confused', '$_$': 'greedy',\n",
        "          '@@': 'eyeroll', ':-!': 'confused', ':-D': 'smile', ':-0': 'yell', 'O.o': 'confused',\n",
        "          '<(-_-)>': 'robot', 'd[-_-]b': 'dj', \":'-)\": 'sadsmile', ';)': 'wink', \n",
        "          ';-)': 'wink', 'O:-)': 'angel','O*-)': 'angel','(:-D': 'gossip', '=^.^=': 'cat'}"
      ],
      "execution_count": null,
      "outputs": [
        {
          "output_type": "stream",
          "name": "stdout",
          "text": [
            "[nltk_data] Downloading package stopwords to /root/nltk_data...\n",
            "[nltk_data]   Unzipping corpora/stopwords.zip.\n"
          ]
        }
      ]
    },
    {
      "cell_type": "code",
      "metadata": {
        "id": "QMsmllE-ro-g"
      },
      "source": [
        "def preprocess(textdata):\n",
        "    processedText = []\n",
        "    \n",
        "    # Create Lemmatizer and Stemmer. 표제어 추출하기\n",
        "    wordLemm = WordNetLemmatizer()\n",
        "    \n",
        "    # Defining regex patterns. 정규식 패턴\n",
        "    urlPattern        = r\"((http://)[^ ]*|(https://)[^ ]*|( www\\.)[^ ]*)\" \n",
        "    userPattern       = '@[^\\s]+' #@으로 시작하는 유저 아이디 제거\n",
        "    alphaPattern      = \"[^a-zA-Z]\" #영어 대소문자 외 제거\n",
        "    sequencePattern   = r\"(.)\\1\\1+\" #중복글자 제거\n",
        "    seqReplacePattern = r\"\\1\\1\" #중복글자제거\n",
        "    \n",
        "    for tweet in textdata:\n",
        "        tweet = tweet.lower() #소문자화\n",
        "        #http, www, https로 시작하는 url 제거\n",
        "        tweet = re.sub(urlPattern,' URL',tweet)\n",
        "        # 이모지 대체\n",
        "        for emoji in emojis.keys():\n",
        "            tweet = tweet.replace(emoji, \"EMOJI\" + emojis[emoji])        \n",
        "        # 유저 아이디 대체\n",
        "        tweet = re.sub(userPattern,' USER', tweet)        \n",
        "        # 알파벳 아닌 것 모두 대체\n",
        "        tweet = re.sub(alphaPattern, \" \", tweet)\n",
        "        # 3개 이상의 연속된 문자를 2자로 대체\n",
        "        tweet = re.sub(sequencePattern, seqReplacePattern, tweet)\n",
        "\n",
        "        tweetwords = ''\n",
        "        for word in tweet.split():\n",
        "            # stopword에 들어있는지 확인\n",
        "            # stopword에 없으면:\n",
        "            if len(word)>1:\n",
        "                # Lemmatizing 실행\n",
        "                word = wordLemm.lemmatize(word)\n",
        "                tweetwords += (word+' ')\n",
        "            \n",
        "        processedText.append(tweetwords)\n",
        "        \n",
        "    return processedText"
      ],
      "execution_count": null,
      "outputs": []
    },
    {
      "cell_type": "code",
      "metadata": {
        "colab": {
          "base_uri": "https://localhost:8080/"
        },
        "id": "NI0OcmYJrqj0",
        "outputId": "95bf59c5-4da1-4f8a-b188-4d3f04233d5b"
      },
      "source": [
        "import time\n",
        "\n",
        "nltk.download('wordnet')\n",
        "\n",
        "t = time.time()\n",
        "processedtext = preprocess(text)\n",
        "print(f'Text Preprocessing complete.')\n",
        "print(f'Time Taken: {round(time.time()-t)} seconds')"
      ],
      "execution_count": null,
      "outputs": [
        {
          "output_type": "stream",
          "name": "stdout",
          "text": [
            "[nltk_data] Downloading package wordnet to /root/nltk_data...\n",
            "[nltk_data]   Package wordnet is already up-to-date!\n",
            "Text Preprocessing complete.\n",
            "Time Taken: 2 seconds\n"
          ]
        }
      ]
    },
    {
      "cell_type": "code",
      "metadata": {
        "id": "_SrTgWU-r41P"
      },
      "source": [
        "df = pd.DataFrame(processedtext)"
      ],
      "execution_count": null,
      "outputs": []
    },
    {
      "cell_type": "code",
      "metadata": {
        "id": "gYPxAtu-r9MM"
      },
      "source": [
        "df.to_csv('/content/last.csv')"
      ],
      "execution_count": null,
      "outputs": []
    }
  ]
}