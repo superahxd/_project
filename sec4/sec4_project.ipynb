{
  "nbformat": 4,
  "nbformat_minor": 0,
  "metadata": {
    "colab": {
      "name": "sec4_project.ipynb",
      "provenance": [],
      "authorship_tag": "ABX9TyM8kHi6A5NaVD7tpVKYy4Y5",
      "include_colab_link": true
    },
    "kernelspec": {
      "display_name": "Python 3",
      "name": "python3"
    },
    "language_info": {
      "name": "python"
    },
    "accelerator": "GPU"
  },
  "cells": [
    {
      "cell_type": "markdown",
      "metadata": {
        "id": "view-in-github",
        "colab_type": "text"
      },
      "source": [
        "<a href=\"https://colab.research.google.com/github/superahxd/_project/blob/main/sec4/sec4_project.ipynb\" target=\"_parent\"><img src=\"https://colab.research.google.com/assets/colab-badge.svg\" alt=\"Open In Colab\"/></a>"
      ]
    },
    {
      "cell_type": "markdown",
      "metadata": {
        "id": "Z1aiQsYpbdEb"
      },
      "source": [
        "프로젝트\n",
        "\n",
        "- kaggle 트위터 데이터셋으로 lstm 학습\n",
        "- DokeV 감정분석해보기"
      ]
    },
    {
      "cell_type": "markdown",
      "metadata": {
        "id": "7nCy4KBqdnDb"
      },
      "source": [
        "column 설명\n",
        "```\n",
        "target: the polarity of the tweet (0 = negative, 2 = neutral, 4 = positive)\n",
        "ids: The id of the tweet ( 2087)\n",
        "date: the date of the tweet (Sat May 16 23:58:44 UTC 2009)\n",
        "flag: The query (lyx). If there is no query, then this value is NO_QUERY.\n",
        "user: the user that tweeted (robotickilldozr)\n",
        "text: the text of the tweet (Lyx is cool)\n",
        "```"
      ]
    },
    {
      "cell_type": "code",
      "metadata": {
        "colab": {
          "base_uri": "https://localhost:8080/"
        },
        "id": "sfWIUk4RxSV_",
        "outputId": "74cfcc15-788b-40a2-90c7-bde825f2dc07"
      },
      "source": [
        "!pip install keras --upgrade\n",
        "!pip install pandas --upgrade\n",
        "!pip install nltk"
      ],
      "execution_count": 2,
      "outputs": [
        {
          "output_type": "stream",
          "name": "stdout",
          "text": [
            "Requirement already satisfied: keras in /usr/local/lib/python3.7/dist-packages (2.6.0)\n",
            "Requirement already satisfied: pandas in /usr/local/lib/python3.7/dist-packages (1.3.2)\n",
            "Requirement already satisfied: pytz>=2017.3 in /usr/local/lib/python3.7/dist-packages (from pandas) (2018.9)\n",
            "Requirement already satisfied: python-dateutil>=2.7.3 in /usr/local/lib/python3.7/dist-packages (from pandas) (2.8.2)\n",
            "Requirement already satisfied: numpy>=1.17.3 in /usr/local/lib/python3.7/dist-packages (from pandas) (1.19.5)\n",
            "Requirement already satisfied: six>=1.5 in /usr/local/lib/python3.7/dist-packages (from python-dateutil>=2.7.3->pandas) (1.15.0)\n",
            "Requirement already satisfied: nltk in /usr/local/lib/python3.7/dist-packages (3.2.5)\n",
            "Requirement already satisfied: six in /usr/local/lib/python3.7/dist-packages (from nltk) (1.15.0)\n"
          ]
        }
      ]
    },
    {
      "cell_type": "code",
      "metadata": {
        "colab": {
          "base_uri": "https://localhost:8080/"
        },
        "id": "So-5xkxWcN96",
        "outputId": "868978fc-d94b-46ab-962f-da389edab9e0"
      },
      "source": [
        "# kaggle tweet set 불러오기\n",
        "\n",
        "!pip install kaggle\n",
        "#from google.colab import files\n",
        "#files.upload()"
      ],
      "execution_count": 15,
      "outputs": [
        {
          "output_type": "stream",
          "name": "stdout",
          "text": [
            "Requirement already satisfied: kaggle in /usr/local/lib/python3.7/dist-packages (1.5.12)\n",
            "Requirement already satisfied: tqdm in /usr/local/lib/python3.7/dist-packages (from kaggle) (4.62.0)\n",
            "Requirement already satisfied: certifi in /usr/local/lib/python3.7/dist-packages (from kaggle) (2021.5.30)\n",
            "Requirement already satisfied: requests in /usr/local/lib/python3.7/dist-packages (from kaggle) (2.23.0)\n",
            "Requirement already satisfied: python-slugify in /usr/local/lib/python3.7/dist-packages (from kaggle) (5.0.2)\n",
            "Requirement already satisfied: python-dateutil in /usr/local/lib/python3.7/dist-packages (from kaggle) (2.8.2)\n",
            "Requirement already satisfied: urllib3 in /usr/local/lib/python3.7/dist-packages (from kaggle) (1.24.3)\n",
            "Requirement already satisfied: six>=1.10 in /usr/local/lib/python3.7/dist-packages (from kaggle) (1.15.0)\n",
            "Requirement already satisfied: text-unidecode>=1.3 in /usr/local/lib/python3.7/dist-packages (from python-slugify->kaggle) (1.3)\n",
            "Requirement already satisfied: idna<3,>=2.5 in /usr/local/lib/python3.7/dist-packages (from requests->kaggle) (2.10)\n",
            "Requirement already satisfied: chardet<4,>=3.0.2 in /usr/local/lib/python3.7/dist-packages (from requests->kaggle) (3.0.4)\n"
          ]
        }
      ]
    },
    {
      "cell_type": "code",
      "metadata": {
        "id": "4mfQq_MDcpl0"
      },
      "source": [
        "!mkdir -p ~/.kaggle\n",
        "!cp kaggle.json ~/.kaggle/\n",
        "# Permission Warning이 발생하지 않도록 해줍니다.\n",
        "!chmod 600 ~/.kaggle/kaggle.json"
      ],
      "execution_count": 16,
      "outputs": []
    },
    {
      "cell_type": "code",
      "metadata": {
        "colab": {
          "base_uri": "https://localhost:8080/"
        },
        "id": "FnqyRegkcfdI",
        "outputId": "09b660a3-315f-484f-c500-7191dee64e5f"
      },
      "source": [
        "! kaggle datasets download -d kazanova/sentiment140"
      ],
      "execution_count": 17,
      "outputs": [
        {
          "output_type": "stream",
          "name": "stdout",
          "text": [
            "sentiment140.zip: Skipping, found more recently modified local copy (use --force to force download)\n"
          ]
        }
      ]
    },
    {
      "cell_type": "code",
      "metadata": {
        "id": "GjcfS4evc3ou",
        "colab": {
          "base_uri": "https://localhost:8080/"
        },
        "outputId": "4555e3d6-110b-45ef-d013-2521c2c03b2c"
      },
      "source": [
        "! unzip -qq \"/content/sentiment140.zip\""
      ],
      "execution_count": 18,
      "outputs": [
        {
          "output_type": "stream",
          "name": "stdout",
          "text": [
            "replace training.1600000.processed.noemoticon.csv? [y]es, [n]o, [A]ll, [N]one, [r]ename: n\n"
          ]
        }
      ]
    },
    {
      "cell_type": "code",
      "metadata": {
        "id": "c5u_zEr1bckg"
      },
      "source": [
        "# utilities\n",
        "import re\n",
        "import pickle\n",
        "import numpy as np\n",
        "import pandas as pd\n",
        "\n",
        "# plotting\n",
        "import seaborn as sns\n",
        "from wordcloud import WordCloud\n",
        "import matplotlib.pyplot as plt\n",
        "\n",
        "# nltk\n",
        "from nltk.stem import WordNetLemmatizer\n",
        "\n",
        "# sklearn\n",
        "from sklearn.svm import LinearSVC\n",
        "from sklearn.naive_bayes import BernoulliNB\n",
        "from sklearn.linear_model import LogisticRegression\n",
        "\n",
        "from sklearn.model_selection import train_test_split\n",
        "from sklearn.feature_extraction.text import TfidfVectorizer\n",
        "from sklearn.metrics import confusion_matrix, classification_report"
      ],
      "execution_count": 19,
      "outputs": []
    },
    {
      "cell_type": "code",
      "metadata": {
        "colab": {
          "base_uri": "https://localhost:8080/"
        },
        "id": "LVG9XaoBdEBU",
        "outputId": "2e131665-8ba5-46cc-b39b-5c00bd1a1504"
      },
      "source": [
        "# Importing the dataset\n",
        "DATASET_COLUMNS  = [\"sentiment\", \"ids\", \"date\", \"flag\", \"user\", \"text\"]\n",
        "DATASET_ENCODING = \"ISO-8859-1\"\n",
        "dataset = pd.read_csv('/content/training.1600000.processed.noemoticon.csv',\n",
        "                      encoding=DATASET_ENCODING , names=DATASET_COLUMNS)\n",
        "\n",
        "# Removing the unnecessary columns.\n",
        "dataset = dataset[['sentiment','text']]\n",
        "\n",
        "print(dataset)"
      ],
      "execution_count": 20,
      "outputs": [
        {
          "output_type": "stream",
          "name": "stdout",
          "text": [
            "         sentiment                                               text\n",
            "0                0  @switchfoot http://twitpic.com/2y1zl - Awww, t...\n",
            "1                0  is upset that he can't update his Facebook by ...\n",
            "2                0  @Kenichan I dived many times for the ball. Man...\n",
            "3                0    my whole body feels itchy and like its on fire \n",
            "4                0  @nationwideclass no, it's not behaving at all....\n",
            "...            ...                                                ...\n",
            "1599995          4  Just woke up. Having no school is the best fee...\n",
            "1599996          4  TheWDB.com - Very cool to hear old Walt interv...\n",
            "1599997          4  Are you ready for your MoJo Makeover? Ask me f...\n",
            "1599998          4  Happy 38th Birthday to my boo of alll time!!! ...\n",
            "1599999          4  happy #charitytuesday @theNSPCC @SparksCharity...\n",
            "\n",
            "[1600000 rows x 2 columns]\n"
          ]
        }
      ]
    },
    {
      "cell_type": "code",
      "metadata": {
        "colab": {
          "base_uri": "https://localhost:8080/"
        },
        "id": "5jpBxrdyKnKn",
        "outputId": "95367433-8c18-496a-9338-aad70c3d0819"
      },
      "source": [
        "dataset['sentiment'].value_counts()"
      ],
      "execution_count": 21,
      "outputs": [
        {
          "output_type": "execute_result",
          "data": {
            "text/plain": [
              "0    800000\n",
              "4    800000\n",
              "Name: sentiment, dtype: int64"
            ]
          },
          "metadata": {},
          "execution_count": 21
        }
      ]
    },
    {
      "cell_type": "code",
      "metadata": {
        "colab": {
          "base_uri": "https://localhost:8080/"
        },
        "id": "yyAIFjuJKls4",
        "outputId": "ba3f68db-b953-4e6a-f283-fbcd3f089472"
      },
      "source": [
        "# 4를 1로 바꾼다. 1=positive , 0=negative\n",
        "dataset['sentiment'] = dataset['sentiment'].replace(4,1)\n",
        "\n",
        "# Storing data in lists.\n",
        "text, sentiment = list(dataset['text']), list(dataset['sentiment'])\n",
        "\n",
        "print(dataset)"
      ],
      "execution_count": 22,
      "outputs": [
        {
          "output_type": "stream",
          "name": "stdout",
          "text": [
            "         sentiment                                               text\n",
            "0                0  @switchfoot http://twitpic.com/2y1zl - Awww, t...\n",
            "1                0  is upset that he can't update his Facebook by ...\n",
            "2                0  @Kenichan I dived many times for the ball. Man...\n",
            "3                0    my whole body feels itchy and like its on fire \n",
            "4                0  @nationwideclass no, it's not behaving at all....\n",
            "...            ...                                                ...\n",
            "1599995          1  Just woke up. Having no school is the best fee...\n",
            "1599996          1  TheWDB.com - Very cool to hear old Walt interv...\n",
            "1599997          1  Are you ready for your MoJo Makeover? Ask me f...\n",
            "1599998          1  Happy 38th Birthday to my boo of alll time!!! ...\n",
            "1599999          1  happy #charitytuesday @theNSPCC @SparksCharity...\n",
            "\n",
            "[1600000 rows x 2 columns]\n"
          ]
        }
      ]
    },
    {
      "cell_type": "code",
      "metadata": {
        "colab": {
          "base_uri": "https://localhost:8080/"
        },
        "id": "g5amNDltjxi2",
        "outputId": "bdb33a60-b804-44df-ed3a-ff0b4a818387"
      },
      "source": [
        "from nltk.corpus import stopwords\n",
        "from nltk.stem.snowball import SnowballStemmer\n",
        "import nltk\n",
        "\n",
        "nltk.download('stopwords')\n",
        "\n",
        "stopwordlist = stopwords.words('english')\n",
        "stemmer = SnowballStemmer('english')\n",
        "emojis = {':)': 'smile', ':-)': 'smile', ';d': 'wink', ':-E': 'vampire', ':(': 'sad', \n",
        "          ':-(': 'sad', ':-<': 'sad', ':P': 'raspberry', ':O': 'surprised',\n",
        "          ':-@': 'shocked', ':@': 'shocked',':-$': 'confused', ':\\\\': 'annoyed', \n",
        "          ':#': 'mute', ':X': 'mute', ':^)': 'smile', ':-&': 'confused', '$_$': 'greedy',\n",
        "          '@@': 'eyeroll', ':-!': 'confused', ':-D': 'smile', ':-0': 'yell', 'O.o': 'confused',\n",
        "          '<(-_-)>': 'robot', 'd[-_-]b': 'dj', \":'-)\": 'sadsmile', ';)': 'wink', \n",
        "          ';-)': 'wink', 'O:-)': 'angel','O*-)': 'angel','(:-D': 'gossip', '=^.^=': 'cat'}"
      ],
      "execution_count": 23,
      "outputs": [
        {
          "output_type": "stream",
          "name": "stdout",
          "text": [
            "[nltk_data] Downloading package stopwords to /root/nltk_data...\n",
            "[nltk_data]   Package stopwords is already up-to-date!\n"
          ]
        }
      ]
    },
    {
      "cell_type": "code",
      "metadata": {
        "id": "nB3sFVtukjPU"
      },
      "source": [
        "def preprocess(textdata):\n",
        "    processedText = []\n",
        "    \n",
        "    # Create Lemmatizer and Stemmer. 표제어 추출하기\n",
        "    wordLemm = WordNetLemmatizer()\n",
        "    \n",
        "    # Defining regex patterns. 정규식 패턴\n",
        "    urlPattern        = r\"((http://)[^ ]*|(https://)[^ ]*|( www\\.)[^ ]*)\" \n",
        "    userPattern       = '@[^\\s]+' #@으로 시작하는 유저 아이디 제거\n",
        "    alphaPattern      = \"[^a-zA-Z]\" #영어 대소문자 외 제거\n",
        "    sequencePattern   = r\"(.)\\1\\1+\" #중복글자 제거\n",
        "    seqReplacePattern = r\"\\1\\1\" #중복글자제거\n",
        "    \n",
        "    for tweet in textdata:\n",
        "        tweet = tweet.lower() #소문자화\n",
        "        #http, www, https로 시작하는 url 제거\n",
        "        tweet = re.sub(urlPattern,' URL',tweet)\n",
        "        # 이모지 대체\n",
        "        for emoji in emojis.keys():\n",
        "            tweet = tweet.replace(emoji, \"EMOJI\" + emojis[emoji])        \n",
        "        # 유저 아이디 대체\n",
        "        tweet = re.sub(userPattern,' USER', tweet)        \n",
        "        # 알파벳 아닌 것 모두 대체\n",
        "        tweet = re.sub(alphaPattern, \" \", tweet)\n",
        "        # 3개 이상의 연속된 문자를 2자로 대체\n",
        "        tweet = re.sub(sequencePattern, seqReplacePattern, tweet)\n",
        "\n",
        "        tweetwords = ''\n",
        "        for word in tweet.split():\n",
        "            # stopword에 들어있는지 확인\n",
        "            # stopword에 없으면:\n",
        "            if len(word)>1:\n",
        "                # Lemmatizing 실행\n",
        "                word = wordLemm.lemmatize(word)\n",
        "                tweetwords += (word+' ')\n",
        "            \n",
        "        processedText.append(tweetwords)\n",
        "        \n",
        "    return processedText"
      ],
      "execution_count": 24,
      "outputs": []
    },
    {
      "cell_type": "code",
      "metadata": {
        "colab": {
          "base_uri": "https://localhost:8080/"
        },
        "id": "IfUAG--2lCiq",
        "outputId": "216f4693-14b1-4994-bdc6-fcbba2d774e5"
      },
      "source": [
        "import time\n",
        "\n",
        "nltk.download('wordnet')\n",
        "\n",
        "t = time.time()\n",
        "processedtext = preprocess(text)\n",
        "print(f'Text Preprocessing complete.')\n",
        "print(f'Time Taken: {round(time.time()-t)} seconds')"
      ],
      "execution_count": 25,
      "outputs": [
        {
          "output_type": "stream",
          "name": "stdout",
          "text": [
            "[nltk_data] Downloading package wordnet to /root/nltk_data...\n",
            "[nltk_data]   Package wordnet is already up-to-date!\n",
            "Text Preprocessing complete.\n",
            "Time Taken: 113 seconds\n"
          ]
        }
      ]
    },
    {
      "cell_type": "code",
      "metadata": {
        "id": "pJlHWdW3R4gQ"
      },
      "source": [
        "df = pd.DataFrame(processedtext)"
      ],
      "execution_count": 26,
      "outputs": []
    },
    {
      "cell_type": "markdown",
      "metadata": {
        "id": "vBeykxXocwiI"
      },
      "source": [
        "##Tokenization"
      ]
    },
    {
      "cell_type": "code",
      "metadata": {
        "id": "5mD-5q1fWJI4"
      },
      "source": [
        "TRAIN_SIZE = 0.8\n",
        "MAX_NB_WORDS = 100000\n",
        "MAX_SEQUENCE_LENGTH = 30"
      ],
      "execution_count": 27,
      "outputs": []
    },
    {
      "cell_type": "code",
      "metadata": {
        "colab": {
          "base_uri": "https://localhost:8080/"
        },
        "id": "C1xlKAxeJjfZ",
        "outputId": "dbf3b22b-1e5b-42bd-ce3d-9ab243b67141"
      },
      "source": [
        "X_train, X_test, y_train, y_test = train_test_split(processedtext, sentiment, test_size=1-TRAIN_SIZE, random_state=42)\n",
        "print(\"TRAIN size:\", len(X_train))\n",
        "print(\"TEST size:\", len(X_test))"
      ],
      "execution_count": 28,
      "outputs": [
        {
          "output_type": "stream",
          "name": "stdout",
          "text": [
            "TRAIN size: 1280000\n",
            "TEST size: 320000\n"
          ]
        }
      ]
    },
    {
      "cell_type": "code",
      "metadata": {
        "colab": {
          "base_uri": "https://localhost:8080/"
        },
        "id": "g0raPylEiaD4",
        "outputId": "dd62528f-ec70-4770-ef4a-87e46ba93cae"
      },
      "source": [
        "from keras.preprocessing.text import Tokenizer\n",
        "\n",
        "tokenizer = Tokenizer()\n",
        "tokenizer.fit_on_texts(X_train)\n",
        "\n",
        "word_index = tokenizer.word_index\n",
        "vocab_size = len(tokenizer.word_index) + 1\n",
        "print(\"Vocabulary Size :\", vocab_size)"
      ],
      "execution_count": 29,
      "outputs": [
        {
          "output_type": "stream",
          "name": "stdout",
          "text": [
            "Vocabulary Size : 205203\n"
          ]
        }
      ]
    },
    {
      "cell_type": "code",
      "metadata": {
        "colab": {
          "base_uri": "https://localhost:8080/"
        },
        "id": "_aJVreNdUAIW",
        "outputId": "86641ab6-cf7d-421b-ce17-8748ef7bd710"
      },
      "source": [
        "from keras.preprocessing.sequence import pad_sequences\n",
        "\n",
        "x_train = pad_sequences(tokenizer.texts_to_sequences(X_train),\n",
        "                        maxlen = MAX_SEQUENCE_LENGTH)\n",
        "x_test = pad_sequences(tokenizer.texts_to_sequences(X_test),\n",
        "                       maxlen = MAX_SEQUENCE_LENGTH)\n",
        "\n",
        "print(\"Training X Shape:\",x_train.shape)\n",
        "print(\"Testing X Shape:\",x_test.shape)"
      ],
      "execution_count": 30,
      "outputs": [
        {
          "output_type": "stream",
          "name": "stdout",
          "text": [
            "Training X Shape: (1280000, 30)\n",
            "Testing X Shape: (320000, 30)\n"
          ]
        }
      ]
    },
    {
      "cell_type": "code",
      "metadata": {
        "id": "1kUr8Kd1ZyGf"
      },
      "source": [
        "#y_train = pd.DataFrame(y_train)\n",
        "#labels = y_train.value_counts().tolist()"
      ],
      "execution_count": 31,
      "outputs": []
    },
    {
      "cell_type": "markdown",
      "metadata": {
        "id": "2G7E1GXqcrYr"
      },
      "source": [
        "### Label Encoding"
      ]
    },
    {
      "cell_type": "code",
      "metadata": {
        "colab": {
          "base_uri": "https://localhost:8080/"
        },
        "id": "PcQ_yoMib7S5",
        "outputId": "a70b7198-e9f1-47f2-96aa-4e34dbb39aba"
      },
      "source": [
        "from sklearn.preprocessing import LabelEncoder\n",
        "\n",
        "encoder = LabelEncoder()\n",
        "encoder.fit(y_train)\n",
        "\n",
        "y_train = encoder.transform(y_train)\n",
        "y_test = encoder.transform(y_test)\n",
        "\n",
        "y_train = y_train.reshape(-1,1)\n",
        "y_test = y_test.reshape(-1,1)\n",
        "\n",
        "print(\"y_train shape:\", y_train.shape)\n",
        "print(\"y_test shape:\", y_test.shape)"
      ],
      "execution_count": 32,
      "outputs": [
        {
          "output_type": "stream",
          "name": "stdout",
          "text": [
            "y_train shape: (1280000, 1)\n",
            "y_test shape: (320000, 1)\n"
          ]
        }
      ]
    },
    {
      "cell_type": "markdown",
      "metadata": {
        "id": "J11-uKFSch43"
      },
      "source": [
        "## Word embedding\n",
        "\n",
        "</br>\n",
        "미리 학습된 임베딩 사용 \n",
        "</br>\n",
        "GloVe Embedding from Stanford AI"
      ]
    },
    {
      "cell_type": "code",
      "metadata": {
        "colab": {
          "base_uri": "https://localhost:8080/"
        },
        "id": "mDFRZsp6chWM",
        "outputId": "42a4c5d9-203c-43d8-e5db-7e334a37820f"
      },
      "source": [
        "!wget http://nlp.stanford.edu/data/glove.6B.zip\n",
        "!unzip glove.6B.zip"
      ],
      "execution_count": 33,
      "outputs": [
        {
          "output_type": "stream",
          "name": "stdout",
          "text": [
            "--2021-09-03 06:15:13--  http://nlp.stanford.edu/data/glove.6B.zip\n",
            "Resolving nlp.stanford.edu (nlp.stanford.edu)... 171.64.67.140\n",
            "Connecting to nlp.stanford.edu (nlp.stanford.edu)|171.64.67.140|:80... connected.\n",
            "HTTP request sent, awaiting response... 302 Found\n",
            "Location: https://nlp.stanford.edu/data/glove.6B.zip [following]\n",
            "--2021-09-03 06:15:13--  https://nlp.stanford.edu/data/glove.6B.zip\n",
            "Connecting to nlp.stanford.edu (nlp.stanford.edu)|171.64.67.140|:443... connected.\n",
            "HTTP request sent, awaiting response... 301 Moved Permanently\n",
            "Location: http://downloads.cs.stanford.edu/nlp/data/glove.6B.zip [following]\n",
            "--2021-09-03 06:15:14--  http://downloads.cs.stanford.edu/nlp/data/glove.6B.zip\n",
            "Resolving downloads.cs.stanford.edu (downloads.cs.stanford.edu)... 171.64.64.22\n",
            "Connecting to downloads.cs.stanford.edu (downloads.cs.stanford.edu)|171.64.64.22|:80... connected.\n",
            "HTTP request sent, awaiting response... 200 OK\n",
            "Length: 862182613 (822M) [application/zip]\n",
            "Saving to: ‘glove.6B.zip.1’\n",
            "\n",
            "glove.6B.zip.1      100%[===================>] 822.24M  5.03MB/s    in 2m 40s  \n",
            "\n",
            "2021-09-03 06:17:54 (5.14 MB/s) - ‘glove.6B.zip.1’ saved [862182613/862182613]\n",
            "\n",
            "Archive:  glove.6B.zip\n",
            "replace glove.6B.50d.txt? [y]es, [n]o, [A]ll, [N]one, [r]ename: n\n",
            "replace glove.6B.100d.txt? [y]es, [n]o, [A]ll, [N]one, [r]ename: n\n",
            "replace glove.6B.200d.txt? [y]es, [n]o, [A]ll, [N]one, [r]ename: n\n",
            "replace glove.6B.300d.txt? [y]es, [n]o, [A]ll, [N]one, [r]ename: n\n"
          ]
        }
      ]
    },
    {
      "cell_type": "code",
      "metadata": {
        "id": "t-FtY-gQcy6-"
      },
      "source": [
        "GLOVE_EMB = 'glove.6B.300d.txt'\n",
        "EMBEDDING_DIM = 300\n",
        "LR = 1e-3\n",
        "BATCH_SIZE = 1024\n",
        "EPOCHS = 10\n",
        "MODEL_PATH = '.../output/kaggle/working/best_model.hdf5'"
      ],
      "execution_count": 34,
      "outputs": []
    },
    {
      "cell_type": "code",
      "metadata": {
        "colab": {
          "base_uri": "https://localhost:8080/"
        },
        "id": "pqBcO7L-c375",
        "outputId": "71e5540a-cba7-4afb-c0b4-071ddbb531ec"
      },
      "source": [
        "embeddings_index = {}\n",
        "\n",
        "f = open(GLOVE_EMB)\n",
        "for line in f:\n",
        "  values = line.split()\n",
        "  word = value = values[0]\n",
        "  coefs = np.asarray(values[1:], dtype='float32')\n",
        "  embeddings_index[word] = coefs\n",
        "f.close()\n",
        "\n",
        "print('Found %s word vectors.' %len(embeddings_index))"
      ],
      "execution_count": 35,
      "outputs": [
        {
          "output_type": "stream",
          "name": "stdout",
          "text": [
            "Found 400000 word vectors.\n"
          ]
        }
      ]
    },
    {
      "cell_type": "code",
      "metadata": {
        "id": "WkV4Ch7Nc6MO"
      },
      "source": [
        "embedding_matrix = np.zeros((vocab_size, EMBEDDING_DIM))\n",
        "for word, i in word_index.items():\n",
        "  embedding_vector = embeddings_index.get(word)\n",
        "  if embedding_vector is not None:\n",
        "    embedding_matrix[i] = embedding_vector"
      ],
      "execution_count": 36,
      "outputs": []
    },
    {
      "cell_type": "code",
      "metadata": {
        "id": "0HBOK5LXc7u8"
      },
      "source": [
        "import tensorflow as tf\n",
        "\n",
        "embedding_layer = tf.keras.layers.Embedding(vocab_size,\n",
        "                                          EMBEDDING_DIM,\n",
        "                                          weights=[embedding_matrix],\n",
        "                                          input_length=MAX_SEQUENCE_LENGTH,\n",
        "                                          trainable=False)"
      ],
      "execution_count": 37,
      "outputs": []
    },
    {
      "cell_type": "markdown",
      "metadata": {
        "id": "ALN4QiicR84i"
      },
      "source": [
        "BASELINE"
      ]
    },
    {
      "cell_type": "code",
      "metadata": {
        "colab": {
          "base_uri": "https://localhost:8080/",
          "height": 304
        },
        "id": "PHgo_0laR-gn",
        "outputId": "2501d555-1de3-4426-df7e-42d72f41bbfc"
      },
      "source": [
        "pd.DataFrame(y_train).value_counts().plot(kind = 'bar')"
      ],
      "execution_count": 40,
      "outputs": [
        {
          "output_type": "execute_result",
          "data": {
            "text/plain": [
              "<matplotlib.axes._subplots.AxesSubplot at 0x7fee75b445d0>"
            ]
          },
          "metadata": {},
          "execution_count": 40
        },
        {
          "output_type": "display_data",
          "data": {
            "image/png": "[encoded data removed]",
            "text/plain": [
              "<Figure size 432x288 with 1 Axes>"
            ]
          },
          "metadata": {
            "needs_background": "light"
          }
        }
      ]
    },
    {
      "cell_type": "markdown",
      "metadata": {
        "id": "HeFwLOh-d36H"
      },
      "source": [
        "# Model Training - LSTM\n",
        "\n",
        "![image.png](data:image/png;base64,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)"
      ]
    },
    {
      "cell_type": "markdown",
      "metadata": {
        "id": "ZMln9hEGf0pu"
      },
      "source": [
        "1) Embedding Layer - Generates Embedding Vector for each input sequence.\n",
        "\n",
        "2) SpatialDropout1D layer - dropout과 동일한 기능이지만 개별 요소 대신 1차원 피쳐맵을 삭제한다. early convolution layer에서 피쳐 맵 내의 인접 프레임이 강하게 연결되어 있는 경우 기존의 dropout은 정규화 못함. 학습속도만 저하일으킴. spatial dropout이 피쳐 맵 간 독립성을 높이는데 도움되므로 대신 사용해야함 \n",
        "\n",
        "3) Conv1D Layer - 더 작은 피쳐 벡터로 만들기 위해 사용\n",
        "\n",
        "4) LSTM - Long Short Term Memory, its a variant of RNN which has memory state cell to learn the context of words which are at further along the text to carry contextual meaning rather than just neighbouring words as in case of RNN.\n",
        "\n",
        "4-1) Bidirectional layer - 입력 내용이 과거에서 미래, 미래에서 과거 양방향으로 실행되어 정보를 두 시점의 정보를 보존할 수 있다. \n",
        "\n",
        "5) Dense - Fully Connected Layers for classification"
      ]
    },
    {
      "cell_type": "code",
      "metadata": {
        "id": "7Z1w9sspd5zQ"
      },
      "source": [
        "from tensorflow.keras.layers import Conv1D, Bidirectional, LSTM, Dense, Input, Dropout\n",
        "from tensorflow.keras.layers import SpatialDropout1D\n",
        "from tensorflow.keras.callbacks import ModelCheckpoint"
      ],
      "execution_count": 42,
      "outputs": []
    },
    {
      "cell_type": "code",
      "metadata": {
        "colab": {
          "base_uri": "https://localhost:8080/"
        },
        "id": "c4xRrENef5Wk",
        "outputId": "66d48d1a-a8cd-4e98-d193-88220c81828e"
      },
      "source": [
        "sequence_input = Input(shape=(MAX_SEQUENCE_LENGTH,), dtype='int32')\n",
        "embedding_sequences = embedding_layer(sequence_input)\n",
        "x = SpatialDropout1D(0.2)(embedding_sequences)\n",
        "x = Conv1D(64, 5, activation='relu')(x)\n",
        "x = Bidirectional(LSTM(64, dropout=0.2, recurrent_dropout=0.2))(x)\n",
        "x = Dense(512, activation='relu')(x)\n",
        "x = Dropout(0.5)(x)\n",
        "x = Dense(512, activation='relu')(x)\n",
        "outputs = Dense(1, activation='sigmoid')(x)\n",
        "model = tf.keras.Model(sequence_input, outputs)"
      ],
      "execution_count": 43,
      "outputs": [
        {
          "output_type": "stream",
          "name": "stdout",
          "text": [
            "WARNING:tensorflow:Layer lstm will not use cuDNN kernels since it doesn't meet the criteria. It will use a generic GPU kernel as fallback when running on GPU.\n",
            "WARNING:tensorflow:Layer lstm will not use cuDNN kernels since it doesn't meet the criteria. It will use a generic GPU kernel as fallback when running on GPU.\n",
            "WARNING:tensorflow:Layer lstm will not use cuDNN kernels since it doesn't meet the criteria. It will use a generic GPU kernel as fallback when running on GPU.\n"
          ]
        }
      ]
    },
    {
      "cell_type": "code",
      "metadata": {
        "colab": {
          "base_uri": "https://localhost:8080/"
        },
        "id": "lC9zE4AL2eH_",
        "outputId": "80673b7f-f4ad-44a2-d115-5609d1fcedfd"
      },
      "source": [
        "model.summary()"
      ],
      "execution_count": 44,
      "outputs": [
        {
          "output_type": "stream",
          "name": "stdout",
          "text": [
            "Model: \"model\"\n",
            "_________________________________________________________________\n",
            "Layer (type)                 Output Shape              Param #   \n",
            "=================================================================\n",
            "input_1 (InputLayer)         [(None, 30)]              0         \n",
            "_________________________________________________________________\n",
            "embedding (Embedding)        (None, 30, 300)           61560900  \n",
            "_________________________________________________________________\n",
            "spatial_dropout1d (SpatialDr (None, 30, 300)           0         \n",
            "_________________________________________________________________\n",
            "conv1d (Conv1D)              (None, 26, 64)            96064     \n",
            "_________________________________________________________________\n",
            "bidirectional (Bidirectional (None, 128)               66048     \n",
            "_________________________________________________________________\n",
            "dense (Dense)                (None, 512)               66048     \n",
            "_________________________________________________________________\n",
            "dropout (Dropout)            (None, 512)               0         \n",
            "_________________________________________________________________\n",
            "dense_1 (Dense)              (None, 512)               262656    \n",
            "_________________________________________________________________\n",
            "dense_2 (Dense)              (None, 1)                 513       \n",
            "=================================================================\n",
            "Total params: 62,052,229\n",
            "Trainable params: 491,329\n",
            "Non-trainable params: 61,560,900\n",
            "_________________________________________________________________\n"
          ]
        }
      ]
    },
    {
      "cell_type": "code",
      "metadata": {
        "id": "7eONQLAlf7Ec"
      },
      "source": [
        "from tensorflow.keras.optimizers import Adam\n",
        "from tensorflow.keras.callbacks import ReduceLROnPlateau\n",
        "\n",
        "model.compile(optimizer=Adam(learning_rate=LR), loss='binary_crossentropy',\n",
        "              metrics=['accuracy'])\n",
        "\n",
        "#콜백, 모델의 개선이 없을 경우, Learning Rate를 조절해 모델의 개선을 유도\n",
        "ReduceLROnPlateau = ReduceLROnPlateau(factor=0.1,\n",
        "                                     min_lr = 0.01,\n",
        "                                     monitor = 'val_loss',\n",
        "                                     verbose = 1)"
      ],
      "execution_count": 45,
      "outputs": []
    },
    {
      "cell_type": "code",
      "metadata": {
        "colab": {
          "base_uri": "https://localhost:8080/"
        },
        "id": "gi4z05IkgB9G",
        "outputId": "10ff8b8a-cc4b-4463-dd7c-33695919e0b3"
      },
      "source": [
        "history = model.fit(x_train, y_train, batch_size=BATCH_SIZE, epochs=EPOCHS,\n",
        "                    validation_data=(x_test, y_test), callbacks=[ReduceLROnPlateau])"
      ],
      "execution_count": 46,
      "outputs": [
        {
          "output_type": "stream",
          "name": "stdout",
          "text": [
            "Epoch 1/10\n",
            "1250/1250 [==============================] - 168s 107ms/step - loss: 0.4803 - accuracy: 0.7674 - val_loss: 0.4296 - val_accuracy: 0.8000\n",
            "Epoch 2/10\n",
            "1250/1250 [==============================] - 134s 107ms/step - loss: 0.4382 - accuracy: 0.7951 - val_loss: 0.4162 - val_accuracy: 0.8076\n",
            "Epoch 3/10\n",
            "1250/1250 [==============================] - 134s 107ms/step - loss: 0.4252 - accuracy: 0.8029 - val_loss: 0.4082 - val_accuracy: 0.8123\n",
            "Epoch 4/10\n",
            "1250/1250 [==============================] - 133s 107ms/step - loss: 0.4170 - accuracy: 0.8077 - val_loss: 0.4030 - val_accuracy: 0.8157\n",
            "Epoch 5/10\n",
            "1250/1250 [==============================] - 132s 106ms/step - loss: 0.4111 - accuracy: 0.8109 - val_loss: 0.4015 - val_accuracy: 0.8164\n",
            "Epoch 6/10\n",
            "1250/1250 [==============================] - 132s 106ms/step - loss: 0.4069 - accuracy: 0.8135 - val_loss: 0.4010 - val_accuracy: 0.8176\n",
            "Epoch 7/10\n",
            "1250/1250 [==============================] - 133s 106ms/step - loss: 0.4030 - accuracy: 0.8152 - val_loss: 0.3962 - val_accuracy: 0.8192\n",
            "Epoch 8/10\n",
            "1250/1250 [==============================] - 132s 106ms/step - loss: 0.4006 - accuracy: 0.8168 - val_loss: 0.3967 - val_accuracy: 0.8189\n",
            "Epoch 9/10\n",
            "1250/1250 [==============================] - 133s 106ms/step - loss: 0.3983 - accuracy: 0.8181 - val_loss: 0.3954 - val_accuracy: 0.8197\n",
            "Epoch 10/10\n",
            "1250/1250 [==============================] - 133s 106ms/step - loss: 0.3956 - accuracy: 0.8195 - val_loss: 0.3936 - val_accuracy: 0.8207\n"
          ]
        }
      ]
    },
    {
      "cell_type": "markdown",
      "metadata": {
        "id": "JzTnw0sPgM3M"
      },
      "source": [
        "####evaluate"
      ]
    },
    {
      "cell_type": "code",
      "metadata": {
        "id": "gt5wVLm1gFR_",
        "colab": {
          "base_uri": "https://localhost:8080/",
          "height": 312
        },
        "outputId": "c5b94132-e7a6-43d6-cb8c-016b74c92d33"
      },
      "source": [
        "s, (at, al) = plt.subplots(2,1)\n",
        "at.plot(history.history['accuracy'], c= 'b')\n",
        "at.plot(history.history['val_accuracy'], c='r')\n",
        "at.set_title('model accuracy')\n",
        "at.set_ylabel('accuracy')\n",
        "at.set_xlabel('epoch')\n",
        "at.legend(['LSTM_train', 'LSTM_val'], loc='upper left')\n",
        "\n",
        "al.plot(history.history['loss'], c='m')\n",
        "al.plot(history.history['val_loss'], c='c')\n",
        "al.set_title('model loss')\n",
        "al.set_ylabel('loss')\n",
        "al.set_xlabel('epoch')\n",
        "al.legend(['train', 'val'], loc = 'upper left')"
      ],
      "execution_count": 47,
      "outputs": [
        {
          "output_type": "execute_result",
          "data": {
            "text/plain": [
              "<matplotlib.legend.Legend at 0x7fee6fdc5cd0>"
            ]
          },
          "metadata": {},
          "execution_count": 47
        },
        {
          "output_type": "display_data",
          "data": {
            "image/png": "[encoded data removed]",
            "text/plain": [
              "<Figure size 432x288 with 2 Axes>"
            ]
          },
          "metadata": {
            "needs_background": "light"
          }
        }
      ]
    },
    {
      "cell_type": "code",
      "metadata": {
        "id": "pu5eD6hogJPf",
        "colab": {
          "base_uri": "https://localhost:8080/"
        },
        "outputId": "9db5b3e4-a51f-4dce-e91c-0441c2424ea5"
      },
      "source": [
        "def decode_sentiment(score):\n",
        "    return \"Positive\" if score>0.5 else \"Negative\"\n",
        "\n",
        "\n",
        "scores = model.predict(x_test, verbose=1, batch_size=10000)\n",
        "y_pred_1d = [decode_sentiment(score) for score in scores]\n",
        "\n",
        "score = model.evaluate(x_test, y_test, batch_size=BATCH_SIZE)\n",
        "print()\n",
        "print(\"ACCURACY:\",score[1])\n",
        "print(\"LOSS:\",score[0])"
      ],
      "execution_count": 48,
      "outputs": [
        {
          "output_type": "stream",
          "name": "stdout",
          "text": [
            "32/32 [==============================] - 3s 64ms/step\n",
            "313/313 [==============================] - 5s 17ms/step - loss: 0.3936 - accuracy: 0.8207\n",
            "\n",
            "ACCURACY: 0.8207218647003174\n",
            "LOSS: 0.3935725688934326\n"
          ]
        }
      ]
    },
    {
      "cell_type": "markdown",
      "metadata": {
        "id": "Wi0PIBTgvPv6"
      },
      "source": [
        "### confusion matrix"
      ]
    },
    {
      "cell_type": "code",
      "metadata": {
        "id": "M00Yj5KivEb3"
      },
      "source": [
        "import itertools\n",
        "from sklearn.metrics import confusion_matrix, classification_report, accuracy_score\n",
        "def plot_confusion_matrix(cm, classes,\n",
        "                          title='Confusion matrix',\n",
        "                          cmap=plt.cm.Blues):\n",
        "    \"\"\"\n",
        "    This function prints and plots the confusion matrix.\n",
        "    Normalization can be applied by setting `normalize=True`.\n",
        "    \"\"\"\n",
        "\n",
        "    cm = cm.astype('float') / cm.sum(axis=1)[:, np.newaxis]\n",
        "\n",
        "    plt.imshow(cm, interpolation='nearest', cmap=cmap)\n",
        "    plt.title(title, fontsize=20)\n",
        "    plt.colorbar()\n",
        "    tick_marks = np.arange(len(classes))\n",
        "    plt.xticks(tick_marks, classes, fontsize=13)\n",
        "    plt.yticks(tick_marks, classes, fontsize=13)\n",
        "\n",
        "    fmt = '.2f'\n",
        "    thresh = cm.max() / 2.\n",
        "    for i, j in itertools.product(range(cm.shape[0]), range(cm.shape[1])):\n",
        "        plt.text(j, i, format(cm[i, j], fmt),\n",
        "                 horizontalalignment=\"center\",\n",
        "                 color=\"white\" if cm[i, j] > thresh else \"black\")\n",
        "\n",
        "    plt.ylabel('True label', fontsize=17)\n",
        "    plt.xlabel('Predicted label', fontsize=17)"
      ],
      "execution_count": 49,
      "outputs": []
    },
    {
      "cell_type": "code",
      "metadata": {
        "id": "UZGyQWJaNIYP"
      },
      "source": [
        "def sentiment_predict(new_sentence):\n",
        "  pad_new = pad_sequences(tokenizer.texts_to_sequences(new_sentence),\n",
        "                        maxlen = MAX_SEQUENCE_LENGTH)\n",
        "  score = float(model.predict(pad_new)) # 예측\n",
        "  if(score > 0.5):\n",
        "    print(\"{:.2f}% 확률로 긍정 리뷰입니다.\\n\".format(score * 100))\n",
        "  else:\n",
        "    print(\"{:.2f}% 확률로 부정 리뷰입니다.\\n\".format((1 - score) * 100))"
      ],
      "execution_count": 88,
      "outputs": []
    },
    {
      "cell_type": "code",
      "metadata": {
        "colab": {
          "resources": {
            "http://localhost:8080/nbextensions/google.colab/files.js": {
              "data": "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",
              "ok": true,
              "headers": [
                [
                  "content-type",
                  "application/javascript"
                ]
              ],
              "status": 200,
              "status_text": ""
            }
          },
          "base_uri": "https://localhost:8080/",
          "height": 75
        },
        "id": "AgL6WV66dCRV",
        "outputId": "3218904a-900d-49ae-df2a-350f87558643"
      },
      "source": [
        "from google.colab import files\n",
        "uploaded = files.upload() # 파일 업로드 기능 실행"
      ],
      "execution_count": 54,
      "outputs": [
        {
          "output_type": "display_data",
          "data": {
            "text/html": [
              "\n",
              "     <input type=\"file\" id=\"files-5590b9f2-5b22-4e43-922b-937810e7e3bb\" name=\"files[]\" multiple disabled\n",
              "        style=\"border:none\" />\n",
              "     <output id=\"result-5590b9f2-5b22-4e43-922b-937810e7e3bb\">\n",
              "      Upload widget is only available when the cell has been executed in the\n",
              "      current browser session. Please rerun this cell to enable.\n",
              "      </output>\n",
              "      <script src=\"/nbextensions/google.colab/files.js\"></script> "
            ],
            "text/plain": [
              "<IPython.core.display.HTML object>"
            ]
          },
          "metadata": {}
        },
        {
          "output_type": "stream",
          "name": "stdout",
          "text": [
            "Saving last.csv to last.csv\n"
          ]
        }
      ]
    },
    {
      "cell_type": "code",
      "metadata": {
        "id": "ZiMKPiPRal8f"
      },
      "source": [
        "temp_str = pd.read_csv('last.csv', index_col=0)\n",
        "temp_str = pd.DataFrame(temp_str)"
      ],
      "execution_count": 78,
      "outputs": []
    },
    {
      "cell_type": "code",
      "metadata": {
        "id": "M1sZRZPkk7OT",
        "outputId": "2f2c264a-481e-4b89-fcbb-505df95151fb",
        "colab": {
          "base_uri": "https://localhost:8080/"
        }
      },
      "source": [
        "temp_str.shape"
      ],
      "execution_count": 94,
      "outputs": [
        {
          "output_type": "execute_result",
          "data": {
            "text/plain": [
              "(6208, 1)"
            ]
          },
          "metadata": {},
          "execution_count": 94
        }
      ]
    },
    {
      "cell_type": "code",
      "metadata": {
        "id": "Czd3SCgHh2Jb",
        "outputId": "e4d49214-9ce6-46ea-e926-29f57204e8b7",
        "colab": {
          "base_uri": "https://localhost:8080/"
        }
      },
      "source": [
        "sentiment_predict(temp_str)"
      ],
      "execution_count": 90,
      "outputs": [
        {
          "output_type": "stream",
          "name": "stdout",
          "text": [
            "54.82% 확률로 긍정 리뷰입니다.\n",
            "\n"
          ]
        }
      ]
    }
  ]
}