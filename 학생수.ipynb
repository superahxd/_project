{
  "nbformat": 4,
  "nbformat_minor": 0,
  "metadata": {
    "kernelspec": {
      "display_name": "Python 3",
      "language": "python",
      "name": "python3"
    },
    "language_info": {
      "codemirror_mode": {
        "name": "ipython",
        "version": 3
      },
      "file_extension": ".py",
      "mimetype": "text/x-python",
      "name": "python",
      "nbconvert_exporter": "python",
      "pygments_lexer": "ipython3",
      "version": "3.7.7"
    },
    "colab": {
      "name": "n231a-choose-your-ml-problems.ipynb",
      "provenance": [],
      "include_colab_link": true
    }
  },
  "cells": [
    {
      "cell_type": "markdown",
      "metadata": {
        "id": "view-in-github",
        "colab_type": "text"
      },
      "source": [
        "<a href=\"https://colab.research.google.com/github/superahxd/_project/blob/main/%ED%95%99%EC%83%9D%EC%88%98.ipynb\" target=\"_parent\"><img src=\"https://colab.research.google.com/assets/colab-badge.svg\" alt=\"Open In Colab\"/></a>"
      ]
    },
    {
      "cell_type": "markdown",
      "metadata": {
        "id": "nCc3XZEyG3XV"
      },
      "source": [
        "<img align=\"right\" src=\"https://ds-cs-images.s3.ap-northeast-2.amazonaws.com/Codestates_Fulllogo_Color.png\" width=100>\n",
        "\n",
        "## *DATA SCIENCE / SECTION 2 / SPRINT 3 / NOTE 1*\n",
        "\n",
        "# 📝 Assignment\n",
        "---\n",
        "# Choose your ML problems\n",
        "\n",
        "이번 스프린트에서는 포트폴리오 프로젝트를 위해 수강생 각자가 정한 데이터셋을 사용하여 과제를 수행합니다. 프로젝트를 위한 데이터를 최종 선택하기 전에 여러 가능한 데이터세트를 살펴보고 간단한 모델까지 학습해 보는 것을 추천드립니다."
      ]
    },
    {
      "cell_type": "markdown",
      "metadata": {
        "id": "sHWvwWye8sxH"
      },
      "source": [
        "### 1) 타겟으로 사용할 특성을 선택합니다.\n",
        "- **(객관식) 다음 중 설명이 올바른 항목을 선택하고 과제 제출폼에 제출하세요.**\n",
        "    - 특성 3개를 사용해 가장 성능이 좋은 모델 A를 만들고 또 특성 5개를 사용해 최적의 모델 B를 학습하였습니다. 이때 모델 A에서 선택된 특성은 A1, A2, A3 입니다.\n",
        "    1. 최적의 모델 B에는 특성 A1, A2, A3가 항상 선택됩니다.\n",
        "    2. 최적의 모델 B 학습시 특성 A1, A2, A3는 전혀 사용되지 않습니다.\n",
        "    3. 최적의 모델 B에 특성 A1, A2, A3가 선택될지 알 수 없습니다."
      ]
    },
    {
      "cell_type": "markdown",
      "metadata": {
        "id": "4VFOUElMWQEF"
      },
      "source": [
        "### 최적의 모델 B에 특성 A1, A2, A3가 선택될지 알 수 없습니다."
      ]
    },
    {
      "cell_type": "code",
      "metadata": {
        "id": "AEFMzlSxgoiN"
      },
      "source": [
        "import pandas as pd\n",
        "\n",
        "y20181 = '2018년도_학년별·학급별 학생수 (1).csv'\n",
        "y20182 = '2018년도_학년별·학급별 학생수.csv'\n",
        "y20191 = '2019년도_학년별·학급별 학생수 (1).csv'\n",
        "y20192 = '2019년도_학년별·학급별 학생수.csv'\n",
        "y20201 = '2020년도_학년별·학급별 학생수 (1).csv'\n",
        "y20202 = '2020년도_학년별·학급별 학생수.csv'\n",
        "y20211 = '2021년도_학년별·학급별 학생수 (1).csv'\n",
        "y20212 = '2021년도_학년별·학급별 학생수.csv'\n",
        "\n",
        "list1 = [y20181, y20182, y20191, y20192, y20201, y20202, y20211, y20212]\n",
        "d = {}\n",
        "for _, i in enumerate(list1):\n",
        "    file_name = \"df\" + str(_)\n",
        "    d[file_name] = pd.read_csv(i)"
      ],
      "execution_count": null,
      "outputs": []
    },
    {
      "cell_type": "code",
      "metadata": {
        "id": "f2kLeo3slnwe"
      },
      "source": [
        "df0 = pd.DataFrame.from_dict(d['df0'])\n",
        "df1 = pd.DataFrame.from_dict(d['df1'])\n",
        "df2 = pd.DataFrame.from_dict(d['df2'])\n",
        "df3 = pd.DataFrame.from_dict(d['df3'])\n",
        "df4 = pd.DataFrame.from_dict(d['df4'])\n",
        "df5 = pd.DataFrame.from_dict(d['df5'])\n",
        "df6 = pd.DataFrame.from_dict(d['df6'])\n",
        "df7 = pd.DataFrame.from_dict(d['df7'])"
      ],
      "execution_count": null,
      "outputs": []
    },
    {
      "cell_type": "code",
      "metadata": {
        "colab": {
          "base_uri": "https://localhost:8080/"
        },
        "id": "VN4aSiVKUPZl",
        "outputId": "c3080e26-3013-4110-9b85-6c6b297dbf56"
      },
      "source": [
        "df0.columns"
      ],
      "execution_count": null,
      "outputs": [
        {
          "output_type": "execute_result",
          "data": {
            "text/plain": [
              "Index(['시도교육청', '지역교육청', '지역', '정보공시 학교코드', '학교명', '학교급코드', '설립구분', '제외여부',\n",
              "       '제외사유', '1학년 학급수', '1학년 학생수', '1학년 학급당 학생수', '2학년 학급수', '2학년 학생수',\n",
              "       '2학년 학급당 학생수', '3학년 학급수', '3학년 학생수', '3학년 학급당 학생수', '특수학급 학급수',\n",
              "       '특수학급 학생수', '특수학급 학급당 학생수', '순회학급 학급수', '순회학급 학생수', '순회학급 학급당 학생수',\n",
              "       '학급수(계)', '학생수(계)', '학급당 학생수(계)', '교사수', '수업교원 1인당 학생수'],\n",
              "      dtype='object')"
            ]
          },
          "metadata": {
            "tags": []
          },
          "execution_count": 23
        }
      ]
    },
    {
      "cell_type": "code",
      "metadata": {
        "id": "ZvIhCMjGpn5B"
      },
      "source": [
        "list2 = [df0, df1, df2, df3, df4, df5, df6, df7]\n",
        "columns = ['지역', '학교명','학교급코드','1학년 학급수', '1학년 학생수', '1학년 학급당 학생수', '2학년 학급수', '2학년 학생수',\n",
        "       '2학년 학급당 학생수', '3학년 학급수', '3학년 학생수', '3학년 학급당 학생수', '특수학급 학급수',\n",
        "       '특수학급 학생수', '특수학급 학급당 학생수', '순회학급 학급수', '순회학급 학생수', '순회학급 학급당 학생수',\n",
        "       '학급수(계)', '학생수(계)', '학급당 학생수(계)', '교사수', '수업교원 1인당 학생수']\n",
        "def clean(df):\n",
        "    df = df.copy()\n",
        "    df= df[columns]\n",
        "    return df\n",
        "\n",
        "df0 = clean(df0)\n",
        "df1 = clean(df1)\n",
        "df2 = clean(df2)\n",
        "df3 = clean(df3)\n",
        "df4 = clean(df4)\n",
        "df5 = clean(df5)\n",
        "df6 = clean(df6)\n",
        "df7 = clean(df7)\n"
      ],
      "execution_count": null,
      "outputs": []
    },
    {
      "cell_type": "code",
      "metadata": {
        "id": "0kypA9Gpu2oc"
      },
      "source": [
        "y18 = pd.concat([df0, df1]).reset_index().iloc[:, 1:]\n",
        "y19 = pd.concat([df2, df3]).reset_index().iloc[:, 1:]\n",
        "y20 = pd.concat([df4, df5]).reset_index().iloc[:, 1:]\n",
        "y21 = pd.concat([df6, df7]).reset_index().iloc[:, 1:]"
      ],
      "execution_count": null,
      "outputs": []
    },
    {
      "cell_type": "code",
      "metadata": {
        "id": "JRPbaSNyCdJg"
      },
      "source": [
        "y21['집계년도']=2021"
      ],
      "execution_count": null,
      "outputs": []
    },
    {
      "cell_type": "code",
      "metadata": {
        "id": "bb-MBzfbFp0o"
      },
      "source": [
        "'''\n",
        "y18 = y18.rename(columns = {'1학년 학생수' : '18신입생',\n",
        "                '학급수(계)' : '18학급수',\n",
        "                '학생수(계)' : '18총학생',\n",
        "                '교사수' : '18교사수'}, inplace = False)\n",
        "\n",
        "y19 = y19.rename(columns = {'1학년 학생수' : '19신입생',\n",
        "                '학급수(계)' : '19학급수',\n",
        "                '학생수(계)' : '19총학생',\n",
        "                '교사수' : '19교사수'}, inplace = False)\n",
        "\n",
        "y20 = y20.rename(columns = {'1학년 학생수' : '20신입생',\n",
        "                '학급수(계)' : '20학급수',\n",
        "                '학생수(계)' : '20총학생',\n",
        "                '교사수' : '20교사수'}, inplace = False)\n",
        "\n",
        "y21 = y21.rename(columns = {'1학년 학생수' : '21신입생',\n",
        "                '학급수(계)' : '21학급수',\n",
        "                '학생수(계)' : '21총학생',\n",
        "                '교사수' : '21교사수'}, inplace = False)\n",
        "'''\n",
        "y20.to_csv('2020학생수.csv', index=False)\n",
        "y19.to_csv('2019학생수.csv', index=False)\n",
        "y18.to_csv('2018학생수.csv', index=False)"
      ],
      "execution_count": null,
      "outputs": []
    },
    {
      "cell_type": "code",
      "metadata": {
        "colab": {
          "base_uri": "https://localhost:8080/",
          "height": 1000
        },
        "id": "7DdA7yvCzEbw",
        "outputId": "7922f059-aa75-4112-e309-b95e227bee4e"
      },
      "source": [
        "y20"
      ],
      "execution_count": null,
      "outputs": [
        {
          "output_type": "execute_result",
          "data": {
            "text/html": [
              "<div>\n",
              "<style scoped>\n",
              "    .dataframe tbody tr th:only-of-type {\n",
              "        vertical-align: middle;\n",
              "    }\n",
              "\n",
              "    .dataframe tbody tr th {\n",
              "        vertical-align: top;\n",
              "    }\n",
              "\n",
              "    .dataframe thead th {\n",
              "        text-align: right;\n",
              "    }\n",
              "</style>\n",
              "<table border=\"1\" class=\"dataframe\">\n",
              "  <thead>\n",
              "    <tr style=\"text-align: right;\">\n",
              "      <th></th>\n",
              "      <th>지역</th>\n",
              "      <th>학교명</th>\n",
              "      <th>학교급코드</th>\n",
              "      <th>1학년 학급수</th>\n",
              "      <th>1학년 학생수</th>\n",
              "      <th>1학년 학급당 학생수</th>\n",
              "      <th>2학년 학급수</th>\n",
              "      <th>2학년 학생수</th>\n",
              "      <th>2학년 학급당 학생수</th>\n",
              "      <th>3학년 학급수</th>\n",
              "      <th>3학년 학생수</th>\n",
              "      <th>3학년 학급당 학생수</th>\n",
              "      <th>특수학급 학급수</th>\n",
              "      <th>특수학급 학생수</th>\n",
              "      <th>특수학급 학급당 학생수</th>\n",
              "      <th>순회학급 학급수</th>\n",
              "      <th>순회학급 학생수</th>\n",
              "      <th>순회학급 학급당 학생수</th>\n",
              "      <th>학급수(계)</th>\n",
              "      <th>학생수(계)</th>\n",
              "      <th>학급당 학생수(계)</th>\n",
              "      <th>교사수</th>\n",
              "      <th>수업교원 1인당 학생수</th>\n",
              "    </tr>\n",
              "  </thead>\n",
              "  <tbody>\n",
              "    <tr>\n",
              "      <th>0</th>\n",
              "      <td>서울특별시 강남구</td>\n",
              "      <td>국립국악고등학교</td>\n",
              "      <td>4</td>\n",
              "      <td>5</td>\n",
              "      <td>147</td>\n",
              "      <td>29.4</td>\n",
              "      <td>5</td>\n",
              "      <td>148</td>\n",
              "      <td>29.6</td>\n",
              "      <td>5</td>\n",
              "      <td>148</td>\n",
              "      <td>29.6</td>\n",
              "      <td>0</td>\n",
              "      <td>0</td>\n",
              "      <td>0.0</td>\n",
              "      <td>0</td>\n",
              "      <td>0</td>\n",
              "      <td>0.0</td>\n",
              "      <td>15</td>\n",
              "      <td>443</td>\n",
              "      <td>29.5</td>\n",
              "      <td>40</td>\n",
              "      <td>11.1</td>\n",
              "    </tr>\n",
              "    <tr>\n",
              "      <th>1</th>\n",
              "      <td>서울특별시 성북구</td>\n",
              "      <td>서울대학교사범대학부설고등학교</td>\n",
              "      <td>4</td>\n",
              "      <td>8</td>\n",
              "      <td>223</td>\n",
              "      <td>27.9</td>\n",
              "      <td>8</td>\n",
              "      <td>243</td>\n",
              "      <td>30.4</td>\n",
              "      <td>8</td>\n",
              "      <td>226</td>\n",
              "      <td>28.3</td>\n",
              "      <td>3</td>\n",
              "      <td>25</td>\n",
              "      <td>8.3</td>\n",
              "      <td>0</td>\n",
              "      <td>0</td>\n",
              "      <td>0.0</td>\n",
              "      <td>27</td>\n",
              "      <td>717</td>\n",
              "      <td>26.6</td>\n",
              "      <td>62</td>\n",
              "      <td>11.6</td>\n",
              "    </tr>\n",
              "    <tr>\n",
              "      <th>2</th>\n",
              "      <td>서울특별시 금천구</td>\n",
              "      <td>국립전통예술고등학교</td>\n",
              "      <td>4</td>\n",
              "      <td>6</td>\n",
              "      <td>180</td>\n",
              "      <td>30.0</td>\n",
              "      <td>6</td>\n",
              "      <td>175</td>\n",
              "      <td>29.2</td>\n",
              "      <td>6</td>\n",
              "      <td>172</td>\n",
              "      <td>28.7</td>\n",
              "      <td>0</td>\n",
              "      <td>0</td>\n",
              "      <td>0.0</td>\n",
              "      <td>0</td>\n",
              "      <td>0</td>\n",
              "      <td>0.0</td>\n",
              "      <td>18</td>\n",
              "      <td>527</td>\n",
              "      <td>29.3</td>\n",
              "      <td>40</td>\n",
              "      <td>13.2</td>\n",
              "    </tr>\n",
              "    <tr>\n",
              "      <th>3</th>\n",
              "      <td>서울특별시 송파구</td>\n",
              "      <td>가락고등학교</td>\n",
              "      <td>4</td>\n",
              "      <td>11</td>\n",
              "      <td>281</td>\n",
              "      <td>25.5</td>\n",
              "      <td>11</td>\n",
              "      <td>285</td>\n",
              "      <td>25.9</td>\n",
              "      <td>11</td>\n",
              "      <td>257</td>\n",
              "      <td>23.4</td>\n",
              "      <td>0</td>\n",
              "      <td>0</td>\n",
              "      <td>0.0</td>\n",
              "      <td>0</td>\n",
              "      <td>0</td>\n",
              "      <td>0.0</td>\n",
              "      <td>33</td>\n",
              "      <td>823</td>\n",
              "      <td>24.9</td>\n",
              "      <td>65</td>\n",
              "      <td>12.7</td>\n",
              "    </tr>\n",
              "    <tr>\n",
              "      <th>4</th>\n",
              "      <td>서울특별시 강동구</td>\n",
              "      <td>강동고등학교</td>\n",
              "      <td>4</td>\n",
              "      <td>8</td>\n",
              "      <td>209</td>\n",
              "      <td>26.1</td>\n",
              "      <td>8</td>\n",
              "      <td>211</td>\n",
              "      <td>26.4</td>\n",
              "      <td>8</td>\n",
              "      <td>189</td>\n",
              "      <td>23.6</td>\n",
              "      <td>0</td>\n",
              "      <td>0</td>\n",
              "      <td>0.0</td>\n",
              "      <td>0</td>\n",
              "      <td>0</td>\n",
              "      <td>0.0</td>\n",
              "      <td>24</td>\n",
              "      <td>609</td>\n",
              "      <td>25.4</td>\n",
              "      <td>46</td>\n",
              "      <td>13.2</td>\n",
              "    </tr>\n",
              "    <tr>\n",
              "      <th>...</th>\n",
              "      <td>...</td>\n",
              "      <td>...</td>\n",
              "      <td>...</td>\n",
              "      <td>...</td>\n",
              "      <td>...</td>\n",
              "      <td>...</td>\n",
              "      <td>...</td>\n",
              "      <td>...</td>\n",
              "      <td>...</td>\n",
              "      <td>...</td>\n",
              "      <td>...</td>\n",
              "      <td>...</td>\n",
              "      <td>...</td>\n",
              "      <td>...</td>\n",
              "      <td>...</td>\n",
              "      <td>...</td>\n",
              "      <td>...</td>\n",
              "      <td>...</td>\n",
              "      <td>...</td>\n",
              "      <td>...</td>\n",
              "      <td>...</td>\n",
              "      <td>...</td>\n",
              "      <td>...</td>\n",
              "    </tr>\n",
              "    <tr>\n",
              "      <th>5666</th>\n",
              "      <td>제주특별자치도 제주시</td>\n",
              "      <td>한라중학교</td>\n",
              "      <td>3</td>\n",
              "      <td>14</td>\n",
              "      <td>440</td>\n",
              "      <td>31.4</td>\n",
              "      <td>12</td>\n",
              "      <td>367</td>\n",
              "      <td>30.6</td>\n",
              "      <td>13</td>\n",
              "      <td>397</td>\n",
              "      <td>30.5</td>\n",
              "      <td>1</td>\n",
              "      <td>4</td>\n",
              "      <td>4.0</td>\n",
              "      <td>0</td>\n",
              "      <td>0</td>\n",
              "      <td>0.0</td>\n",
              "      <td>40</td>\n",
              "      <td>1208</td>\n",
              "      <td>30.2</td>\n",
              "      <td>65</td>\n",
              "      <td>18.6</td>\n",
              "    </tr>\n",
              "    <tr>\n",
              "      <th>5667</th>\n",
              "      <td>제주특별자치도 제주시</td>\n",
              "      <td>노형중학교</td>\n",
              "      <td>3</td>\n",
              "      <td>13</td>\n",
              "      <td>411</td>\n",
              "      <td>31.6</td>\n",
              "      <td>13</td>\n",
              "      <td>412</td>\n",
              "      <td>31.7</td>\n",
              "      <td>12</td>\n",
              "      <td>361</td>\n",
              "      <td>30.1</td>\n",
              "      <td>2</td>\n",
              "      <td>15</td>\n",
              "      <td>7.5</td>\n",
              "      <td>0</td>\n",
              "      <td>0</td>\n",
              "      <td>0.0</td>\n",
              "      <td>40</td>\n",
              "      <td>1199</td>\n",
              "      <td>30.0</td>\n",
              "      <td>64</td>\n",
              "      <td>18.7</td>\n",
              "    </tr>\n",
              "    <tr>\n",
              "      <th>5668</th>\n",
              "      <td>제주특별자치도 제주시</td>\n",
              "      <td>오름중학교</td>\n",
              "      <td>3</td>\n",
              "      <td>10</td>\n",
              "      <td>266</td>\n",
              "      <td>26.6</td>\n",
              "      <td>8</td>\n",
              "      <td>218</td>\n",
              "      <td>27.3</td>\n",
              "      <td>8</td>\n",
              "      <td>236</td>\n",
              "      <td>29.5</td>\n",
              "      <td>1</td>\n",
              "      <td>5</td>\n",
              "      <td>5.0</td>\n",
              "      <td>0</td>\n",
              "      <td>0</td>\n",
              "      <td>0.0</td>\n",
              "      <td>27</td>\n",
              "      <td>725</td>\n",
              "      <td>26.9</td>\n",
              "      <td>46</td>\n",
              "      <td>15.8</td>\n",
              "    </tr>\n",
              "    <tr>\n",
              "      <th>5669</th>\n",
              "      <td>제주특별자치도 제주시</td>\n",
              "      <td>탐라중학교</td>\n",
              "      <td>3</td>\n",
              "      <td>12</td>\n",
              "      <td>354</td>\n",
              "      <td>29.5</td>\n",
              "      <td>9</td>\n",
              "      <td>267</td>\n",
              "      <td>29.7</td>\n",
              "      <td>8</td>\n",
              "      <td>232</td>\n",
              "      <td>29.0</td>\n",
              "      <td>2</td>\n",
              "      <td>16</td>\n",
              "      <td>8.0</td>\n",
              "      <td>0</td>\n",
              "      <td>0</td>\n",
              "      <td>0.0</td>\n",
              "      <td>31</td>\n",
              "      <td>869</td>\n",
              "      <td>28.0</td>\n",
              "      <td>49</td>\n",
              "      <td>17.7</td>\n",
              "    </tr>\n",
              "    <tr>\n",
              "      <th>5670</th>\n",
              "      <td>제주특별자치도 제주시</td>\n",
              "      <td>제주제일중학교부설방송통신중학교</td>\n",
              "      <td>25</td>\n",
              "      <td>2</td>\n",
              "      <td>40</td>\n",
              "      <td>20.0</td>\n",
              "      <td>2</td>\n",
              "      <td>41</td>\n",
              "      <td>20.5</td>\n",
              "      <td>2</td>\n",
              "      <td>39</td>\n",
              "      <td>19.5</td>\n",
              "      <td>0</td>\n",
              "      <td>0</td>\n",
              "      <td>0.0</td>\n",
              "      <td>0</td>\n",
              "      <td>0</td>\n",
              "      <td>0.0</td>\n",
              "      <td>6</td>\n",
              "      <td>120</td>\n",
              "      <td>20.0</td>\n",
              "      <td>26</td>\n",
              "      <td>4.6</td>\n",
              "    </tr>\n",
              "  </tbody>\n",
              "</table>\n",
              "<p>5671 rows × 23 columns</p>\n",
              "</div>"
            ],
            "text/plain": [
              "               지역               학교명  학교급코드  ...  학급당 학생수(계)  교사수  수업교원 1인당 학생수\n",
              "0       서울특별시 강남구          국립국악고등학교      4  ...        29.5   40          11.1\n",
              "1       서울특별시 성북구   서울대학교사범대학부설고등학교      4  ...        26.6   62          11.6\n",
              "2       서울특별시 금천구        국립전통예술고등학교      4  ...        29.3   40          13.2\n",
              "3       서울특별시 송파구            가락고등학교      4  ...        24.9   65          12.7\n",
              "4       서울특별시 강동구            강동고등학교      4  ...        25.4   46          13.2\n",
              "...           ...               ...    ...  ...         ...  ...           ...\n",
              "5666  제주특별자치도 제주시             한라중학교      3  ...        30.2   65          18.6\n",
              "5667  제주특별자치도 제주시             노형중학교      3  ...        30.0   64          18.7\n",
              "5668  제주특별자치도 제주시             오름중학교      3  ...        26.9   46          15.8\n",
              "5669  제주특별자치도 제주시             탐라중학교      3  ...        28.0   49          17.7\n",
              "5670  제주특별자치도 제주시  제주제일중학교부설방송통신중학교     25  ...        20.0   26           4.6\n",
              "\n",
              "[5671 rows x 23 columns]"
            ]
          },
          "metadata": {
            "tags": []
          },
          "execution_count": 37
        }
      ]
    },
    {
      "cell_type": "code",
      "metadata": {
        "id": "t_lSrywAAPRJ"
      },
      "source": [
        "y21.to_csv('y21.csv')"
      ],
      "execution_count": null,
      "outputs": []
    },
    {
      "cell_type": "code",
      "metadata": {
        "id": "VrhD3XuhDVst"
      },
      "source": [
        "data = pd.merge(pd.merge(y18, y19, how='outer', on=['학교명','지역','학교급코드']),y20, how='outer', on=['학교명','지역','학교급코드'])\n",
        "data.to_csv('data.csv')"
      ],
      "execution_count": null,
      "outputs": []
    },
    {
      "cell_type": "code",
      "metadata": {
        "colab": {
          "base_uri": "https://localhost:8080/",
          "height": 357
        },
        "id": "OnDxRLD_Qn8B",
        "outputId": "75705366-699e-450a-8d3b-01a487405164"
      },
      "source": [
        "dt20 = pd.DataFrame(pd.read_csv('/content/202012_202012_연령별인구현황_월간 (1).csv', encoding= 'cp949'))\n",
        "dt18 = pd.DataFrame(pd.read_csv('/content/201812_201812_연령별인구현황_월간.csv', encoding= 'cp949'))\n",
        "dt19 = pd.DataFrame(pd.read_csv('/content/201912_201912_연령별인구현황_월간.csv', encoding= 'cp949'))\n",
        "dt19.columns"
      ],
      "execution_count": null,
      "outputs": [
        {
          "output_type": "error",
          "ename": "FileNotFoundError",
          "evalue": "ignored",
          "traceback": [
            "\u001b[0;31m---------------------------------------------------------------------------\u001b[0m",
            "\u001b[0;31mFileNotFoundError\u001b[0m                         Traceback (most recent call last)",
            "\u001b[0;32m<ipython-input-30-a48500078ef7>\u001b[0m in \u001b[0;36m<module>\u001b[0;34m()\u001b[0m\n\u001b[0;32m----> 1\u001b[0;31m \u001b[0mdt20\u001b[0m \u001b[0;34m=\u001b[0m \u001b[0mpd\u001b[0m\u001b[0;34m.\u001b[0m\u001b[0mDataFrame\u001b[0m\u001b[0;34m(\u001b[0m\u001b[0mpd\u001b[0m\u001b[0;34m.\u001b[0m\u001b[0mread_csv\u001b[0m\u001b[0;34m(\u001b[0m\u001b[0;34m'/content/202012_202012_연령별인구현황_월간 (1).csv'\u001b[0m\u001b[0;34m,\u001b[0m \u001b[0mencoding\u001b[0m\u001b[0;34m=\u001b[0m \u001b[0;34m'cp949'\u001b[0m\u001b[0;34m)\u001b[0m\u001b[0;34m)\u001b[0m\u001b[0;34m\u001b[0m\u001b[0;34m\u001b[0m\u001b[0m\n\u001b[0m\u001b[1;32m      2\u001b[0m \u001b[0mdt18\u001b[0m \u001b[0;34m=\u001b[0m \u001b[0mpd\u001b[0m\u001b[0;34m.\u001b[0m\u001b[0mDataFrame\u001b[0m\u001b[0;34m(\u001b[0m\u001b[0mpd\u001b[0m\u001b[0;34m.\u001b[0m\u001b[0mread_csv\u001b[0m\u001b[0;34m(\u001b[0m\u001b[0;34m'/content/201812_201812_연령별인구현황_월간.csv'\u001b[0m\u001b[0;34m,\u001b[0m \u001b[0mencoding\u001b[0m\u001b[0;34m=\u001b[0m \u001b[0;34m'cp949'\u001b[0m\u001b[0;34m)\u001b[0m\u001b[0;34m)\u001b[0m\u001b[0;34m\u001b[0m\u001b[0;34m\u001b[0m\u001b[0m\n\u001b[1;32m      3\u001b[0m \u001b[0mdt19\u001b[0m \u001b[0;34m=\u001b[0m \u001b[0mpd\u001b[0m\u001b[0;34m.\u001b[0m\u001b[0mDataFrame\u001b[0m\u001b[0;34m(\u001b[0m\u001b[0mpd\u001b[0m\u001b[0;34m.\u001b[0m\u001b[0mread_csv\u001b[0m\u001b[0;34m(\u001b[0m\u001b[0;34m'/content/201912_201912_연령별인구현황_월간.csv'\u001b[0m\u001b[0;34m,\u001b[0m \u001b[0mencoding\u001b[0m\u001b[0;34m=\u001b[0m \u001b[0;34m'cp949'\u001b[0m\u001b[0;34m)\u001b[0m\u001b[0;34m)\u001b[0m\u001b[0;34m\u001b[0m\u001b[0;34m\u001b[0m\u001b[0m\n\u001b[1;32m      4\u001b[0m \u001b[0mdt19\u001b[0m\u001b[0;34m.\u001b[0m\u001b[0mcolumns\u001b[0m\u001b[0;34m\u001b[0m\u001b[0;34m\u001b[0m\u001b[0m\n",
            "\u001b[0;32m/usr/local/lib/python3.7/dist-packages/pandas/io/parsers.py\u001b[0m in \u001b[0;36mread_csv\u001b[0;34m(filepath_or_buffer, sep, delimiter, header, names, index_col, usecols, squeeze, prefix, mangle_dupe_cols, dtype, engine, converters, true_values, false_values, skipinitialspace, skiprows, skipfooter, nrows, na_values, keep_default_na, na_filter, verbose, skip_blank_lines, parse_dates, infer_datetime_format, keep_date_col, date_parser, dayfirst, cache_dates, iterator, chunksize, compression, thousands, decimal, lineterminator, quotechar, quoting, doublequote, escapechar, comment, encoding, dialect, error_bad_lines, warn_bad_lines, delim_whitespace, low_memory, memory_map, float_precision)\u001b[0m\n\u001b[1;32m    686\u001b[0m     )\n\u001b[1;32m    687\u001b[0m \u001b[0;34m\u001b[0m\u001b[0m\n\u001b[0;32m--> 688\u001b[0;31m     \u001b[0;32mreturn\u001b[0m \u001b[0m_read\u001b[0m\u001b[0;34m(\u001b[0m\u001b[0mfilepath_or_buffer\u001b[0m\u001b[0;34m,\u001b[0m \u001b[0mkwds\u001b[0m\u001b[0;34m)\u001b[0m\u001b[0;34m\u001b[0m\u001b[0;34m\u001b[0m\u001b[0m\n\u001b[0m\u001b[1;32m    689\u001b[0m \u001b[0;34m\u001b[0m\u001b[0m\n\u001b[1;32m    690\u001b[0m \u001b[0;34m\u001b[0m\u001b[0m\n",
            "\u001b[0;32m/usr/local/lib/python3.7/dist-packages/pandas/io/parsers.py\u001b[0m in \u001b[0;36m_read\u001b[0;34m(filepath_or_buffer, kwds)\u001b[0m\n\u001b[1;32m    452\u001b[0m \u001b[0;34m\u001b[0m\u001b[0m\n\u001b[1;32m    453\u001b[0m     \u001b[0;31m# Create the parser.\u001b[0m\u001b[0;34m\u001b[0m\u001b[0;34m\u001b[0m\u001b[0;34m\u001b[0m\u001b[0m\n\u001b[0;32m--> 454\u001b[0;31m     \u001b[0mparser\u001b[0m \u001b[0;34m=\u001b[0m \u001b[0mTextFileReader\u001b[0m\u001b[0;34m(\u001b[0m\u001b[0mfp_or_buf\u001b[0m\u001b[0;34m,\u001b[0m \u001b[0;34m**\u001b[0m\u001b[0mkwds\u001b[0m\u001b[0;34m)\u001b[0m\u001b[0;34m\u001b[0m\u001b[0;34m\u001b[0m\u001b[0m\n\u001b[0m\u001b[1;32m    455\u001b[0m \u001b[0;34m\u001b[0m\u001b[0m\n\u001b[1;32m    456\u001b[0m     \u001b[0;32mif\u001b[0m \u001b[0mchunksize\u001b[0m \u001b[0;32mor\u001b[0m \u001b[0miterator\u001b[0m\u001b[0;34m:\u001b[0m\u001b[0;34m\u001b[0m\u001b[0;34m\u001b[0m\u001b[0m\n",
            "\u001b[0;32m/usr/local/lib/python3.7/dist-packages/pandas/io/parsers.py\u001b[0m in \u001b[0;36m__init__\u001b[0;34m(self, f, engine, **kwds)\u001b[0m\n\u001b[1;32m    946\u001b[0m             \u001b[0mself\u001b[0m\u001b[0;34m.\u001b[0m\u001b[0moptions\u001b[0m\u001b[0;34m[\u001b[0m\u001b[0;34m\"has_index_names\"\u001b[0m\u001b[0;34m]\u001b[0m \u001b[0;34m=\u001b[0m \u001b[0mkwds\u001b[0m\u001b[0;34m[\u001b[0m\u001b[0;34m\"has_index_names\"\u001b[0m\u001b[0;34m]\u001b[0m\u001b[0;34m\u001b[0m\u001b[0;34m\u001b[0m\u001b[0m\n\u001b[1;32m    947\u001b[0m \u001b[0;34m\u001b[0m\u001b[0m\n\u001b[0;32m--> 948\u001b[0;31m         \u001b[0mself\u001b[0m\u001b[0;34m.\u001b[0m\u001b[0m_make_engine\u001b[0m\u001b[0;34m(\u001b[0m\u001b[0mself\u001b[0m\u001b[0;34m.\u001b[0m\u001b[0mengine\u001b[0m\u001b[0;34m)\u001b[0m\u001b[0;34m\u001b[0m\u001b[0;34m\u001b[0m\u001b[0m\n\u001b[0m\u001b[1;32m    949\u001b[0m \u001b[0;34m\u001b[0m\u001b[0m\n\u001b[1;32m    950\u001b[0m     \u001b[0;32mdef\u001b[0m \u001b[0mclose\u001b[0m\u001b[0;34m(\u001b[0m\u001b[0mself\u001b[0m\u001b[0;34m)\u001b[0m\u001b[0;34m:\u001b[0m\u001b[0;34m\u001b[0m\u001b[0;34m\u001b[0m\u001b[0m\n",
            "\u001b[0;32m/usr/local/lib/python3.7/dist-packages/pandas/io/parsers.py\u001b[0m in \u001b[0;36m_make_engine\u001b[0;34m(self, engine)\u001b[0m\n\u001b[1;32m   1178\u001b[0m     \u001b[0;32mdef\u001b[0m \u001b[0m_make_engine\u001b[0m\u001b[0;34m(\u001b[0m\u001b[0mself\u001b[0m\u001b[0;34m,\u001b[0m \u001b[0mengine\u001b[0m\u001b[0;34m=\u001b[0m\u001b[0;34m\"c\"\u001b[0m\u001b[0;34m)\u001b[0m\u001b[0;34m:\u001b[0m\u001b[0;34m\u001b[0m\u001b[0;34m\u001b[0m\u001b[0m\n\u001b[1;32m   1179\u001b[0m         \u001b[0;32mif\u001b[0m \u001b[0mengine\u001b[0m \u001b[0;34m==\u001b[0m \u001b[0;34m\"c\"\u001b[0m\u001b[0;34m:\u001b[0m\u001b[0;34m\u001b[0m\u001b[0;34m\u001b[0m\u001b[0m\n\u001b[0;32m-> 1180\u001b[0;31m             \u001b[0mself\u001b[0m\u001b[0;34m.\u001b[0m\u001b[0m_engine\u001b[0m \u001b[0;34m=\u001b[0m \u001b[0mCParserWrapper\u001b[0m\u001b[0;34m(\u001b[0m\u001b[0mself\u001b[0m\u001b[0;34m.\u001b[0m\u001b[0mf\u001b[0m\u001b[0;34m,\u001b[0m \u001b[0;34m**\u001b[0m\u001b[0mself\u001b[0m\u001b[0;34m.\u001b[0m\u001b[0moptions\u001b[0m\u001b[0;34m)\u001b[0m\u001b[0;34m\u001b[0m\u001b[0;34m\u001b[0m\u001b[0m\n\u001b[0m\u001b[1;32m   1181\u001b[0m         \u001b[0;32melse\u001b[0m\u001b[0;34m:\u001b[0m\u001b[0;34m\u001b[0m\u001b[0;34m\u001b[0m\u001b[0m\n\u001b[1;32m   1182\u001b[0m             \u001b[0;32mif\u001b[0m \u001b[0mengine\u001b[0m \u001b[0;34m==\u001b[0m \u001b[0;34m\"python\"\u001b[0m\u001b[0;34m:\u001b[0m\u001b[0;34m\u001b[0m\u001b[0;34m\u001b[0m\u001b[0m\n",
            "\u001b[0;32m/usr/local/lib/python3.7/dist-packages/pandas/io/parsers.py\u001b[0m in \u001b[0;36m__init__\u001b[0;34m(self, src, **kwds)\u001b[0m\n\u001b[1;32m   1991\u001b[0m         \u001b[0;32mif\u001b[0m \u001b[0mkwds\u001b[0m\u001b[0;34m.\u001b[0m\u001b[0mget\u001b[0m\u001b[0;34m(\u001b[0m\u001b[0;34m\"compression\"\u001b[0m\u001b[0;34m)\u001b[0m \u001b[0;32mis\u001b[0m \u001b[0;32mNone\u001b[0m \u001b[0;32mand\u001b[0m \u001b[0mencoding\u001b[0m\u001b[0;34m:\u001b[0m\u001b[0;34m\u001b[0m\u001b[0;34m\u001b[0m\u001b[0m\n\u001b[1;32m   1992\u001b[0m             \u001b[0;32mif\u001b[0m \u001b[0misinstance\u001b[0m\u001b[0;34m(\u001b[0m\u001b[0msrc\u001b[0m\u001b[0;34m,\u001b[0m \u001b[0mstr\u001b[0m\u001b[0;34m)\u001b[0m\u001b[0;34m:\u001b[0m\u001b[0;34m\u001b[0m\u001b[0;34m\u001b[0m\u001b[0m\n\u001b[0;32m-> 1993\u001b[0;31m                 \u001b[0msrc\u001b[0m \u001b[0;34m=\u001b[0m \u001b[0mopen\u001b[0m\u001b[0;34m(\u001b[0m\u001b[0msrc\u001b[0m\u001b[0;34m,\u001b[0m \u001b[0;34m\"rb\"\u001b[0m\u001b[0;34m)\u001b[0m\u001b[0;34m\u001b[0m\u001b[0;34m\u001b[0m\u001b[0m\n\u001b[0m\u001b[1;32m   1994\u001b[0m                 \u001b[0mself\u001b[0m\u001b[0;34m.\u001b[0m\u001b[0mhandles\u001b[0m\u001b[0;34m.\u001b[0m\u001b[0mappend\u001b[0m\u001b[0;34m(\u001b[0m\u001b[0msrc\u001b[0m\u001b[0;34m)\u001b[0m\u001b[0;34m\u001b[0m\u001b[0;34m\u001b[0m\u001b[0m\n\u001b[1;32m   1995\u001b[0m \u001b[0;34m\u001b[0m\u001b[0m\n",
            "\u001b[0;31mFileNotFoundError\u001b[0m: [Errno 2] No such file or directory: '/content/202012_202012_연령별인구현황_월간 (1).csv'"
          ]
        }
      ]
    },
    {
      "cell_type": "code",
      "metadata": {
        "id": "YZcFygjkUHkS"
      },
      "source": [
        "col = ['행정구역', '2020년12월_거주자_총인구수', '2020년12월_거주자_연령구간인구수', \n",
        "       '2020년12월_거주자_12세', '2020년12월_거주자_16세']\n",
        "col2 = ['행정구역', '2018년12월_계_총인구수', '2018년12월_계_연령구간인구수', \n",
        "        '2018년12월_계_12세', '2018년12월_계_16세'] \n",
        "col3 = ['행정구역', '2019년12월_계_총인구수', '2019년12월_계_연령구간인구수', \n",
        "        '2019년12월_계_12세', '2019년12월_계_16세']            \n",
        "people20, people19, people18 = dt20.copy(), dt19.copy(), dt18.copy()\n",
        "people20, people19, people18 = people20[col], people19[col3], people18[col2]\n",
        "people18"
      ],
      "execution_count": null,
      "outputs": []
    },
    {
      "cell_type": "code",
      "metadata": {
        "id": "xpuloybOY79A"
      },
      "source": [
        "people20 = people20.rename(columns = {'행정구역':'지역',\n",
        "                                      '2020년12월_거주자_총인구수' : '20총인구수', \n",
        "                                  '2020년12월_거주자_연령구간인구수' : '20청소년수',\n",
        "                                  '2020년12월_거주자_12세' : '20중입학인구', \n",
        "                                  '2020년12월_거주자_16세' : '20고입학인구'}, inplace = False)\n",
        "people18 = people18.rename(columns = {'행정구역':'지역',\n",
        "                                      '2018년12월_계_총인구수' : '18총인구수', \n",
        "                                   '2018년12월_계_연령구간인구수' : '18청소년수',\n",
        "                                   '2018년12월_계_12세' : '18중입학인구', \n",
        "                                   '2018년12월_계_16세' : '18고입학인구'}, inplace = False)\n",
        "people19 = people19.rename(columns = {'행정구역':'지역',\n",
        "                                      '2019년12월_계_총인구수' : '19총인구수', \n",
        "                                   '2019년12월_계_연령구간인구수' : '19청소년수',\n",
        "                                   '2019년12월_계_12세' : '19중입학인구', \n",
        "                                   '2019년12월_계_16세' : '19고입학인구'}, inplace = False)\n",
        "\n"
      ],
      "execution_count": null,
      "outputs": []
    },
    {
      "cell_type": "code",
      "metadata": {
        "id": "kB_7b32nZ0uQ"
      },
      "source": [
        "def indexname(x):\n",
        "  name = str(x).split()\n",
        "  name = name[:-1]\n",
        "  return ' '.join(name)\n",
        "\n",
        "people20['지역'] = people20['지역'].apply(indexname)\n",
        "people18['지역'] = people18['지역'].apply(indexname)\n",
        "people19['지역'] = people19['지역'].apply(indexname)\n",
        "people19"
      ],
      "execution_count": null,
      "outputs": []
    },
    {
      "cell_type": "code",
      "metadata": {
        "id": "a3S8DtI8z7cV"
      },
      "source": [
        "data2 = pd.merge(pd.merge(people18, people19, how='inner', on=['지역']),people20, how='inner', on=['지역'])\n",
        "data2"
      ],
      "execution_count": null,
      "outputs": []
    },
    {
      "cell_type": "code",
      "metadata": {
        "id": "CmiUzik30feJ"
      },
      "source": [
        "data3 = pd.merge(data, data2, how='outer', on=['지역'])\n",
        "data3 = data3[:5712]\n",
        "data3.shape"
      ],
      "execution_count": null,
      "outputs": []
    },
    {
      "cell_type": "code",
      "metadata": {
        "id": "QV92_Dslr2jp"
      },
      "source": [
        "data3['폐교1'] = data3['19신입생'].isna()\n",
        "data3['폐교2'] = data3['20신입생'].isna()"
      ],
      "execution_count": null,
      "outputs": []
    },
    {
      "cell_type": "code",
      "metadata": {
        "id": "2qa2xDn8Pst1"
      },
      "source": [
        "data3"
      ],
      "execution_count": null,
      "outputs": []
    },
    {
      "cell_type": "code",
      "metadata": {
        "id": "hy6A0MQG_5SW"
      },
      "source": [
        "dt = pd.DataFrame(pd.read_csv('/content/시도교육청_폐교목록.xls.csv'))\n",
        "dt['급별'] = dt['급별'].replace(['중','고'],[3,4])\n",
        "dt.head()"
      ],
      "execution_count": null,
      "outputs": []
    },
    {
      "cell_type": "code",
      "metadata": {
        "id": "JIdCyTxsHA5C"
      },
      "source": [
        "close_list = ['반송중', '동삼중학교', '삼락중학교', '서진중학교', '죽전중학교', '볼음분교',\n",
        "       '대광중학교', '군서중학교', '기흥중학교', '부천북여중학교', '부천북중학교', '소달중학교',\n",
        "       '상촌중', '용문중', '결성중', '장평중', '청남중', '삼례여중학교', '약수중',\n",
        "       '순천승남중외서분교', '함평여자고등학교', '경주마케팅고등학교', '금성여자상업고', '상옥분교',\n",
        "       '녹전분교', '김천상고', '도산중학교', '소천고등학교', '와룡분교', '인계분교',\n",
        "       '입암분교', '우산중', '울릉북중', '울릉서중', '임동중', '평해여중',\n",
        "       '대곡중학교', '창북중학교', '경호중', '고현중', '구산분교', '남수중학교',\n",
        "       '물건중학교', '법수중학교', '산청중학교', '차황분교', '상동중학교', '생초고',\n",
        "       '생초중학교']\n",
        "\n",
        "def find(name):\n",
        "  X = data3[data3['학교명'].str.contains(name)]\n",
        "  return X\n",
        "\n",
        "final = []\n",
        "\n",
        "for i in close_list:\n",
        "    a = find(i)\n",
        "    final.append(a)\n",
        "\n",
        "close = pd.concat(final)\n",
        "close.shape"
      ],
      "execution_count": null,
      "outputs": []
    },
    {
      "cell_type": "code",
      "metadata": {
        "id": "xaIpLTZIMzAH"
      },
      "source": [
        "close"
      ],
      "execution_count": null,
      "outputs": []
    },
    {
      "cell_type": "markdown",
      "metadata": {
        "id": "5rLCRQjN8sxJ"
      },
      "source": [
        "### 2) 풀고자 하는 문제가 분류/회귀 문제인지 정합니다.\n",
        "- **(객관식) 다음 설명 중 가장 틀린 항목을 선택하고 과제 제출폼에 제출하세요.**\n",
        "    1. 특정한 종목의 다음날 주식 종가를 예측하는 문제는 Supervised Learning 문제이다.\n",
        "    2. 다음날 KOSPI 지수가 증가할지 감소할지 예측하는 문제는 Classification 문제이다.\n",
        "    3. 축구 경기 도중에 승패를 예측하는 모델을 만들기 위해서는 실시간 통계 정보와 경기마다 승패 데이터가 필요하다.\n",
        "    4. 이번 시즌 토트넘 선수들의 개인 통계 데이터(슛, 도움, ...)를 사용해서 다음 토트넘 경기의 승패를 예측할 수 있다.\n",
        "   "
      ]
    },
    {
      "cell_type": "markdown",
      "metadata": {
        "id": "dsJ36bY-WbSs"
      },
      "source": [
        "####이번 시즌 토트넘 선수들의 개인 통계 데이터(슛, 도움, ...)를 사용해서 다음 토트넘 경기의 승패를 예측할 수 있다."
      ]
    },
    {
      "cell_type": "markdown",
      "metadata": {
        "id": "_LSQALsI8sxK"
      },
      "source": [
        "### 3) 타겟의 분포를 분석하고 사용할 평가지표를 선택합니다. 평가지표를 선택한 이유를 설명하세요.\n",
        "- 분류: 클래스가 몇 개인지? 클래스 비율이 어떤지(balance or imbalance)\n",
        "- 회귀: 타겟 분포가 right-skewed 인지? log-transform을 사용할 것인지?\n",
        "- 분류: 다수 클래스(majority class) 비율이 50%~70% 인 경우 정확도(accuracy)만 사용해도 무방합니다. 하지만 범위를 넘어설 경우 정확도만을 사용해서는 모델을 잘못 이해할 수 있습니다. 어떤 평가지표를 사용해야 할까요?\n",
        "- 회귀: MAE, RMSE, R^2 등을 사용할 수 있습니다.\n",
        "- **(객관식) 같은 데이터로 스팸을 예측하는 모델 A와 B를 만들었습니다. 다음 설명 중 가장 올바른 항목을 선택하고 과제 제출폼에 제출하세요.**\n",
        "    1. A의 재현율은 80%이고 B의 재현율은 60%일 때 A가 더 좋은 모델이다.\n",
        "    2. A의 정밀도는 80%이고 B의 정밀도는 60%일 때 A가 더 좋은 모델이다.\n",
        "    3. A는 B보다 정밀도는 높지만 재현율은 낮다. A가 더 좋은 모델이다.\n",
        "    4. A는 B보다 재현율은 높지만, 정밀도는 낮다. A가 더 좋은 모델이다.\n",
        "    5. A는 B보다 정밀도, 재현율 모두 높다. A가 더 좋은 모델이다."
      ]
    },
    {
      "cell_type": "markdown",
      "metadata": {
        "id": "wQ2a3XF4WnCf"
      },
      "source": [
        "### A는 B보다 정밀도, 재현율 모두 높다. A가 더 좋은 모델이다."
      ]
    },
    {
      "cell_type": "markdown",
      "metadata": {
        "id": "Q7_9kYqDWlxt"
      },
      "source": [
        ""
      ]
    },
    {
      "cell_type": "markdown",
      "metadata": {
        "id": "amDJZ3h58sxL"
      },
      "source": [
        "## 🔥 도전과제"
      ]
    },
    {
      "cell_type": "markdown",
      "metadata": {
        "id": "ouvUSRf_8sxM"
      },
      "source": [
        "### 4) 데이터를 훈련/검증/테스트 데이터로 나누고 전처리를 수행합니다. 그리고 간단한 모델을 사용해서 학습을 수행합니다.\n",
        "- 이상치(outliers)가 있다면 어떻게 처리할 것인지 설명합니다.\n",
        "- 무작위로 or 시간에 따라 데이터를 나눌 것인지 설명합니다.\n",
        "- 모델 학습 결과를 리포팅 합니다.\n",
        "- 정보 누수(leakage)가 있는지 확인해 봅니다."
      ]
    },
    {
      "cell_type": "code",
      "metadata": {
        "id": "w9sHh-C28sxM"
      },
      "source": [
        "### 이곳에서 과제를 진행해 주세요 ### "
      ],
      "execution_count": null,
      "outputs": []
    }
  ]
}