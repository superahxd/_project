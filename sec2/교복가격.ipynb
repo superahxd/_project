{
  "nbformat": 4,
  "nbformat_minor": 0,
  "metadata": {
    "colab": {
      "name": "교복가격.ipynb",
      "provenance": [],
      "authorship_tag": "ABX9TyOh1Vi7bQ5YK6Gk7woUwx30",
      "include_colab_link": true
    },
    "kernelspec": {
      "name": "python3",
      "display_name": "Python 3"
    },
    "language_info": {
      "name": "python"
    }
  },
  "cells": [
    {
      "cell_type": "markdown",
      "metadata": {
        "id": "view-in-github",
        "colab_type": "text"
      },
      "source": [
        "<a href=\"https://colab.research.google.com/github/superahxd/_project/blob/main/sec2/%EA%B5%90%EB%B3%B5%EA%B0%80%EA%B2%A9.ipynb\" target=\"_parent\"><img src=\"https://colab.research.google.com/assets/colab-badge.svg\" alt=\"Open In Colab\"/></a>"
      ]
    },
    {
      "cell_type": "code",
      "metadata": {
        "id": "EqxIzLPwAcj9"
      },
      "source": [
        "import pandas as pd\n",
        "\n",
        "y20181 = '/content/2018년도_교복 구매 유형 및 단가 (1).csv'\n",
        "y20182 = '/content/2018년도_교복 구매 유형 및 단가.csv'\n",
        "y20191 = '/content/2019년도_교복 구매 유형 및 단가 (1).csv'\n",
        "y20192 = '/content/2019년도_교복 구매 유형 및 단가.csv'\n",
        "y20201 = '/content/2020년도_교복 구매 유형 및 단가 (1).csv'\n",
        "y20202 = '/content/2020년도_교복 구매 유형 및 단가.csv'\n",
        "\n",
        "list1 = [y20181, y20182, y20191, y20192, y20201, y20202]\n",
        "d = {}\n",
        "for _, i in enumerate(list1):\n",
        "    file_name = \"df\" + str(_)\n",
        "    d[file_name] = pd.read_csv(i)"
      ],
      "execution_count": 1,
      "outputs": []
    },
    {
      "cell_type": "code",
      "metadata": {
        "id": "ynjzsGByA0oM"
      },
      "source": [
        "df0 = pd.DataFrame.from_dict(d['df0'])\n",
        "df1 = pd.DataFrame.from_dict(d['df1'])\n",
        "df2 = pd.DataFrame.from_dict(d['df2'])\n",
        "df3 = pd.DataFrame.from_dict(d['df3'])\n",
        "df4 = pd.DataFrame.from_dict(d['df4'])\n",
        "df5 = pd.DataFrame.from_dict(d['df5'])"
      ],
      "execution_count": 2,
      "outputs": []
    },
    {
      "cell_type": "code",
      "metadata": {
        "colab": {
          "base_uri": "https://localhost:8080/",
          "height": 351
        },
        "id": "OJSx1CdJA8RF",
        "outputId": "987993a3-761c-4e00-ebf9-619543ade11b"
      },
      "source": [
        "df0.head(1)"
      ],
      "execution_count": 4,
      "outputs": [
        {
          "output_type": "execute_result",
          "data": {
            "text/html": [
              "<div>\n",
              "<style scoped>\n",
              "    .dataframe tbody tr th:only-of-type {\n",
              "        vertical-align: middle;\n",
              "    }\n",
              "\n",
              "    .dataframe tbody tr th {\n",
              "        vertical-align: top;\n",
              "    }\n",
              "\n",
              "    .dataframe thead th {\n",
              "        text-align: right;\n",
              "    }\n",
              "</style>\n",
              "<table border=\"1\" class=\"dataframe\">\n",
              "  <thead>\n",
              "    <tr style=\"text-align: right;\">\n",
              "      <th></th>\n",
              "      <th>시도교육청</th>\n",
              "      <th>지역교육청</th>\n",
              "      <th>지역</th>\n",
              "      <th>정보공시 학교코드</th>\n",
              "      <th>학교명</th>\n",
              "      <th>학교급코드</th>\n",
              "      <th>설립구분</th>\n",
              "      <th>제외여부</th>\n",
              "      <th>제외사유</th>\n",
              "      <th>동복구매방식(학교주관구매)</th>\n",
              "      <th>동복구매방식(공동구매)</th>\n",
              "      <th>동복구매방식(개별구매)</th>\n",
              "      <th>동복구매방식(기타)</th>\n",
              "      <th>동복구매방식(기타사유)</th>\n",
              "      <th>동복구매방식(해당없음)</th>\n",
              "      <th>동복(평균)가격</th>\n",
              "      <th>하복구매방식(학교주관구매)</th>\n",
              "      <th>하복구매방식(공동구매)</th>\n",
              "      <th>하복구매방식(개별구매)</th>\n",
              "      <th>하복구매방식(기타)</th>\n",
              "      <th>하복구매방식(기타사유)</th>\n",
              "      <th>하복구매방식(해당없음)</th>\n",
              "      <th>하복(평균)가격</th>\n",
              "    </tr>\n",
              "  </thead>\n",
              "  <tbody>\n",
              "    <tr>\n",
              "      <th>0</th>\n",
              "      <td>서울특별시교육청</td>\n",
              "      <td>교육부</td>\n",
              "      <td>서울특별시 강남구</td>\n",
              "      <td>S000003540</td>\n",
              "      <td>국립국악고등학교</td>\n",
              "      <td>4</td>\n",
              "      <td>국립</td>\n",
              "      <td>N</td>\n",
              "      <td>NaN</td>\n",
              "      <td>NaN</td>\n",
              "      <td>○</td>\n",
              "      <td>NaN</td>\n",
              "      <td>NaN</td>\n",
              "      <td>NaN</td>\n",
              "      <td>NaN</td>\n",
              "      <td>204000.0</td>\n",
              "      <td>NaN</td>\n",
              "      <td>○</td>\n",
              "      <td>NaN</td>\n",
              "      <td>NaN</td>\n",
              "      <td>NaN</td>\n",
              "      <td>NaN</td>\n",
              "      <td>83000.0</td>\n",
              "    </tr>\n",
              "  </tbody>\n",
              "</table>\n",
              "</div>"
            ],
            "text/plain": [
              "      시도교육청 지역교육청         지역  ... 하복구매방식(기타사유) 하복구매방식(해당없음)  하복(평균)가격\n",
              "0  서울특별시교육청   교육부  서울특별시 강남구  ...          NaN          NaN   83000.0\n",
              "\n",
              "[1 rows x 23 columns]"
            ]
          },
          "metadata": {
            "tags": []
          },
          "execution_count": 4
        }
      ]
    },
    {
      "cell_type": "code",
      "metadata": {
        "colab": {
          "base_uri": "https://localhost:8080/"
        },
        "id": "3TcJ3L6SBIM4",
        "outputId": "bffdadd3-3dee-4ca7-b97d-0d6b7881c94b"
      },
      "source": [
        "df0.columns"
      ],
      "execution_count": 5,
      "outputs": [
        {
          "output_type": "execute_result",
          "data": {
            "text/plain": [
              "Index(['시도교육청', '지역교육청', '지역', '정보공시 학교코드', '학교명', '학교급코드', '설립구분', '제외여부',\n",
              "       '제외사유', '동복구매방식(학교주관구매)', '동복구매방식(공동구매)', '동복구매방식(개별구매)', '동복구매방식(기타)',\n",
              "       '동복구매방식(기타사유)', '동복구매방식(해당없음)', '동복(평균)가격', '하복구매방식(학교주관구매)',\n",
              "       '하복구매방식(공동구매)', '하복구매방식(개별구매)', '하복구매방식(기타)', '하복구매방식(기타사유)',\n",
              "       '하복구매방식(해당없음)', '하복(평균)가격'],\n",
              "      dtype='object')"
            ]
          },
          "metadata": {
            "tags": []
          },
          "execution_count": 5
        }
      ]
    },
    {
      "cell_type": "code",
      "metadata": {
        "id": "lPNvB6hHBGG_"
      },
      "source": [
        "list2 = [df0, df1, df2, df3, df4, df5]\n",
        "columns = ['지역', '학교명','학교급코드', '동복(평균)가격','하복(평균)가격']\n",
        "def clean(df):\n",
        "    df = df.copy()\n",
        "    df= df[columns]\n",
        "    return df\n",
        "\n",
        "df0 = clean(df0)\n",
        "df1 = clean(df1)\n",
        "df2 = clean(df2)\n",
        "df3 = clean(df3)\n",
        "df4 = clean(df4)\n",
        "df5 = clean(df5)"
      ],
      "execution_count": 8,
      "outputs": []
    },
    {
      "cell_type": "code",
      "metadata": {
        "id": "fU2KiMEmBaWY"
      },
      "source": [
        "y18 = pd.concat([df0, df1]).reset_index().iloc[:, 1:]\n",
        "y19 = pd.concat([df2, df3]).reset_index().iloc[:, 1:]\n",
        "y20 = pd.concat([df4, df5]).reset_index().iloc[:, 1:]"
      ],
      "execution_count": 10,
      "outputs": []
    },
    {
      "cell_type": "code",
      "metadata": {
        "colab": {
          "base_uri": "https://localhost:8080/"
        },
        "id": "6-V7pq9IB3Ly",
        "outputId": "12b1bf31-f555-4aab-9f1f-f7c740a23542"
      },
      "source": [
        "y18.columns"
      ],
      "execution_count": 13,
      "outputs": [
        {
          "output_type": "execute_result",
          "data": {
            "text/plain": [
              "Index(['지역', '학교명', '학교급코드', '동복(평균)가격', '하복(평균)가격'], dtype='object')"
            ]
          },
          "metadata": {
            "tags": []
          },
          "execution_count": 13
        }
      ]
    },
    {
      "cell_type": "code",
      "metadata": {
        "id": "Pemmt2BbBnTu"
      },
      "source": [
        "y18 = y18.rename(columns = {'동복(평균)가격' : '18동복가격',\n",
        "                            '하복(평균)가격' : '18하복가격'}, inplace = False)\n",
        "\n",
        "y19 = y19.rename(columns = {'동복(평균)가격' : '19동복가격',\n",
        "                            '하복(평균)가격' : '19하복가격'}, inplace = False)\n",
        "\n",
        "y20 = y20.rename(columns = {'동복(평균)가격' : '20동복가격',\n",
        "                            '하복(평균)가격' : '20하복가격'}, inplace = False)\n"
      ],
      "execution_count": 25,
      "outputs": []
    },
    {
      "cell_type": "code",
      "metadata": {
        "id": "Ab0eiAQ1EhFg"
      },
      "source": [
        ""
      ],
      "execution_count": null,
      "outputs": []
    }
  ]
}