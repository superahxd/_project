{
  "nbformat": 4,
  "nbformat_minor": 0,
  "metadata": {
    "colab": {
      "name": "modeling",
      "provenance": [],
      "collapsed_sections": [],
      "machine_shape": "hm",
      "include_colab_link": true
    },
    "kernelspec": {
      "name": "python3",
      "display_name": "Python 3"
    },
    "language_info": {
      "name": "python"
    },
    "accelerator": "GPU"
  },
  "cells": [
    {
      "cell_type": "markdown",
      "metadata": {
        "id": "view-in-github",
        "colab_type": "text"
      },
      "source": [
        "<a href=\"https://colab.research.google.com/github/superahxd/_project/blob/main/project2/modeling.ipynb\" target=\"_parent\"><img src=\"https://colab.research.google.com/assets/colab-badge.svg\" alt=\"Open In Colab\"/></a>"
      ]
    },
    {
      "cell_type": "markdown",
      "metadata": {
        "id": "KMa0QsYyP5Mn"
      },
      "source": [
        "## 0. Setting"
      ]
    },
    {
      "cell_type": "code",
      "metadata": {
        "colab": {
          "base_uri": "https://localhost:8080/"
        },
        "id": "7QSn1EYYprTL",
        "outputId": "17abd255-1e65-471b-865c-97bd31022ea6"
      },
      "source": [
        "# drive.mount\n",
        "from google.colab import drive\n",
        "drive.mount('/content/drive/')"
      ],
      "execution_count": null,
      "outputs": [
        {
          "output_type": "stream",
          "name": "stdout",
          "text": [
            "Drive already mounted at /content/drive/; to attempt to forcibly remount, call drive.mount(\"/content/drive/\", force_remount=True).\n"
          ]
        }
      ]
    },
    {
      "cell_type": "code",
      "metadata": {
        "id": "0ol_xnAe2OkT"
      },
      "source": [
        "import numpy as np\n",
        "import pandas as pd\n",
        "\n",
        "from numpy import argmax"
      ],
      "execution_count": null,
      "outputs": []
    },
    {
      "cell_type": "code",
      "metadata": {
        "id": "8c4V23g5wczJ",
        "colab": {
          "base_uri": "https://localhost:8080/"
        },
        "outputId": "e3e43d0c-288a-477b-e0f5-4686af57ad3e"
      },
      "source": [
        "train_x = np.load('/content/drive/MyDrive/Colab Notebooks/Study/Codestate_AI/Project_2/train_x_no_crop_1_180_1_224_blur_0_255_x12_shu.npy')\n",
        "train_y = np.load('/content/drive/MyDrive/Colab Notebooks/Study/Codestate_AI/Project_2/train_y_no_crop_1_180_1_224_blur_0_255_x12_shu.npy')\n",
        "\n",
        "# 결과 확인\n",
        "train_x.shape, train_y.shape"
      ],
      "execution_count": null,
      "outputs": [
        {
          "output_type": "execute_result",
          "data": {
            "text/plain": [
              "((143376, 224, 224), (143376,))"
            ]
          },
          "metadata": {},
          "execution_count": 3
        }
      ]
    },
    {
      "cell_type": "code",
      "metadata": {
        "id": "W4ZEuO9W5omU",
        "colab": {
          "base_uri": "https://localhost:8080/"
        },
        "outputId": "7dc7a423-db7c-45bf-f762-c8c2c81bad89"
      },
      "source": [
        "# 부여한 랜덤 값 확인\n",
        "print(set(train_y))\n",
        "print(len(set(train_y)))"
      ],
      "execution_count": null,
      "outputs": [
        {
          "output_type": "stream",
          "name": "stdout",
          "text": [
            "{0, 1, 2, 3, 4, 5, 6, 7, 8, 9, 10, 11, 12, 13, 14, 15, 16, 17, 18, 19, 20, 21, 22, 23, 24, 25, 26, 27, 28, 29, 30, 31, 32, 33, 34, 35, 36, 37, 38, 39, 40, 41, 42, 43, 44, 45, 46, 47, 48, 49, 50, 51, 52, 53, 54, 55, 56, 57, 58, 59, 60, 61, 62, 63, 64, 65, 66, 67, 68, 69, 70, 71, 72, 73, 74, 75, 76, 77, 78, 79, 80, 81, 82, 83, 84, 85, 86, 87, 88, 89, 90, 91, 92, 93, 94, 95, 96, 97, 98, 99, 100, 101, 102, 103, 104, 105, 106, 107, 108, 109, 110, 111, 112, 113, 114, 115, 116, 117, 118, 119, 120, 121, 122, 123, 124, 125, 126, 127, 128, 129, 130, 131, 132, 133, 134, 135, 136, 137, 138, 139, 140, 141, 142, 143, 144, 145, 146, 147, 148, 149, 150, 151, 152, 153, 154, 155, 156, 157, 158, 159, 160, 161, 162, 163, 164, 165, 166, 167, 168, 169, 170, 171, 172, 173, 174, 175, 176, 177, 178, 179, 180}\n",
            "181\n"
          ]
        }
      ]
    },
    {
      "cell_type": "code",
      "metadata": {
        "id": "qwaP91sCCaJM"
      },
      "source": [
        " # 정규화 진행\n",
        "\"\"\"\n",
        "불러온 데이터가 정규화를 안했다면 실행\n",
        "\"\"\"\n",
        "train_y = train_y / 180.0"
      ],
      "execution_count": null,
      "outputs": []
    },
    {
      "cell_type": "code",
      "metadata": {
        "colab": {
          "base_uri": "https://localhost:8080/"
        },
        "id": "kSBQshODNYa6",
        "outputId": "d5e9d7de-4a9d-4185-8106-f054ccd03126"
      },
      "source": [
        "train_y[0:10]"
      ],
      "execution_count": null,
      "outputs": [
        {
          "output_type": "execute_result",
          "data": {
            "text/plain": [
              "array([0.41666667, 0.06666667, 0.80555556, 0.29444444, 0.84444444,\n",
              "       0.52222222, 0.54444444, 0.17777778, 0.34444444, 0.64444444])"
            ]
          },
          "metadata": {},
          "execution_count": 7
        }
      ]
    },
    {
      "cell_type": "code",
      "metadata": {
        "id": "v_k9WfeHWMCU"
      },
      "source": [
        "from keras import layers\n",
        "from keras.models import Model, Sequential\n",
        "\n",
        "from tensorflow.keras.layers import Dense, Dropout, GlobalAveragePooling2D\n",
        "from tensorflow.keras.optimizers import Adam\n",
        "\n",
        "from keras.callbacks import EarlyStopping\n",
        "\n",
        "early_stopping = EarlyStopping(monitor = 'val_loss', min_delta = 0, patience = 5, mode = 'auto')"
      ],
      "execution_count": null,
      "outputs": []
    },
    {
      "cell_type": "markdown",
      "metadata": {
        "id": "wHla8vPIUHrQ"
      },
      "source": [
        "## 1. VGG16"
      ]
    },
    {
      "cell_type": "code",
      "metadata": {
        "id": "b2FCpNwrcYdD"
      },
      "source": [
        "from keras.models import Model\n",
        "from keras.layers import Input \n",
        "\n",
        "img_input = layers.Input(shape=(224, 224, 1))\n",
        "img_conc = layers.Concatenate()([img_input, img_input, img_input])"
      ],
      "execution_count": null,
      "outputs": []
    },
    {
      "cell_type": "code",
      "metadata": {
        "id": "qvx77byhTYxp"
      },
      "source": [
        "# load base model\n",
        "from keras.applications.vgg16 import VGG16, preprocess_input\n",
        "\n",
        "vgg16_weight_path = '/content/drive/MyDrive/Colab Notebooks/Study/Codestate_AI/Project_2/data_array/vgg16_weights_tf_dim_ordering_tf_kernels_notop.h5'\n",
        "base_model = VGG16(\n",
        "    weights=vgg16_weight_path,\n",
        "    include_top=False, \n",
        "    input_tensor=img_conc)"
      ],
      "execution_count": null,
      "outputs": []
    },
    {
      "cell_type": "code",
      "metadata": {
        "id": "OH-Rv84J4Tg7"
      },
      "source": [
        "NUM_CLASSES = 1\n",
        "\n",
        "model = Sequential()\n",
        "model.add(base_model)\n",
        "model.add(layers.Flatten())\n",
        "model.add(layers.Dropout(0.2))\n",
        "model.add(layers.Dense(NUM_CLASSES, activation='sigmoid'))\n",
        "\n",
        "model.layers[0].trainable = False\n",
        "\n",
        "model.compile(\n",
        "        loss='mse',\n",
        "        optimizer=Adam(learning_rate=0.0001),\n",
        "        metrics=['mse']\n",
        "        )"
      ],
      "execution_count": null,
      "outputs": []
    },
    {
      "cell_type": "code",
      "metadata": {
        "colab": {
          "base_uri": "https://localhost:8080/"
        },
        "id": "1kBdazi1URQ3",
        "outputId": "d90744c6-602f-4b8b-d95f-60bd2993bdb8"
      },
      "source": [
        "history = model.fit(train_x, train_y, \n",
        "          validation_split=0.3,\n",
        "          epochs=10,\n",
        "          batch_size=128,\n",
        "          callbacks = [early_stopping])"
      ],
      "execution_count": null,
      "outputs": [
        {
          "output_type": "stream",
          "name": "stdout",
          "text": [
            "Epoch 1/10\n",
            "785/785 [==============================] - 264s 304ms/step - loss: 0.0184 - mse: 0.0184 - val_loss: 0.0073 - val_mse: 0.0073\n",
            "Epoch 2/10\n",
            "785/785 [==============================] - 235s 299ms/step - loss: 0.0076 - mse: 0.0076 - val_loss: 0.0052 - val_mse: 0.0052\n",
            "Epoch 3/10\n",
            "785/785 [==============================] - 235s 299ms/step - loss: 0.0060 - mse: 0.0060 - val_loss: 0.0045 - val_mse: 0.0045\n",
            "Epoch 4/10\n",
            "785/785 [==============================] - 235s 299ms/step - loss: 0.0051 - mse: 0.0051 - val_loss: 0.0039 - val_mse: 0.0039\n",
            "Epoch 5/10\n",
            "785/785 [==============================] - 235s 299ms/step - loss: 0.0046 - mse: 0.0046 - val_loss: 0.0039 - val_mse: 0.0039\n",
            "Epoch 6/10\n",
            "785/785 [==============================] - 235s 299ms/step - loss: 0.0043 - mse: 0.0043 - val_loss: 0.0035 - val_mse: 0.0035\n",
            "Epoch 7/10\n",
            "785/785 [==============================] - 235s 300ms/step - loss: 0.0041 - mse: 0.0041 - val_loss: 0.0033 - val_mse: 0.0033\n",
            "Epoch 8/10\n",
            "785/785 [==============================] - 235s 300ms/step - loss: 0.0039 - mse: 0.0039 - val_loss: 0.0034 - val_mse: 0.0034\n",
            "Epoch 9/10\n",
            "785/785 [==============================] - 235s 299ms/step - loss: 0.0038 - mse: 0.0038 - val_loss: 0.0032 - val_mse: 0.0032\n",
            "Epoch 10/10\n",
            "785/785 [==============================] - 235s 299ms/step - loss: 0.0037 - mse: 0.0037 - val_loss: 0.0031 - val_mse: 0.0031\n"
          ]
        }
      ]
    }
  ]
}